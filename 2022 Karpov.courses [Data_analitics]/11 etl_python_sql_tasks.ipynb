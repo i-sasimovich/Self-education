{
 "cells": [
  {
   "cell_type": "markdown",
   "id": "090f5d4d",
   "metadata": {},
   "source": [
    "# 6.1\n",
    "Применим знания на практике: с помощью pandahouse попробуем выгрузить нужные данные из ClickHouse и проанализируем их в python. \n",
    "\n",
    "На этот раз новый датасет, содержащий информацию об объявлениях на Airbnb в Лондоне 🇬🇧.\n",
    "\n",
    "ldn_listings – информация о жилье, включая полные описания, характеристики и средние оценки в отзывах; поскольку столбцов очень много, нужные перечислены в текстах самих задач\n",
    "\n",
    "Пригодится: \n",
    "* Как подключиться к ClickHouse через pandahouse?\n",
    "* Как зайти в ClickHouse?\n",
    "* Если у Вас есть вопросы, напишите сюда."
   ]
  },
  {
   "cell_type": "markdown",
   "id": "ab501ebc",
   "metadata": {},
   "source": [
    "# 6.2\n",
    "Для начала, проверим правильность подключения к ClickHouse через pandahouse, отправив простой запрос: выведите количество строк в таблице ldn_listings."
   ]
  },
  {
   "cell_type": "markdown",
   "id": "68fb4eaf",
   "metadata": {},
   "source": [
    "Установить библиотеку  можно, запустив такую команду в ячейке вашего Jupyter Notebook:\n",
    "* pip install pandahouse"
   ]
  },
  {
   "cell_type": "code",
   "execution_count": 1,
   "id": "726d1b32",
   "metadata": {},
   "outputs": [],
   "source": [
    "#импортируем нужные либы\n",
    "import pandahouse as ph\n",
    "import pandas as pd"
   ]
  },
  {
   "cell_type": "code",
   "execution_count": 6,
   "id": "379933a5",
   "metadata": {},
   "outputs": [],
   "source": [
    "#объявляем параметры подключения\n",
    "connection = dict(database='default',\n",
    "                  host='https://clickhouse.lab.karpov.courses',\n",
    "                  user='student',\n",
    "                  password='dpo_python_2020')"
   ]
  },
  {
   "cell_type": "code",
   "execution_count": 3,
   "id": "dc9dde21",
   "metadata": {},
   "outputs": [
    {
     "data": {
      "text/plain": [
       "b'85207\\n'"
      ]
     },
     "execution_count": 3,
     "metadata": {},
     "output_type": "execute_result"
    }
   ],
   "source": [
    "# запрос на количество строк можно задать в такой переменной:\n",
    "query = \"\"\"\n",
    "SELECT \n",
    "    COUNT(*)\n",
    "    FROM ldn_listings\n",
    "\"\"\"\n",
    "ph.execute(query, connection=connection)  # Запустить запрос"
   ]
  },
  {
   "cell_type": "markdown",
   "id": "0f444b69",
   "metadata": {},
   "source": [
    "# 6.3\n",
    "Выгрузите из таблицы данные о цене в зависимости от типа жилья. \n",
    "\n",
    "Необходимые столбцы:\n",
    "* price – цена за ночь\n",
    "* room_type – тип сдаваемого жилья (доступные варианты: Entire home/apt, Private room, Hotel room, Shared room)\n",
    "* Ограничение поставьте на 1000 строк. Результат должен быть отсортирован по возрастанию id.\n",
    "\n",
    "Пример результирующей таблицы: \n",
    "+-----------------+------------+\n",
    "| room_type       | price      |\n",
    "+-----------------+------------+\n",
    "| Private room    |         65 | \n",
    "| Entire home/apt |        100 | \n",
    "+-----------------+------------+\n",
    "\n",
    "Hint: replaceRegexpAll(столбец, что_заменить, на_что_заменить) – паттерн [$,] чтобы избавиться от $ и запятых; toFloat32OrNull(столбец)\n",
    "\n",
    "Сгруппируйте полученный датафрейм по типу жилья и посчитайте 75-й перцентиль цены."
   ]
  },
  {
   "cell_type": "code",
   "execution_count": 23,
   "id": "b2373ede",
   "metadata": {
    "scrolled": false
   },
   "outputs": [],
   "source": [
    "query_2 = \"\"\"\n",
    "SELECT\n",
    "       id,\n",
    "       room_type,\n",
    "       toFloat32OrNull(replaceRegexpAll(price, '[$,]', '')) AS price\n",
    "FROM {db}.ldn_listings\n",
    "GROUP BY\n",
    "       room_type, \n",
    "       id, \n",
    "       price\n",
    "ORDER BY id ASC \n",
    "LIMIT 1000\n",
    "\"\"\"\n",
    "\n",
    "df = ph.read_clickhouse(query_2, connection=connection)\n",
    "#пишем запрос, и записываем полученные данные из clickhouse в pandas dataframe"
   ]
  },
  {
   "cell_type": "code",
   "execution_count": 24,
   "id": "b8798bf9",
   "metadata": {},
   "outputs": [
    {
     "data": {
      "text/html": [
       "<div>\n",
       "<style scoped>\n",
       "    .dataframe tbody tr th:only-of-type {\n",
       "        vertical-align: middle;\n",
       "    }\n",
       "\n",
       "    .dataframe tbody tr th {\n",
       "        vertical-align: top;\n",
       "    }\n",
       "\n",
       "    .dataframe thead th {\n",
       "        text-align: right;\n",
       "    }\n",
       "</style>\n",
       "<table border=\"1\" class=\"dataframe\">\n",
       "  <thead>\n",
       "    <tr style=\"text-align: right;\">\n",
       "      <th></th>\n",
       "      <th>id</th>\n",
       "      <th>room_type</th>\n",
       "      <th>price</th>\n",
       "    </tr>\n",
       "  </thead>\n",
       "  <tbody>\n",
       "    <tr>\n",
       "      <th>0</th>\n",
       "      <td>13913</td>\n",
       "      <td>Private room</td>\n",
       "      <td>65.0</td>\n",
       "    </tr>\n",
       "    <tr>\n",
       "      <th>1</th>\n",
       "      <td>15400</td>\n",
       "      <td>Entire home/apt</td>\n",
       "      <td>100.0</td>\n",
       "    </tr>\n",
       "    <tr>\n",
       "      <th>2</th>\n",
       "      <td>17402</td>\n",
       "      <td>Entire home/apt</td>\n",
       "      <td>300.0</td>\n",
       "    </tr>\n",
       "    <tr>\n",
       "      <th>3</th>\n",
       "      <td>17506</td>\n",
       "      <td>Private room</td>\n",
       "      <td>150.0</td>\n",
       "    </tr>\n",
       "    <tr>\n",
       "      <th>4</th>\n",
       "      <td>25023</td>\n",
       "      <td>Entire home/apt</td>\n",
       "      <td>65.0</td>\n",
       "    </tr>\n",
       "  </tbody>\n",
       "</table>\n",
       "</div>"
      ],
      "text/plain": [
       "      id        room_type  price\n",
       "0  13913     Private room   65.0\n",
       "1  15400  Entire home/apt  100.0\n",
       "2  17402  Entire home/apt  300.0\n",
       "3  17506     Private room  150.0\n",
       "4  25023  Entire home/apt   65.0"
      ]
     },
     "execution_count": 24,
     "metadata": {},
     "output_type": "execute_result"
    }
   ],
   "source": [
    "df.head()"
   ]
  },
  {
   "cell_type": "code",
   "execution_count": 42,
   "id": "ed7a48a3",
   "metadata": {},
   "outputs": [
    {
     "data": {
      "text/plain": [
       "70.0"
      ]
     },
     "execution_count": 42,
     "metadata": {},
     "output_type": "execute_result"
    }
   ],
   "source": [
    "df.query('room_type == \"Private room\"').price.quantile(0.75)"
   ]
  },
  {
   "cell_type": "code",
   "execution_count": 45,
   "id": "2c80136d",
   "metadata": {},
   "outputs": [],
   "source": [
    "# Разбор\n",
    "# Необходимые данные можно выгрузить следующим запросом:\n",
    "query = '''\n",
    "SELECT \n",
    "\troom_type,\n",
    "\ttoFloat32OrNull(replaceRegexpAll(price, '[$,]', '')) as price\n",
    "FROM\n",
    "\tldn_listings\n",
    "limit 1000\n",
    "'''"
   ]
  },
  {
   "cell_type": "code",
   "execution_count": 46,
   "id": "44893717",
   "metadata": {},
   "outputs": [],
   "source": [
    "# Далее можно обработать датафрейм средствами python:\n",
    "df = df.groupby(['room_type'])['price'].quantile(q=0.75).reset_index()"
   ]
  },
  {
   "cell_type": "code",
   "execution_count": 48,
   "id": "311d7dad",
   "metadata": {},
   "outputs": [
    {
     "data": {
      "text/html": [
       "<div>\n",
       "<style scoped>\n",
       "    .dataframe tbody tr th:only-of-type {\n",
       "        vertical-align: middle;\n",
       "    }\n",
       "\n",
       "    .dataframe tbody tr th {\n",
       "        vertical-align: top;\n",
       "    }\n",
       "\n",
       "    .dataframe thead th {\n",
       "        text-align: right;\n",
       "    }\n",
       "</style>\n",
       "<table border=\"1\" class=\"dataframe\">\n",
       "  <thead>\n",
       "    <tr style=\"text-align: right;\">\n",
       "      <th></th>\n",
       "      <th>room_type</th>\n",
       "      <th>price</th>\n",
       "    </tr>\n",
       "  </thead>\n",
       "  <tbody>\n",
       "    <tr>\n",
       "      <th>2</th>\n",
       "      <td>Private room</td>\n",
       "      <td>70.0</td>\n",
       "    </tr>\n",
       "  </tbody>\n",
       "</table>\n",
       "</div>"
      ],
      "text/plain": [
       "      room_type  price\n",
       "2  Private room   70.0"
      ]
     },
     "execution_count": 48,
     "metadata": {},
     "output_type": "execute_result"
    }
   ],
   "source": [
    "df[df['room_type'] == 'Private room']"
   ]
  },
  {
   "cell_type": "code",
   "execution_count": null,
   "id": "372e07e9",
   "metadata": {},
   "outputs": [],
   "source": [
    "# Разбор\n",
    "# Необходимые данные можно выгрузить следующим запросом: \n",
    "\n",
    "# query = '''\n",
    "# SELECT \n",
    "# \troom_type,\n",
    "# \ttoFloat32OrNull(replaceRegexpAll(price, '[$,]', '')) as price\n",
    "# FROM\n",
    "# \tldn_listings\n",
    "# ORDER BY\n",
    "#         id ASC\n",
    "# limit 1000\n",
    "# '''\n",
    "\n",
    "# df = ph.read_clickhouse(query, connection=connection)\n",
    "# Далее необходимо посчитать 75 процентиль для цены по типу сдаваемого жилья:\n",
    "\n",
    "# df = df.groupby(['room_type'])['price'].quantile(q=0.75).reset_index()\n",
    "# Нас интересует private room\n",
    "\n",
    "# df[df['room_type'] == 'Private room']"
   ]
  },
  {
   "cell_type": "markdown",
   "id": "728f33c5",
   "metadata": {},
   "source": [
    "# 6.4\n",
    "\n",
    "К данным о цене и типе комнаты дополнительно выгрузите данные о рейтинге жилья (review_scores_rating). В запросе необходимо будет отфильтровать пустые значения review_scores_rating и сконвертировать эту колонку в тип float32.\n",
    "\n",
    "Hint: toFloat32OrNull(столбец)\n",
    "\n",
    "Давайте построим график рассеивания, который покажет зависимость средней цены от средней оценки в зависимости от типа жилья.\n",
    "\n",
    "Исходная таблица должна выглядеть так:\n",
    "\n",
    "+-----------------+------------+--------------------+\n",
    "| room_type       | price      |review_scores_rating|\n",
    "+-----------------+------------+--------------------+\n",
    "| Private room    |         65 | 96.0               |\n",
    "| Entire home/apt |        100 | 78.0               |\n",
    "+-----------------+------------+--------------------+\n",
    "1) сгруппируйте датафрейм по типу жилья и посчитайте среднее для цены и рейтинга (не забудьте привести рейтинг к типу float)\n",
    "\n",
    "2) используйте sns.scatterplot, чтобы построить график рассеивания средней цены (ось X) и рейтинга (ось Y) c разбивкой по типу жилья (параметр hue)\n",
    "\n",
    "Hint: документация sns.scatterplot\n",
    "\n",
    " \n",
    "\n",
    "Если у Вас есть вопросы, напишите сюда.\n",
    "\n",
    "Среди представленных ниже графиков выберите корректный:"
   ]
  },
  {
   "cell_type": "code",
   "execution_count": 50,
   "id": "05e46a42",
   "metadata": {},
   "outputs": [],
   "source": [
    "# Разбор\n",
    "# Необходимые данные можно выгрузить следующим запросом:\n",
    "query = '''\n",
    "SELECT \n",
    "    room_type,\n",
    "    toFloat32OrNull(replaceRegexpAll(price, '[$,]', '')) as price,\n",
    "    toFloat32OrNull(review_scores_rating) as review_scores_rating\n",
    "FROM\n",
    "    ldn_listings\n",
    "WHERE review_scores_rating IS NOT NULL\n",
    "limit 1000\n",
    "'''\n",
    "df = ph.read_clickhouse(query, connection=connection)"
   ]
  },
  {
   "cell_type": "code",
   "execution_count": 59,
   "id": "10cf4d42",
   "metadata": {},
   "outputs": [
    {
     "data": {
      "text/html": [
       "<div>\n",
       "<style scoped>\n",
       "    .dataframe tbody tr th:only-of-type {\n",
       "        vertical-align: middle;\n",
       "    }\n",
       "\n",
       "    .dataframe tbody tr th {\n",
       "        vertical-align: top;\n",
       "    }\n",
       "\n",
       "    .dataframe thead th {\n",
       "        text-align: right;\n",
       "    }\n",
       "</style>\n",
       "<table border=\"1\" class=\"dataframe\">\n",
       "  <thead>\n",
       "    <tr style=\"text-align: right;\">\n",
       "      <th></th>\n",
       "      <th>room_type</th>\n",
       "      <th>price</th>\n",
       "      <th>review_scores_rating</th>\n",
       "    </tr>\n",
       "  </thead>\n",
       "  <tbody>\n",
       "    <tr>\n",
       "      <th>0</th>\n",
       "      <td>Entire home/apt</td>\n",
       "      <td>135.882950</td>\n",
       "      <td>93.568787</td>\n",
       "    </tr>\n",
       "    <tr>\n",
       "      <th>1</th>\n",
       "      <td>Hotel room</td>\n",
       "      <td>134.000000</td>\n",
       "      <td>92.500000</td>\n",
       "    </tr>\n",
       "    <tr>\n",
       "      <th>2</th>\n",
       "      <td>Private room</td>\n",
       "      <td>54.642437</td>\n",
       "      <td>94.766205</td>\n",
       "    </tr>\n",
       "    <tr>\n",
       "      <th>3</th>\n",
       "      <td>Shared room</td>\n",
       "      <td>21.000000</td>\n",
       "      <td>90.000000</td>\n",
       "    </tr>\n",
       "  </tbody>\n",
       "</table>\n",
       "</div>"
      ],
      "text/plain": [
       "         room_type       price  review_scores_rating\n",
       "0  Entire home/apt  135.882950             93.568787\n",
       "1       Hotel room  134.000000             92.500000\n",
       "2     Private room   54.642437             94.766205\n",
       "3      Shared room   21.000000             90.000000"
      ]
     },
     "execution_count": 59,
     "metadata": {},
     "output_type": "execute_result"
    }
   ],
   "source": [
    "zzz = df.groupby('room_type', as_index = False).agg({'price':'mean', 'review_scores_rating':'mean'})\n",
    "zzz"
   ]
  },
  {
   "cell_type": "code",
   "execution_count": 60,
   "id": "37990696",
   "metadata": {},
   "outputs": [],
   "source": [
    "# импортируем библиотеку seaborn (для визуализации)\n",
    "import seaborn as sns\n",
    "# импортируем библиотеку matplotlib.pyplot (для визуализации)\n",
    "import matplotlib.pyplot as plt"
   ]
  },
  {
   "cell_type": "code",
   "execution_count": 64,
   "id": "9b1fd23d",
   "metadata": {},
   "outputs": [
    {
     "data": {
      "text/plain": [
       "<AxesSubplot:xlabel='price', ylabel='review_scores_rating'>"
      ]
     },
     "execution_count": 64,
     "metadata": {},
     "output_type": "execute_result"
    },
    {
     "data": {
      "image/png": "[encoded data removed]",
      "text/plain": [
       "<Figure size 432x288 with 1 Axes>"
      ]
     },
     "metadata": {
      "needs_background": "light"
     },
     "output_type": "display_data"
    }
   ],
   "source": [
    "# график рассеивания\n",
    "sns.scatterplot(x = 'price', y = 'review_scores_rating',  hue = 'room_type', data = zzz)"
   ]
  },
  {
   "cell_type": "code",
   "execution_count": null,
   "id": "e7a1018b",
   "metadata": {},
   "outputs": [],
   "source": [
    "# Разбор\n",
    "# Для начала необходимо выгрузить запросом и обработать данные:\n",
    "\n",
    "# query = '''\n",
    "# SELECT \n",
    "# \troom_type,\n",
    "#     toFloat32OrNull(review_scores_rating) as rsr,\n",
    "# \ttoFloat32OrNull(replaceRegexpAll(price, '[$,]', '')) as price\n",
    "# FROM\n",
    "# \tldn_listings\n",
    "# where rsr is not null\n",
    "# order by id\n",
    "# limit 1000\n",
    "# '''\n",
    "# df = ph.read_clickhouse(query, connection=connection)\n",
    "# df = df.groupby(['room_type'], as_index=False) \\\n",
    "#      .agg({'price': 'mean',\n",
    "#            'rsr': 'mean'})\n",
    "# Затем строим график, передавая в параметры необходимые значения:\n",
    "\n",
    "# sns.scatterplot(data=df, x ='price', y='rsr', hue='room_type')\n",
    "# Правильный ответ: 2"
   ]
  },
  {
   "cell_type": "markdown",
   "id": "ed01c7d5",
   "metadata": {},
   "source": [
    "# 6.5\n",
    "\n",
    "Итак, помимо аренды жилья, на Airbnb также есть \"Впечатления\" — мероприятия, которые организуют местные жители.\n",
    "\n",
    "Проверим, какие способы верификации аккаунта использовали хозяева, предлагающие различные впечатления (experiences_offered != 'none'). Для каждого уникального пользователя выгрузите только две колонки:\n",
    "\n",
    "* host_id – идентификатор хозяина (уникальный)\n",
    "* host_verifications – какими способами хост подтвердил свой профиль\n",
    "\n",
    "Затем обработайте столбец host_verifications:\n",
    "\n",
    "1. В ячейках находятся строковые представления списка (например, как результат str([1, 2, 3])). Приведите их к настоящему списку, где в качестве элементов будут храниться использованные способы подтверждения аккаунта:\n",
    "\n",
    "                     \"['email', 'phone', 'facebook']\" -> ['email', 'phone', 'facebook']\n",
    "\n",
    "2. Используйте методы explode и value_counts, чтобы посчитать, сколько раз встречается каждый способ верификации\n",
    "\n",
    "Сколько хозяев подтвердили профиль с помощью аккаунта Google?"
   ]
  },
  {
   "cell_type": "code",
   "execution_count": 78,
   "id": "0cacbf07",
   "metadata": {},
   "outputs": [],
   "source": [
    "query_6_5 = '''\n",
    "SELECT \n",
    "    DISTINCT host_id,\n",
    "    host_verifications\n",
    "FROM\n",
    "    {db}.ldn_listings\n",
    "WHERE experiences_offered != 'none'\n",
    "'''\n",
    "df_6_5 = ph.read_clickhouse(query_6_5, connection=connection)"
   ]
  },
  {
   "cell_type": "code",
   "execution_count": 79,
   "id": "757048c3",
   "metadata": {},
   "outputs": [
    {
     "data": {
      "text/html": [
       "<div>\n",
       "<style scoped>\n",
       "    .dataframe tbody tr th:only-of-type {\n",
       "        vertical-align: middle;\n",
       "    }\n",
       "\n",
       "    .dataframe tbody tr th {\n",
       "        vertical-align: top;\n",
       "    }\n",
       "\n",
       "    .dataframe thead th {\n",
       "        text-align: right;\n",
       "    }\n",
       "</style>\n",
       "<table border=\"1\" class=\"dataframe\">\n",
       "  <thead>\n",
       "    <tr style=\"text-align: right;\">\n",
       "      <th></th>\n",
       "      <th>host_id</th>\n",
       "      <th>host_verifications</th>\n",
       "    </tr>\n",
       "  </thead>\n",
       "  <tbody>\n",
       "    <tr>\n",
       "      <th>0</th>\n",
       "      <td>54730</td>\n",
       "      <td>['email', 'phone', 'facebook', 'reviews', 'off...</td>\n",
       "    </tr>\n",
       "    <tr>\n",
       "      <th>1</th>\n",
       "      <td>60302</td>\n",
       "      <td>['email', 'phone', 'reviews', 'jumio', 'govern...</td>\n",
       "    </tr>\n",
       "    <tr>\n",
       "      <th>2</th>\n",
       "      <td>67915</td>\n",
       "      <td>['email', 'phone', 'jumio', 'selfie', 'governm...</td>\n",
       "    </tr>\n",
       "    <tr>\n",
       "      <th>3</th>\n",
       "      <td>167107</td>\n",
       "      <td>['email', 'phone', 'manual_offline', 'jumio', ...</td>\n",
       "    </tr>\n",
       "    <tr>\n",
       "      <th>4</th>\n",
       "      <td>103583</td>\n",
       "      <td>['email', 'phone', 'reviews', 'offline_governm...</td>\n",
       "    </tr>\n",
       "  </tbody>\n",
       "</table>\n",
       "</div>"
      ],
      "text/plain": [
       "   host_id                                 host_verifications\n",
       "0    54730  ['email', 'phone', 'facebook', 'reviews', 'off...\n",
       "1    60302  ['email', 'phone', 'reviews', 'jumio', 'govern...\n",
       "2    67915  ['email', 'phone', 'jumio', 'selfie', 'governm...\n",
       "3   167107  ['email', 'phone', 'manual_offline', 'jumio', ...\n",
       "4   103583  ['email', 'phone', 'reviews', 'offline_governm..."
      ]
     },
     "execution_count": 79,
     "metadata": {},
     "output_type": "execute_result"
    }
   ],
   "source": [
    "df_6_5.head()"
   ]
  },
  {
   "cell_type": "code",
   "execution_count": 82,
   "id": "71d7b9c9",
   "metadata": {},
   "outputs": [
    {
     "data": {
      "text/plain": [
       "email                     1345\n",
       " phone                    1345\n",
       " reviews                  1309\n",
       " government_id            1196\n",
       " jumio                    1115\n",
       " offline_government_id     469\n",
       " work_email                279\n",
       " facebook                  270\n",
       " selfie                    252\n",
       " identity_manual           227\n",
       " manual_offline             70\n",
       " google                     34\n",
       " kba                        27\n",
       "phone                       16\n",
       " manual_online              16\n",
       " sent_id                     6\n",
       "Name: host_verifications, dtype: int64"
      ]
     },
     "execution_count": 82,
     "metadata": {},
     "output_type": "execute_result"
    }
   ],
   "source": [
    "df_6_5.host_verifications = df_6_5.host_verifications.str.strip('[]').str.replace(\"'\",'').str.split(',')\n",
    "# Функция strip()  используется для  удаления начальных и конечных символов, переданных в неё. Удаляем [].\n",
    "# .replace(\"'\",'') заменяем \"'\" на ''\n",
    "# .str.split(',') делим по ','\n",
    "df_6_5.explode('host_verifications').host_verifications.value_counts()"
   ]
  },
  {
   "cell_type": "code",
   "execution_count": 1,
   "id": "c78eaa45",
   "metadata": {},
   "outputs": [],
   "source": [
    "# Разбор\n",
    "# Первоначально выгружаем данные при помощи запроса:\n",
    "\n",
    "# q = \"\"\"\n",
    "# SELECT\n",
    "#     DISTINCT host_id,\n",
    "#     host_verifications\n",
    "# FROM\n",
    "#     ldn_listings\n",
    "# WHERE\n",
    "#     experiences_offered != 'none'\n",
    "# \"\"\"\n",
    "\n",
    "# df = ph.read_clickhouse(q, connection=connection)\n",
    "# Далее обрабатываем его с помощью pandas\n",
    "\n",
    "# df = df \\\n",
    "#  .host_verifications \\\n",
    "#  .apply(lambda x: x.strip('[]').replace(\"'\", '').split(', ')) \\\n",
    "#  .explode() \\\n",
    "#  .value_counts()\n",
    "# Правильный ответ: 34"
   ]
  },
  {
   "cell_type": "markdown",
   "id": "5fbf4144",
   "metadata": {},
   "source": [
    "# 6.6\n",
    "Теперь посмотрим, для скольких объявлений и в каких районах хозяева указали впечатления. Сгруппируйте данные по району и виду впечатления и посчитайте количество объявлений. Новый столбец назовите experiences_count.\n",
    "\n",
    "Пример трёх строк результирующей таблицы: в районе City of London для 7 объявлений указан тип впечатления business, для одного – family.\n",
    "\n",
    "+------------------------+---------------------+-------------------+\n",
    "| neighbourhood_cleansed | experiences_offered | experiences_count |\n",
    "+------------------------+---------------------+-------------------+\n",
    "| City of London         | business            |                 7 |\n",
    "| City of London         | family              |                 1 |\n",
    "| City of London         | romantic            |                 1 |\n",
    "+------------------------+---------------------+-------------------+\n",
    "\n",
    "Отсортируйте данные по убыванию experiences_count и выгрузите первые 100 строк. Затем преобразуйте данные с помощью pivot, поместив в индексы название района, столбцы – вид впечатления, а значения – число объявлений с таким впечатлением для каждого района. Визуализируйте результат с помощью sns.heatmap() c палитрой cmap=sns.cubehelix_palette(as_cmap=True).  \n",
    "\n",
    " \n",
    "\n",
    "Если у Вас есть вопросы, напишите сюда.\n",
    "\n",
    "Какой график получился?"
   ]
  },
  {
   "cell_type": "code",
   "execution_count": 114,
   "id": "18788603",
   "metadata": {},
   "outputs": [],
   "source": [
    "q_6_6 = \"\"\"\n",
    "SELECT\n",
    "        neighbourhood_cleansed, \n",
    "        experiences_offered,\n",
    "        count(*) AS experiences_count\n",
    "FROM\n",
    "        ldn_listings\n",
    "WHERE\n",
    "        experiences_offered != 'none'\n",
    "GROUP BY \n",
    "        neighbourhood_cleansed, \n",
    "        experiences_offered\n",
    "ORDER BY \n",
    "        experiences_count DESC\n",
    "LIMIT 100\n",
    "\n",
    "\"\"\"\n",
    "df_6_6 = ph.read_clickhouse(q_6_6, connection=connection)"
   ]
  },
  {
   "cell_type": "code",
   "execution_count": 115,
   "id": "f4319aa0",
   "metadata": {},
   "outputs": [
    {
     "data": {
      "text/html": [
       "<div>\n",
       "<style scoped>\n",
       "    .dataframe tbody tr th:only-of-type {\n",
       "        vertical-align: middle;\n",
       "    }\n",
       "\n",
       "    .dataframe tbody tr th {\n",
       "        vertical-align: top;\n",
       "    }\n",
       "\n",
       "    .dataframe thead th {\n",
       "        text-align: right;\n",
       "    }\n",
       "</style>\n",
       "<table border=\"1\" class=\"dataframe\">\n",
       "  <thead>\n",
       "    <tr style=\"text-align: right;\">\n",
       "      <th></th>\n",
       "      <th>neighbourhood_cleansed</th>\n",
       "      <th>experiences_offered</th>\n",
       "      <th>experiences_count</th>\n",
       "    </tr>\n",
       "  </thead>\n",
       "  <tbody>\n",
       "    <tr>\n",
       "      <th>0</th>\n",
       "      <td>Hackney</td>\n",
       "      <td>family</td>\n",
       "      <td>61</td>\n",
       "    </tr>\n",
       "    <tr>\n",
       "      <th>1</th>\n",
       "      <td>Tower Hamlets</td>\n",
       "      <td>business</td>\n",
       "      <td>58</td>\n",
       "    </tr>\n",
       "    <tr>\n",
       "      <th>2</th>\n",
       "      <td>Westminster</td>\n",
       "      <td>business</td>\n",
       "      <td>50</td>\n",
       "    </tr>\n",
       "    <tr>\n",
       "      <th>3</th>\n",
       "      <td>Hackney</td>\n",
       "      <td>social</td>\n",
       "      <td>49</td>\n",
       "    </tr>\n",
       "    <tr>\n",
       "      <th>4</th>\n",
       "      <td>Hammersmith and Fulham</td>\n",
       "      <td>business</td>\n",
       "      <td>48</td>\n",
       "    </tr>\n",
       "    <tr>\n",
       "      <th>...</th>\n",
       "      <td>...</td>\n",
       "      <td>...</td>\n",
       "      <td>...</td>\n",
       "    </tr>\n",
       "    <tr>\n",
       "      <th>95</th>\n",
       "      <td>Redbridge</td>\n",
       "      <td>social</td>\n",
       "      <td>2</td>\n",
       "    </tr>\n",
       "    <tr>\n",
       "      <th>96</th>\n",
       "      <td>Barking and Dagenham</td>\n",
       "      <td>social</td>\n",
       "      <td>2</td>\n",
       "    </tr>\n",
       "    <tr>\n",
       "      <th>97</th>\n",
       "      <td>Newham</td>\n",
       "      <td>romantic</td>\n",
       "      <td>1</td>\n",
       "    </tr>\n",
       "    <tr>\n",
       "      <th>98</th>\n",
       "      <td>Bexley</td>\n",
       "      <td>business</td>\n",
       "      <td>1</td>\n",
       "    </tr>\n",
       "    <tr>\n",
       "      <th>99</th>\n",
       "      <td>City of London</td>\n",
       "      <td>family</td>\n",
       "      <td>1</td>\n",
       "    </tr>\n",
       "  </tbody>\n",
       "</table>\n",
       "<p>100 rows × 3 columns</p>\n",
       "</div>"
      ],
      "text/plain": [
       "    neighbourhood_cleansed experiences_offered  experiences_count\n",
       "0                  Hackney              family                 61\n",
       "1            Tower Hamlets            business                 58\n",
       "2              Westminster            business                 50\n",
       "3                  Hackney              social                 49\n",
       "4   Hammersmith and Fulham            business                 48\n",
       "..                     ...                 ...                ...\n",
       "95               Redbridge              social                  2\n",
       "96    Barking and Dagenham              social                  2\n",
       "97                  Newham            romantic                  1\n",
       "98                  Bexley            business                  1\n",
       "99          City of London              family                  1\n",
       "\n",
       "[100 rows x 3 columns]"
      ]
     },
     "execution_count": 115,
     "metadata": {},
     "output_type": "execute_result"
    }
   ],
   "source": [
    "df_6_6"
   ]
  },
  {
   "cell_type": "code",
   "execution_count": 116,
   "id": "c894e938",
   "metadata": {},
   "outputs": [],
   "source": [
    "df_6_6_pivot = df_6_6.pivot(index = 'neighbourhood_cleansed', columns = 'experiences_offered', values ='experiences_count')"
   ]
  },
  {
   "cell_type": "code",
   "execution_count": 117,
   "id": "1cfce3c7",
   "metadata": {},
   "outputs": [
    {
     "data": {
      "text/plain": [
       "<AxesSubplot:xlabel='experiences_offered', ylabel='neighbourhood_cleansed'>"
      ]
     },
     "execution_count": 117,
     "metadata": {},
     "output_type": "execute_result"
    },
    {
     "data": {
      "image/png": "[encoded data removed]",
      "text/plain": [
       "<Figure size 432x288 with 2 Axes>"
      ]
     },
     "metadata": {
      "needs_background": "light"
     },
     "output_type": "display_data"
    }
   ],
   "source": [
    "sns.heatmap(data = df_6_6_pivot, cmap=sns.cubehelix_palette(as_cmap=True))"
   ]
  },
  {
   "cell_type": "code",
   "execution_count": null,
   "id": "b48c572d",
   "metadata": {},
   "outputs": [],
   "source": [
    "# Разбор\n",
    "# Для начала подготавливаем данные с количеством впечатлений по району и виду впечатления:\n",
    "\n",
    "# q = \"\"\"\n",
    "# SELECT  \n",
    "#     neighbourhood_cleansed,\n",
    "#     experiences_offered,\n",
    "#     COUNT(*) AS experiences_count\n",
    "# FROM \n",
    "#     ldn_listings\n",
    "# WHERE\n",
    "#     experiences_offered != 'none'\n",
    "# GROUP BY\n",
    "#     neighbourhood_cleansed,\n",
    "#     experiences_offered\n",
    "# ORDER BY\n",
    "#     experiences_count DESC\n",
    "# LIMIT 100\"\"\"\n",
    "\n",
    "# experiences = ph.read_clickhouse(q, connection=connection)\n",
    "# Не забываем указать корректную сортировку.\n",
    "\n",
    "# Далее составляем pivot таблицу и строим график:\n",
    "\n",
    "# sns.heatmap(experiences.pivot(index= 'neighbourhood_cleansed', \\\n",
    "#  columns='experiences_offered', values = 'experiences_count'), \\\n",
    "#                cmap=sns.cubehelix_palette(as_cmap=True))\n",
    "# Правильный ответ: 1"
   ]
  },
  {
   "cell_type": "markdown",
   "id": "dd332bc8",
   "metadata": {},
   "source": [
    "# 6.7\n",
    "\n",
    "Выгрузите данные о ценах за ночь для разных типов жилья, для которых также доступен какой-либо вид впечатления. Необходимые для составления запроса столбцы:\n",
    "\n",
    "room_type – тип сдаваемого жилья (доступные варианты: Entire home/apt, Private room, Hotel room, Shared room)\n",
    "price – цена за ночь \n",
    "experiences_offered – вид доступного впечатления (оставить не 'none')\n",
    "Пример части результирующей таблицы:\n",
    "\n",
    "+-----------------+------------+\n",
    "| room_type       | price_corr |\n",
    "+-----------------+------------+\n",
    "| Private room    |         65 |\n",
    "| Entire home/apt |        100 |\n",
    "| Entire home/apt |        ... |\n",
    "+-----------------+------------+\n",
    "Hint: replaceRegexpAll(столбец, что_заменить, на_что_заменить) – паттерн [$,] чтобы избавиться от $ и запятых; toFloat32OrNull(столбец)\n",
    "\n",
    "Далее постройте два графика, используя distplot из библиотеки seaborn:\n",
    "\n",
    "На первом отобразите исходные распределения цен для каждого типа жилья\n",
    "На втором – логарифмированные значения (np.log())\n",
    "Если у Вас есть вопросы, напишите сюда.\n",
    "\n",
    "Среди представленных графиков выберите два соответствующих.Картинка в полном размере: здесь"
   ]
  },
  {
   "cell_type": "code",
   "execution_count": 125,
   "id": "1677b423",
   "metadata": {},
   "outputs": [],
   "source": [
    "q_6_7 = \"\"\"\n",
    "SELECT\n",
    "        room_type, \n",
    "        toFloat32OrNull(replaceRegexpAll(price, '[$,]', '')) AS price_corr\n",
    "FROM\n",
    "        ldn_listings\n",
    "WHERE\n",
    "        experiences_offered != 'none'\n",
    "\n",
    "\"\"\"\n",
    "df_6_7 = ph.read_clickhouse(q_6_7, connection=connection)"
   ]
  },
  {
   "cell_type": "code",
   "execution_count": 135,
   "id": "0e1dd5b2",
   "metadata": {},
   "outputs": [
    {
     "data": {
      "text/html": [
       "<div>\n",
       "<style scoped>\n",
       "    .dataframe tbody tr th:only-of-type {\n",
       "        vertical-align: middle;\n",
       "    }\n",
       "\n",
       "    .dataframe tbody tr th {\n",
       "        vertical-align: top;\n",
       "    }\n",
       "\n",
       "    .dataframe thead th {\n",
       "        text-align: right;\n",
       "    }\n",
       "</style>\n",
       "<table border=\"1\" class=\"dataframe\">\n",
       "  <thead>\n",
       "    <tr style=\"text-align: right;\">\n",
       "      <th></th>\n",
       "      <th>room_type</th>\n",
       "      <th>price_corr</th>\n",
       "    </tr>\n",
       "  </thead>\n",
       "  <tbody>\n",
       "    <tr>\n",
       "      <th>0</th>\n",
       "      <td>Private room</td>\n",
       "      <td>65.0</td>\n",
       "    </tr>\n",
       "    <tr>\n",
       "      <th>1</th>\n",
       "      <td>Entire home/apt</td>\n",
       "      <td>100.0</td>\n",
       "    </tr>\n",
       "    <tr>\n",
       "      <th>2</th>\n",
       "      <td>Private room</td>\n",
       "      <td>150.0</td>\n",
       "    </tr>\n",
       "    <tr>\n",
       "      <th>3</th>\n",
       "      <td>Private room</td>\n",
       "      <td>45.0</td>\n",
       "    </tr>\n",
       "    <tr>\n",
       "      <th>4</th>\n",
       "      <td>Private room</td>\n",
       "      <td>25.0</td>\n",
       "    </tr>\n",
       "    <tr>\n",
       "      <th>...</th>\n",
       "      <td>...</td>\n",
       "      <td>...</td>\n",
       "    </tr>\n",
       "    <tr>\n",
       "      <th>1543</th>\n",
       "      <td>Entire home/apt</td>\n",
       "      <td>100.0</td>\n",
       "    </tr>\n",
       "    <tr>\n",
       "      <th>1544</th>\n",
       "      <td>Entire home/apt</td>\n",
       "      <td>125.0</td>\n",
       "    </tr>\n",
       "    <tr>\n",
       "      <th>1545</th>\n",
       "      <td>Entire home/apt</td>\n",
       "      <td>185.0</td>\n",
       "    </tr>\n",
       "    <tr>\n",
       "      <th>1546</th>\n",
       "      <td>Entire home/apt</td>\n",
       "      <td>110.0</td>\n",
       "    </tr>\n",
       "    <tr>\n",
       "      <th>1547</th>\n",
       "      <td>Private room</td>\n",
       "      <td>39.0</td>\n",
       "    </tr>\n",
       "  </tbody>\n",
       "</table>\n",
       "<p>1548 rows × 2 columns</p>\n",
       "</div>"
      ],
      "text/plain": [
       "            room_type  price_corr\n",
       "0        Private room        65.0\n",
       "1     Entire home/apt       100.0\n",
       "2        Private room       150.0\n",
       "3        Private room        45.0\n",
       "4        Private room        25.0\n",
       "...               ...         ...\n",
       "1543  Entire home/apt       100.0\n",
       "1544  Entire home/apt       125.0\n",
       "1545  Entire home/apt       185.0\n",
       "1546  Entire home/apt       110.0\n",
       "1547     Private room        39.0\n",
       "\n",
       "[1548 rows x 2 columns]"
      ]
     },
     "execution_count": 135,
     "metadata": {},
     "output_type": "execute_result"
    }
   ],
   "source": [
    "df_6_7"
   ]
  },
  {
   "cell_type": "code",
   "execution_count": 145,
   "id": "6eab3098",
   "metadata": {},
   "outputs": [
    {
     "data": {
      "text/plain": [
       "<AxesSubplot:xlabel='price_corr'>"
      ]
     },
     "execution_count": 145,
     "metadata": {},
     "output_type": "execute_result"
    },
    {
     "data": {
      "image/png": "[encoded data removed]",
      "text/plain": [
       "<Figure size 864x576 with 1 Axes>"
      ]
     },
     "metadata": {
      "needs_background": "light"
     },
     "output_type": "display_data"
    }
   ],
   "source": [
    "plt.figure(figsize=(12,8))\n",
    "sns.distplot(df_6_7.query(\"room_type == 'Private room'\").price_corr, kde = False)\n",
    "sns.distplot(df_6_7.query(\"room_type == 'Entire home/apt'\").price_corr, kde = False)\n",
    "sns.distplot(df_6_7.query(\"room_type == 'Hotel room'\").price_corr, kde = False)\n",
    "sns.distplot(df_6_7.query(\"room_type == 'Shared room'\").price_corr, kde = False)"
   ]
  },
  {
   "cell_type": "code",
   "execution_count": 151,
   "id": "ae1fedb1",
   "metadata": {},
   "outputs": [],
   "source": [
    "import numpy as np"
   ]
  },
  {
   "cell_type": "code",
   "execution_count": 161,
   "id": "628cb4d0",
   "metadata": {},
   "outputs": [],
   "source": [
    "# находим логарифмированные значения\n",
    "x1=np.log(df_6_7.query(\"room_type == 'Private room'\").price_corr)\n",
    "x2=np.log(df_6_7.query(\"room_type == 'Entire home/apt'\").price_corr)\n",
    "x3=np.log(df_6_7.query(\"room_type == 'Hotel room'\").price_corr)\n",
    "x3=np.log(df_6_7.query(\"room_type == 'Shared room'\").price_corr)"
   ]
  },
  {
   "cell_type": "code",
   "execution_count": 162,
   "id": "15509a21",
   "metadata": {},
   "outputs": [
    {
     "ename": "NameError",
     "evalue": "name 'x4' is not defined",
     "output_type": "error",
     "traceback": [
      "\u001b[1;31m---------------------------------------------------------------------------\u001b[0m",
      "\u001b[1;31mNameError\u001b[0m                                 Traceback (most recent call last)",
      "\u001b[1;32m~\\AppData\\Local\\Temp/ipykernel_6892/3718937897.py\u001b[0m in \u001b[0;36m<module>\u001b[1;34m\u001b[0m\n\u001b[0;32m      3\u001b[0m \u001b[0msns\u001b[0m\u001b[1;33m.\u001b[0m\u001b[0mdistplot\u001b[0m\u001b[1;33m(\u001b[0m\u001b[0mx2\u001b[0m\u001b[1;33m,\u001b[0m \u001b[0mkde\u001b[0m \u001b[1;33m=\u001b[0m \u001b[1;32mFalse\u001b[0m\u001b[1;33m)\u001b[0m\u001b[1;33m\u001b[0m\u001b[1;33m\u001b[0m\u001b[0m\n\u001b[0;32m      4\u001b[0m \u001b[0msns\u001b[0m\u001b[1;33m.\u001b[0m\u001b[0mdistplot\u001b[0m\u001b[1;33m(\u001b[0m\u001b[0mx3\u001b[0m\u001b[1;33m,\u001b[0m \u001b[0mkde\u001b[0m \u001b[1;33m=\u001b[0m \u001b[1;32mFalse\u001b[0m\u001b[1;33m)\u001b[0m\u001b[1;33m\u001b[0m\u001b[1;33m\u001b[0m\u001b[0m\n\u001b[1;32m----> 5\u001b[1;33m \u001b[0msns\u001b[0m\u001b[1;33m.\u001b[0m\u001b[0mdistplot\u001b[0m\u001b[1;33m(\u001b[0m\u001b[0mx4\u001b[0m\u001b[1;33m,\u001b[0m \u001b[0mkde\u001b[0m \u001b[1;33m=\u001b[0m \u001b[1;32mFalse\u001b[0m\u001b[1;33m)\u001b[0m\u001b[1;33m\u001b[0m\u001b[1;33m\u001b[0m\u001b[0m\n\u001b[0m",
      "\u001b[1;31mNameError\u001b[0m: name 'x4' is not defined"
     ]
    },
    {
     "data": {
      "image/png": "[encoded data removed]",
      "text/plain": [
       "<Figure size 864x576 with 1 Axes>"
      ]
     },
     "metadata": {
      "needs_background": "light"
     },
     "output_type": "display_data"
    }
   ],
   "source": [
    "plt.figure(figsize=(12,8))\n",
    "sns.distplot(x1, kde = False)\n",
    "sns.distplot(x2, kde = False)\n",
    "sns.distplot(x3, kde = False)\n",
    "sns.distplot(x4, kde = False)"
   ]
  },
  {
   "cell_type": "code",
   "execution_count": null,
   "id": "e97e284b",
   "metadata": {},
   "outputs": [],
   "source": [
    "# C помощью подобного запроса выгружаем информацию о стоимости жилья различного типа:\n",
    "\n",
    "# query = '''\n",
    "# SELECT\n",
    "#     toFloat32OrNull(replaceRegexpAll(price, '[$,]', '')) as price_corr,\n",
    "#     room_type\n",
    "# FROM\n",
    "#     ldn_listings\n",
    "# WHERE\n",
    "#     experiences_offered != 'none'\n",
    "# '''\n",
    "\n",
    "# df = ph.read_clickhouse(query, connection=connection)\n",
    "# Графики можно построить с помощью seaborn:\n",
    "\n",
    "# sns.distplot((df.query(\"room_type=='Entire home/apt'\").price_corr), kde=False, label='entire home/apt')\n",
    "# sns.distplot((df.query(\"room_type=='Private room'\").price_corr), kde=False, label='private room')\n",
    "# sns.distplot((df.query(\"room_type=='Hotel room'\").price_corr), kde=False, label='hotel room')\n",
    "# sns.distplot((df.query(\"room_type=='Shared room'\").price_corr), kde=False, label='shared room')\n",
    "# plt.legend()\n",
    "# plt.show()\n",
    "# Для построения логарифмированных значений можно воспользоваться np.log():\n",
    "\n",
    "# sns.distplot(np.log(df.query(\"room_type=='Entire home/apt'\").price_corr), kde=False, label='entire home/apt')\n",
    "# sns.distplot(np.log(df.query(\"room_type=='Private room'\").price_corr), kde=False, label='private room')\n",
    "# sns.distplot(np.log(df.query(\"room_type=='Hotel room'\").price_corr), kde=False, label='hotel room')\n",
    "# sns.distplot(np.log(df.query(\"room_type=='Shared room'\").price_corr), kde=False, label='shared room')\n",
    "# plt.legend()\n",
    "# plt.show()"
   ]
  },
  {
   "cell_type": "markdown",
   "id": "0121459e",
   "metadata": {},
   "source": [
    "#  6.8\n",
    "Выгрузите данные о цене, типе жилья и дате первого отзыва, начиная со 2 января 2010 года. Необходимые столбцы:\n",
    "\n",
    "room_type – тип сдаваемого жилья (доступные варианты: Entire home/apt, Private room, Hotel room, Shared room)\n",
    "price – цена за ночь\n",
    "first_review – дата первого отзыва (отфильтровать по правилу \"строго больше 2010-01-01\")\n",
    "Ограничение поставьте на 1000 строк.\n",
    "\n",
    "Hint: replaceRegexpAll(столбец, что_заменить, на_что_заменить) – паттерн [$,] чтобы избавиться от $ и запятых; toFloat32OrNull(столбец)\n",
    "\n",
    "Пример результирующей таблицы:\n",
    "\n",
    "+-----------------+------------+------------+\n",
    "| room_type       | price_corr |first_review|\n",
    "+-----------------+------------+------------+\n",
    "| Private room    |         65 | 2010-03-23 |\n",
    "| Entire home/apt |        100 | 2012-01-01 |\n",
    "+-----------------+------------+------------+\n",
    "Используя библиотеку seaborn и функцию lineplot, постройте график динамики средних цен на жилье (ось Y) в зависимости от типа комнаты (цвет линии, параметр 'hue') по годам (ось X). Датафрейм должен быть отсортирован по годам.\n",
    "\n",
    "Пример датафрейма, который будет служить основой для графика:\n",
    "\n",
    "+-----------------+------------+------------+\n",
    "| room_type       | avg_price  | year       |\n",
    "+-----------------+------------+------------+\n",
    "| Private room    |         54 | 2010       |\n",
    "| Entire home/apt |        168 | 2012       |\n",
    "+-----------------+------------+------------+\n",
    "Hints: line plot; удалите последние 6 символов у значений в столбце даты, чтобы получить год, например, с помощью применения lambda-функции .\n",
    "\n",
    "Среди представленных ниже графиков выберите корректный.\n",
    "\n",
    " "
   ]
  },
  {
   "cell_type": "code",
   "execution_count": 176,
   "id": "4f40d5e2",
   "metadata": {},
   "outputs": [],
   "source": [
    "q_6_8 = \"\"\"\n",
    "SELECT\n",
    "        room_type, \n",
    "        toFloat32OrNull(replaceRegexpAll(price, '[$,]', '')) AS price_corr,\n",
    "        first_review\n",
    "FROM\n",
    "        ldn_listings\n",
    "WHERE\n",
    "        first_review > '2010-01-01'\n",
    "LIMIT 1000\n",
    "\n",
    "\"\"\"\n",
    "df_6_8 = ph.read_clickhouse(q_6_8, connection=connection)"
   ]
  },
  {
   "cell_type": "code",
   "execution_count": 177,
   "id": "1195cb77",
   "metadata": {},
   "outputs": [
    {
     "data": {
      "text/html": [
       "<div>\n",
       "<style scoped>\n",
       "    .dataframe tbody tr th:only-of-type {\n",
       "        vertical-align: middle;\n",
       "    }\n",
       "\n",
       "    .dataframe tbody tr th {\n",
       "        vertical-align: top;\n",
       "    }\n",
       "\n",
       "    .dataframe thead th {\n",
       "        text-align: right;\n",
       "    }\n",
       "</style>\n",
       "<table border=\"1\" class=\"dataframe\">\n",
       "  <thead>\n",
       "    <tr style=\"text-align: right;\">\n",
       "      <th></th>\n",
       "      <th>room_type</th>\n",
       "      <th>price_corr</th>\n",
       "      <th>first_review</th>\n",
       "    </tr>\n",
       "  </thead>\n",
       "  <tbody>\n",
       "    <tr>\n",
       "      <th>0</th>\n",
       "      <td>Private room</td>\n",
       "      <td>65.0</td>\n",
       "      <td>2010-08-18</td>\n",
       "    </tr>\n",
       "    <tr>\n",
       "      <th>1</th>\n",
       "      <td>Entire home/apt</td>\n",
       "      <td>300.0</td>\n",
       "      <td>2011-03-21</td>\n",
       "    </tr>\n",
       "    <tr>\n",
       "      <th>2</th>\n",
       "      <td>Entire home/apt</td>\n",
       "      <td>65.0</td>\n",
       "      <td>2016-03-05</td>\n",
       "    </tr>\n",
       "    <tr>\n",
       "      <th>3</th>\n",
       "      <td>Private room</td>\n",
       "      <td>29.0</td>\n",
       "      <td>2010-04-14</td>\n",
       "    </tr>\n",
       "    <tr>\n",
       "      <th>4</th>\n",
       "      <td>Private room</td>\n",
       "      <td>100.0</td>\n",
       "      <td>2010-10-16</td>\n",
       "    </tr>\n",
       "    <tr>\n",
       "      <th>...</th>\n",
       "      <td>...</td>\n",
       "      <td>...</td>\n",
       "      <td>...</td>\n",
       "    </tr>\n",
       "    <tr>\n",
       "      <th>995</th>\n",
       "      <td>Private room</td>\n",
       "      <td>45.0</td>\n",
       "      <td>2012-11-07</td>\n",
       "    </tr>\n",
       "    <tr>\n",
       "      <th>996</th>\n",
       "      <td>Private room</td>\n",
       "      <td>51.0</td>\n",
       "      <td>2013-03-18</td>\n",
       "    </tr>\n",
       "    <tr>\n",
       "      <th>997</th>\n",
       "      <td>Entire home/apt</td>\n",
       "      <td>79.0</td>\n",
       "      <td>2012-09-17</td>\n",
       "    </tr>\n",
       "    <tr>\n",
       "      <th>998</th>\n",
       "      <td>Entire home/apt</td>\n",
       "      <td>110.0</td>\n",
       "      <td>2012-09-24</td>\n",
       "    </tr>\n",
       "    <tr>\n",
       "      <th>999</th>\n",
       "      <td>Private room</td>\n",
       "      <td>70.0</td>\n",
       "      <td>2012-11-26</td>\n",
       "    </tr>\n",
       "  </tbody>\n",
       "</table>\n",
       "<p>1000 rows × 3 columns</p>\n",
       "</div>"
      ],
      "text/plain": [
       "           room_type  price_corr first_review\n",
       "0       Private room        65.0   2010-08-18\n",
       "1    Entire home/apt       300.0   2011-03-21\n",
       "2    Entire home/apt        65.0   2016-03-05\n",
       "3       Private room        29.0   2010-04-14\n",
       "4       Private room       100.0   2010-10-16\n",
       "..               ...         ...          ...\n",
       "995     Private room        45.0   2012-11-07\n",
       "996     Private room        51.0   2013-03-18\n",
       "997  Entire home/apt        79.0   2012-09-17\n",
       "998  Entire home/apt       110.0   2012-09-24\n",
       "999     Private room        70.0   2012-11-26\n",
       "\n",
       "[1000 rows x 3 columns]"
      ]
     },
     "execution_count": 177,
     "metadata": {},
     "output_type": "execute_result"
    }
   ],
   "source": [
    "df_6_8"
   ]
  },
  {
   "cell_type": "code",
   "execution_count": 178,
   "id": "a738407a",
   "metadata": {},
   "outputs": [
    {
     "data": {
      "text/plain": [
       "0      2010-08-18\n",
       "1      2011-03-21\n",
       "2      2016-03-05\n",
       "3      2010-04-14\n",
       "4      2010-10-16\n",
       "          ...    \n",
       "995    2012-11-07\n",
       "996    2013-03-18\n",
       "997    2012-09-17\n",
       "998    2012-09-24\n",
       "999    2012-11-26\n",
       "Name: first_review, Length: 1000, dtype: object"
      ]
     },
     "execution_count": 178,
     "metadata": {},
     "output_type": "execute_result"
    }
   ],
   "source": [
    "df_6_8.first_review"
   ]
  },
  {
   "cell_type": "code",
   "execution_count": 173,
   "id": "3dd803d2",
   "metadata": {},
   "outputs": [],
   "source": [
    "df_6_8['year'] = df_6_8.first_review.apply(lambda x: x[:4])"
   ]
  },
  {
   "cell_type": "code",
   "execution_count": 174,
   "id": "12405bcb",
   "metadata": {},
   "outputs": [
    {
     "data": {
      "text/html": [
       "<div>\n",
       "<style scoped>\n",
       "    .dataframe tbody tr th:only-of-type {\n",
       "        vertical-align: middle;\n",
       "    }\n",
       "\n",
       "    .dataframe tbody tr th {\n",
       "        vertical-align: top;\n",
       "    }\n",
       "\n",
       "    .dataframe thead th {\n",
       "        text-align: right;\n",
       "    }\n",
       "</style>\n",
       "<table border=\"1\" class=\"dataframe\">\n",
       "  <thead>\n",
       "    <tr style=\"text-align: right;\">\n",
       "      <th></th>\n",
       "      <th>room_type</th>\n",
       "      <th>price_corr</th>\n",
       "      <th>first_review</th>\n",
       "      <th>year</th>\n",
       "    </tr>\n",
       "  </thead>\n",
       "  <tbody>\n",
       "    <tr>\n",
       "      <th>0</th>\n",
       "      <td>Private room</td>\n",
       "      <td>65.0</td>\n",
       "      <td>2010-08-18</td>\n",
       "      <td>2010</td>\n",
       "    </tr>\n",
       "    <tr>\n",
       "      <th>1</th>\n",
       "      <td>Entire home/apt</td>\n",
       "      <td>300.0</td>\n",
       "      <td>2011-03-21</td>\n",
       "      <td>2011</td>\n",
       "    </tr>\n",
       "    <tr>\n",
       "      <th>2</th>\n",
       "      <td>Entire home/apt</td>\n",
       "      <td>65.0</td>\n",
       "      <td>2016-03-05</td>\n",
       "      <td>2016</td>\n",
       "    </tr>\n",
       "    <tr>\n",
       "      <th>3</th>\n",
       "      <td>Private room</td>\n",
       "      <td>29.0</td>\n",
       "      <td>2010-04-14</td>\n",
       "      <td>2010</td>\n",
       "    </tr>\n",
       "    <tr>\n",
       "      <th>4</th>\n",
       "      <td>Private room</td>\n",
       "      <td>100.0</td>\n",
       "      <td>2010-10-16</td>\n",
       "      <td>2010</td>\n",
       "    </tr>\n",
       "    <tr>\n",
       "      <th>...</th>\n",
       "      <td>...</td>\n",
       "      <td>...</td>\n",
       "      <td>...</td>\n",
       "      <td>...</td>\n",
       "    </tr>\n",
       "    <tr>\n",
       "      <th>995</th>\n",
       "      <td>Private room</td>\n",
       "      <td>45.0</td>\n",
       "      <td>2012-11-07</td>\n",
       "      <td>2012</td>\n",
       "    </tr>\n",
       "    <tr>\n",
       "      <th>996</th>\n",
       "      <td>Private room</td>\n",
       "      <td>51.0</td>\n",
       "      <td>2013-03-18</td>\n",
       "      <td>2013</td>\n",
       "    </tr>\n",
       "    <tr>\n",
       "      <th>997</th>\n",
       "      <td>Entire home/apt</td>\n",
       "      <td>79.0</td>\n",
       "      <td>2012-09-17</td>\n",
       "      <td>2012</td>\n",
       "    </tr>\n",
       "    <tr>\n",
       "      <th>998</th>\n",
       "      <td>Entire home/apt</td>\n",
       "      <td>110.0</td>\n",
       "      <td>2012-09-24</td>\n",
       "      <td>2012</td>\n",
       "    </tr>\n",
       "    <tr>\n",
       "      <th>999</th>\n",
       "      <td>Private room</td>\n",
       "      <td>70.0</td>\n",
       "      <td>2012-11-26</td>\n",
       "      <td>2012</td>\n",
       "    </tr>\n",
       "  </tbody>\n",
       "</table>\n",
       "<p>1000 rows × 4 columns</p>\n",
       "</div>"
      ],
      "text/plain": [
       "           room_type  price_corr first_review  year\n",
       "0       Private room        65.0   2010-08-18  2010\n",
       "1    Entire home/apt       300.0   2011-03-21  2011\n",
       "2    Entire home/apt        65.0   2016-03-05  2016\n",
       "3       Private room        29.0   2010-04-14  2010\n",
       "4       Private room       100.0   2010-10-16  2010\n",
       "..               ...         ...          ...   ...\n",
       "995     Private room        45.0   2012-11-07  2012\n",
       "996     Private room        51.0   2013-03-18  2013\n",
       "997  Entire home/apt        79.0   2012-09-17  2012\n",
       "998  Entire home/apt       110.0   2012-09-24  2012\n",
       "999     Private room        70.0   2012-11-26  2012\n",
       "\n",
       "[1000 rows x 4 columns]"
      ]
     },
     "execution_count": 174,
     "metadata": {},
     "output_type": "execute_result"
    }
   ],
   "source": [
    "df_6_8"
   ]
  },
  {
   "cell_type": "code",
   "execution_count": 175,
   "id": "1baba18b",
   "metadata": {},
   "outputs": [
    {
     "data": {
      "text/plain": [
       "<AxesSubplot:xlabel='year', ylabel='price_corr'>"
      ]
     },
     "execution_count": 175,
     "metadata": {},
     "output_type": "execute_result"
    },
    {
     "data": {
      "image/png": "[encoded data removed]",
      "text/plain": [
       "<Figure size 432x288 with 1 Axes>"
      ]
     },
     "metadata": {
      "needs_background": "light"
     },
     "output_type": "display_data"
    }
   ],
   "source": [
    "df_6_8 = df_6_8.groupby(['year', 'room_type'], as_index=False) \\\n",
    "    .agg({'price_corr': 'mean'})\n",
    "sns.lineplot(data=df_6_8, hue='room_type', x = 'year', y='price_corr')"
   ]
  },
  {
   "cell_type": "code",
   "execution_count": null,
   "id": "23724019",
   "metadata": {},
   "outputs": [],
   "source": [
    "# # Разбор\n",
    "# # Выгружаем необходимые данные с помощью запроса:\n",
    "\n",
    "# query = '''\n",
    "# SELECT \n",
    "#         room_type\n",
    "#     ,   toFloat32OrNull(replaceRegexpAll(price, '[$,]', '')) as price_corr\n",
    "#     ,   first_review\n",
    "# FROM\n",
    "#         ldn_listings\n",
    "# where first_review > '2010-01-01'\n",
    "# LIMIT 1000\n",
    "# '''\n",
    "# df = ph.read_clickhouse(query, connection=connection)\n",
    " \n",
    "\n",
    "# # C помощью lambda - выражения и функции apply() получаем значение года:\n",
    "\n",
    "# df['year'] = df.first_review.apply(lambda x: x[:4])\n",
    " \n",
    "\n",
    "# # Рассчитываем среднюю стоимость в зависимости от года и типа жилья. Строим график:\n",
    "\n",
    "# df = df.groupby(['year', 'room_type'], as_index=False) \\\n",
    "#     .agg({'price_corr': 'mean'})\n",
    "# sns.lineplot(data=df, hue='room_type', x = 'year', y='price_corr')\n",
    "# # Правильный ответ: 1"
   ]
  },
  {
   "cell_type": "code",
   "execution_count": 179,
   "id": "63c5522c",
   "metadata": {},
   "outputs": [],
   "source": [
    "l='2010-08-18'"
   ]
  },
  {
   "cell_type": "code",
   "execution_count": 180,
   "id": "d75f8f6f",
   "metadata": {},
   "outputs": [
    {
     "data": {
      "text/plain": [
       "'2010'"
      ]
     },
     "execution_count": 180,
     "metadata": {},
     "output_type": "execute_result"
    }
   ],
   "source": [
    "l[:4]"
   ]
  },
  {
   "cell_type": "code",
   "execution_count": null,
   "id": "ad60c826",
   "metadata": {},
   "outputs": [],
   "source": []
  }
 ],
 "metadata": {
  "kernelspec": {
   "display_name": "Python 3 (ipykernel)",
   "language": "python",
   "name": "python3"
  },
  "language_info": {
   "codemirror_mode": {
    "name": "ipython",
    "version": 3
   },
   "file_extension": ".py",
   "mimetype": "text/x-python",
   "name": "python",
   "nbconvert_exporter": "python",
   "pygments_lexer": "ipython3",
   "version": "3.9.7"
  }
 },
 "nbformat": 4,
 "nbformat_minor": 5
}
