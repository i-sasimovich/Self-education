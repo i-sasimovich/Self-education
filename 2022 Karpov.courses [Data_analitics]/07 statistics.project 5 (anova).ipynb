{
 "cells": [
  {
   "cell_type": "markdown",
   "id": "6fa45085",
   "metadata": {},
   "source": [
    "# Шаг 5.1\n",
    "\n",
    "На этот раз ситуация следующая: вы работаете в приложении по доставке готовых продуктов. К вам пришел коллега с результатами двух тестов:\n",
    "\n",
    "В первом тестировали разрешение фотографий блюд в приложении: пользователям показывались либо прямоугольные, либо новые квадратные \n",
    "Во втором: была обновлена кнопка заказа, и часть юзеров видела старый вариант, а часть – новый\n",
    "\n",
    "Коллега пришел к вам с просьбой: он посмотрел на графики и предположил, что среди групп могут встретиться различия. Ваша задача – помочь ему проверить гипотезы, сделать соответствующие выводы на основе статистических тестов и принять решения.\n",
    "\n",
    "Задания:\n",
    "\n",
    "* Выберите метод, который предположительно подойдет в первом вопросе.\n",
    "* Проверьте, являются ли дисперсии внутри групп гомогенными.\n",
    "* Проведите тест на нормальность распределения.\n",
    "* Сравните средние в представленных группах.\n",
    "* Используйте критерий Тьюки и определите, между какими группами есть статистически значимые различия. \n",
    "* Примите решение: какие картинки в итоге будем использовать?\n",
    "* Выберите метод для второго теста.\n",
    "* Визуализируйте распределение events для контрольной и тестовой групп. \n",
    "* Посмотрите на описательные статистики events в разбивке по группе и по сегменту пользователя. \n",
    "* - 11.Выберите формулу для модели, проведите тест.\n",
    "\n",
    "Описание данных\n",
    "\n",
    "* 5_task_1:\n",
    "    * id – id клиента в эксперименте\n",
    "    * group – в каком разрешении показывались картинки (A – прямоугольные 16:9, B – квадратные, C – прямоугольные 12:4)\n",
    "    * events – сколько блюд суммарно было заказано за период\n",
    "\n",
    "* 5_task_2:\n",
    "    * id – id клиента в эксперименте\n",
    "    * segment – сегмент (high/low)\n",
    "    * group – вид кнопки (control – старая версия, test – новая версия)\n",
    "    * events – сколько блюд суммарно было заказано за период"
   ]
  },
  {
   "cell_type": "markdown",
   "id": "a2fd241a",
   "metadata": {},
   "source": [
    "# Шаг 5.2\n",
    "\n",
    "Задание 1\n",
    "\n",
    "Итак, первая задача: нужно проверить, какой формат фотографий блюд является наилучшим, т.е. в какой из групп в среднем покупали больше всего. Всего пользователям показывались три варианта:\n",
    "\n",
    "* A – прямоугольные 16:9\n",
    "* B – квадратные\n",
    "* C – прямоугольные 12:4\n",
    "\n",
    "Каким статистическим тестом нужно воспользоваться для сравнения средних в данном случае?\n",
    "\n",
    "* ANOVA\n",
    "* сделаю вывод исключительно по графику\n",
    "* посчитаю хи-квадрат\n",
    "* t-test\n",
    "\n",
    "Ответ: ANOVA"
   ]
  },
  {
   "cell_type": "markdown",
   "id": "e2f47111",
   "metadata": {},
   "source": [
    "# Шаг 5.3\n",
    "\n",
    "Задание 2\n",
    "\n",
    "Проверьте, являются ли дисперсии внутри групп примерно одинаковыми (гомогенными) с помощью теста Левена.\n",
    "\n",
    "Hint: scipy.stats.levene либо pingouin.homoscedasticity\n",
    "\n",
    "Варианты: \n",
    "* p-value < 0.05, не отклоняем нулевую гипотезу\n",
    "* p-value > 0.05, не отклоняем нулевую гипотезу\n",
    "* p-value > 0.05, отклоняем нулевую гипотезу\n",
    "* p-value < 0.05, отклоняем нулевую гипотезу"
   ]
  },
  {
   "cell_type": "code",
   "execution_count": 2,
   "id": "ba6c1872",
   "metadata": {},
   "outputs": [],
   "source": [
    "import pandas as pd\n",
    "import numpy as np\n",
    "\n",
    "import scipy.stats as ss\n",
    "import statsmodels.api as sm\n",
    "import statsmodels.formula.api as smf\n",
    "from statsmodels.stats.api import anova_lm\n",
    "from statsmodels.stats.multicomp import (pairwise_tukeyhsd,\n",
    "                                         MultiComparison)\n",
    "import pingouin as pg\n",
    "\n",
    "import matplotlib.pyplot as plt\n",
    "import seaborn as sns"
   ]
  },
  {
   "cell_type": "code",
   "execution_count": 4,
   "id": "1f14f9df",
   "metadata": {},
   "outputs": [],
   "source": [
    "df1 = pd.read_csv('5_task_1.csv')"
   ]
  },
  {
   "cell_type": "code",
   "execution_count": 5,
   "id": "e23552cd",
   "metadata": {},
   "outputs": [
    {
     "data": {
      "text/html": [
       "<div>\n",
       "<style scoped>\n",
       "    .dataframe tbody tr th:only-of-type {\n",
       "        vertical-align: middle;\n",
       "    }\n",
       "\n",
       "    .dataframe tbody tr th {\n",
       "        vertical-align: top;\n",
       "    }\n",
       "\n",
       "    .dataframe thead th {\n",
       "        text-align: right;\n",
       "    }\n",
       "</style>\n",
       "<table border=\"1\" class=\"dataframe\">\n",
       "  <thead>\n",
       "    <tr style=\"text-align: right;\">\n",
       "      <th></th>\n",
       "      <th>id</th>\n",
       "      <th>group</th>\n",
       "      <th>events</th>\n",
       "    </tr>\n",
       "  </thead>\n",
       "  <tbody>\n",
       "    <tr>\n",
       "      <th>0</th>\n",
       "      <td>16046</td>\n",
       "      <td>A</td>\n",
       "      <td>14</td>\n",
       "    </tr>\n",
       "    <tr>\n",
       "      <th>1</th>\n",
       "      <td>18712</td>\n",
       "      <td>A</td>\n",
       "      <td>41</td>\n",
       "    </tr>\n",
       "    <tr>\n",
       "      <th>2</th>\n",
       "      <td>3268</td>\n",
       "      <td>A</td>\n",
       "      <td>30</td>\n",
       "    </tr>\n",
       "    <tr>\n",
       "      <th>3</th>\n",
       "      <td>22633</td>\n",
       "      <td>A</td>\n",
       "      <td>37</td>\n",
       "    </tr>\n",
       "    <tr>\n",
       "      <th>4</th>\n",
       "      <td>28071</td>\n",
       "      <td>A</td>\n",
       "      <td>38</td>\n",
       "    </tr>\n",
       "  </tbody>\n",
       "</table>\n",
       "</div>"
      ],
      "text/plain": [
       "      id group  events\n",
       "0  16046     A      14\n",
       "1  18712     A      41\n",
       "2   3268     A      30\n",
       "3  22633     A      37\n",
       "4  28071     A      38"
      ]
     },
     "execution_count": 5,
     "metadata": {},
     "output_type": "execute_result"
    }
   ],
   "source": [
    "df1.head()"
   ]
  },
  {
   "cell_type": "code",
   "execution_count": 7,
   "id": "417e5b35",
   "metadata": {},
   "outputs": [
    {
     "data": {
      "text/plain": [
       "(30000, 3)"
      ]
     },
     "execution_count": 7,
     "metadata": {},
     "output_type": "execute_result"
    }
   ],
   "source": [
    "df1.shape"
   ]
  },
  {
   "cell_type": "code",
   "execution_count": 23,
   "id": "b7006450",
   "metadata": {},
   "outputs": [],
   "source": [
    "# Нулевая гиппотеза - дисперсии гомогенны. Соответственно, альтернативная гипотеза - дисперсии гетерогенны (различаются)."
   ]
  },
  {
   "cell_type": "code",
   "execution_count": 18,
   "id": "b08a58d7",
   "metadata": {},
   "outputs": [],
   "source": [
    "df1A = df1.query('group == \"A\"').events\n",
    "df1B = df1.query('group == \"B\"').events\n",
    "df1C = df1.query('group == \"C\"').events"
   ]
  },
  {
   "cell_type": "code",
   "execution_count": 19,
   "id": "f48fa84d",
   "metadata": {},
   "outputs": [
    {
     "data": {
      "text/plain": [
       "LeveneResult(statistic=2.2622596339318037, pvalue=0.1041327199523974)"
      ]
     },
     "execution_count": 19,
     "metadata": {},
     "output_type": "execute_result"
    }
   ],
   "source": [
    "ss.levene(df1A, df1B, df1C)"
   ]
  },
  {
   "cell_type": "code",
   "execution_count": 24,
   "id": "4165b1d0",
   "metadata": {},
   "outputs": [
    {
     "data": {
      "text/html": [
       "<div>\n",
       "<style scoped>\n",
       "    .dataframe tbody tr th:only-of-type {\n",
       "        vertical-align: middle;\n",
       "    }\n",
       "\n",
       "    .dataframe tbody tr th {\n",
       "        vertical-align: top;\n",
       "    }\n",
       "\n",
       "    .dataframe thead th {\n",
       "        text-align: right;\n",
       "    }\n",
       "</style>\n",
       "<table border=\"1\" class=\"dataframe\">\n",
       "  <thead>\n",
       "    <tr style=\"text-align: right;\">\n",
       "      <th></th>\n",
       "      <th>W</th>\n",
       "      <th>pval</th>\n",
       "      <th>normal</th>\n",
       "    </tr>\n",
       "  </thead>\n",
       "  <tbody>\n",
       "    <tr>\n",
       "      <th>A</th>\n",
       "      <td>2.103460</td>\n",
       "      <td>0.349333</td>\n",
       "      <td>True</td>\n",
       "    </tr>\n",
       "    <tr>\n",
       "      <th>B</th>\n",
       "      <td>0.841072</td>\n",
       "      <td>0.656695</td>\n",
       "      <td>True</td>\n",
       "    </tr>\n",
       "    <tr>\n",
       "      <th>C</th>\n",
       "      <td>3.243726</td>\n",
       "      <td>0.197530</td>\n",
       "      <td>True</td>\n",
       "    </tr>\n",
       "  </tbody>\n",
       "</table>\n",
       "</div>"
      ],
      "text/plain": [
       "          W      pval  normal\n",
       "A  2.103460  0.349333    True\n",
       "B  0.841072  0.656695    True\n",
       "C  3.243726  0.197530    True"
      ]
     },
     "execution_count": 24,
     "metadata": {},
     "output_type": "execute_result"
    }
   ],
   "source": [
    "pg.normality(data=df1, dv=\"events\", group=\"group\", method=\"normaltest\")"
   ]
  },
  {
   "cell_type": "markdown",
   "id": "fc8efd64",
   "metadata": {},
   "source": [
    "Ответ: p-value > 0.05, не отклоняем нулевую гипотезу"
   ]
  },
  {
   "cell_type": "markdown",
   "id": "e784db03",
   "metadata": {},
   "source": [
    "# Шаг 5.4\n",
    "\n",
    "Задание 3\n",
    "\n",
    "Также убедитесь, что данные распределены нормально, применив тест Шапиро-Уилка. Перед применением критерия при проверке на нормальность обязательно сделайте семплирование (1000 наблюдений), так как на больших выборках могут получаться неверные результаты. Для воспроизводимости результата используйте параметр random_state=17 в методе sample.\n",
    "\n",
    "Дополнительно: попробуйте посчитать тест Шапиро-Уилка без использования метода sample. Сравните  результат с normaltest, а также qq-графиками. Какой вывод можно сделать по совокупности этих методов?\n",
    "\n",
    "Выберите верные утверждения:\n",
    "\n",
    "* Все утверждения не верны\n",
    "* Распределение events в группе С является нормальным\n",
    "* Распределение events в группе A является нормальным\n",
    "* Распределение events в группе B является нормальным"
   ]
  },
  {
   "cell_type": "code",
   "execution_count": 26,
   "id": "d8744d84",
   "metadata": {},
   "outputs": [],
   "source": [
    "df1A_s = df1A.sample(1000, random_state=17)\n",
    "df1B_s = df1B.sample(1000, random_state=17)\n",
    "df1C_s = df1C.sample(1000, random_state=17)"
   ]
  },
  {
   "cell_type": "code",
   "execution_count": 36,
   "id": "92926fb5",
   "metadata": {},
   "outputs": [],
   "source": [
    "# Сначала проанализируем группу А (df1A и  df1A_s)"
   ]
  },
  {
   "cell_type": "code",
   "execution_count": 34,
   "id": "4418f4cd",
   "metadata": {},
   "outputs": [
    {
     "data": {
      "text/plain": [
       "ShapiroResult(statistic=0.9973153471946716, pvalue=0.09609563648700714)"
      ]
     },
     "execution_count": 34,
     "metadata": {},
     "output_type": "execute_result"
    }
   ],
   "source": [
    "ss.shapiro(df1A_s)"
   ]
  },
  {
   "cell_type": "code",
   "execution_count": 35,
   "id": "4361c5ce",
   "metadata": {},
   "outputs": [
    {
     "name": "stderr",
     "output_type": "stream",
     "text": [
      "C:\\Users\\Ihar237\\anaconda3\\lib\\site-packages\\scipy\\stats\\morestats.py:1760: UserWarning: p-value may not be accurate for N > 5000.\n",
      "  warnings.warn(\"p-value may not be accurate for N > 5000.\")\n"
     ]
    },
    {
     "data": {
      "text/plain": [
       "ShapiroResult(statistic=0.9989418387413025, pvalue=4.318870651331963e-06)"
      ]
     },
     "execution_count": 35,
     "metadata": {},
     "output_type": "execute_result"
    }
   ],
   "source": [
    "ss.shapiro(df1A)"
   ]
  },
  {
   "cell_type": "code",
   "execution_count": 27,
   "id": "7d627002",
   "metadata": {},
   "outputs": [
    {
     "data": {
      "text/plain": [
       "NormaltestResult(statistic=0.6421907772748111, pvalue=0.7253540571548922)"
      ]
     },
     "execution_count": 27,
     "metadata": {},
     "output_type": "execute_result"
    }
   ],
   "source": [
    "ss.normaltest(df1A_s)"
   ]
  },
  {
   "cell_type": "code",
   "execution_count": 30,
   "id": "e83f7217",
   "metadata": {},
   "outputs": [
    {
     "data": {
      "text/plain": [
       "NormaltestResult(statistic=2.1034599402238734, pvalue=0.3493328906085719)"
      ]
     },
     "execution_count": 30,
     "metadata": {},
     "output_type": "execute_result"
    }
   ],
   "source": [
    "ss.normaltest(df1A)"
   ]
  },
  {
   "cell_type": "code",
   "execution_count": null,
   "id": "1ed8c21a",
   "metadata": {},
   "outputs": [],
   "source": [
    "# Затем проанализируем группу B (df1B и  df1B_s)"
   ]
  },
  {
   "cell_type": "code",
   "execution_count": 37,
   "id": "10b3aa8e",
   "metadata": {},
   "outputs": [
    {
     "data": {
      "text/plain": [
       "ShapiroResult(statistic=0.9980798363685608, pvalue=0.31768906116485596)"
      ]
     },
     "execution_count": 37,
     "metadata": {},
     "output_type": "execute_result"
    }
   ],
   "source": [
    "ss.shapiro(df1B_s)"
   ]
  },
  {
   "cell_type": "code",
   "execution_count": 38,
   "id": "7bfde824",
   "metadata": {},
   "outputs": [
    {
     "data": {
      "text/plain": [
       "ShapiroResult(statistic=0.9990161061286926, pvalue=1.0504894817131571e-05)"
      ]
     },
     "execution_count": 38,
     "metadata": {},
     "output_type": "execute_result"
    }
   ],
   "source": [
    "ss.shapiro(df1B)"
   ]
  },
  {
   "cell_type": "code",
   "execution_count": 28,
   "id": "650b2d06",
   "metadata": {},
   "outputs": [
    {
     "data": {
      "text/plain": [
       "NormaltestResult(statistic=0.7993452547417171, pvalue=0.6705395263954472)"
      ]
     },
     "execution_count": 28,
     "metadata": {},
     "output_type": "execute_result"
    }
   ],
   "source": [
    "ss.normaltest(df1B_s)"
   ]
  },
  {
   "cell_type": "code",
   "execution_count": 31,
   "id": "63663f18",
   "metadata": {},
   "outputs": [
    {
     "data": {
      "text/plain": [
       "NormaltestResult(statistic=0.8410715800223014, pvalue=0.6566948749848232)"
      ]
     },
     "execution_count": 31,
     "metadata": {},
     "output_type": "execute_result"
    }
   ],
   "source": [
    "ss.normaltest(df1B)"
   ]
  },
  {
   "cell_type": "code",
   "execution_count": null,
   "id": "79564187",
   "metadata": {},
   "outputs": [],
   "source": [
    "# Затем проанализируем группу C (df1C и  df1C_s)"
   ]
  },
  {
   "cell_type": "code",
   "execution_count": 39,
   "id": "9fe57f61",
   "metadata": {},
   "outputs": [
    {
     "data": {
      "text/plain": [
       "ShapiroResult(statistic=0.9981185793876648, pvalue=0.3359004259109497)"
      ]
     },
     "execution_count": 39,
     "metadata": {},
     "output_type": "execute_result"
    }
   ],
   "source": [
    "ss.shapiro(df1C_s)"
   ]
  },
  {
   "cell_type": "code",
   "execution_count": 40,
   "id": "75ad1d2f",
   "metadata": {},
   "outputs": [
    {
     "data": {
      "text/plain": [
       "ShapiroResult(statistic=0.9989210963249207, pvalue=3.3885160064528463e-06)"
      ]
     },
     "execution_count": 40,
     "metadata": {},
     "output_type": "execute_result"
    }
   ],
   "source": [
    "ss.shapiro(df1C)"
   ]
  },
  {
   "cell_type": "code",
   "execution_count": 29,
   "id": "21bf9c07",
   "metadata": {},
   "outputs": [
    {
     "data": {
      "text/plain": [
       "NormaltestResult(statistic=1.5761199866762348, pvalue=0.4547261118122219)"
      ]
     },
     "execution_count": 29,
     "metadata": {},
     "output_type": "execute_result"
    }
   ],
   "source": [
    "ss.normaltest(df1C_s)"
   ]
  },
  {
   "cell_type": "code",
   "execution_count": 32,
   "id": "de4f6f0e",
   "metadata": {},
   "outputs": [
    {
     "data": {
      "text/plain": [
       "NormaltestResult(statistic=3.243725809054571, pvalue=0.19753037588314626)"
      ]
     },
     "execution_count": 32,
     "metadata": {},
     "output_type": "execute_result"
    }
   ],
   "source": [
    "ss.normaltest(df1C)"
   ]
  },
  {
   "cell_type": "code",
   "execution_count": 42,
   "id": "489713d2",
   "metadata": {},
   "outputs": [
    {
     "data": {
      "text/plain": [
       "<AxesSubplot:title={'center':'Q-Q Plot'}, xlabel='Theoretical quantiles', ylabel='Ordered quantiles'>"
      ]
     },
     "execution_count": 42,
     "metadata": {},
     "output_type": "execute_result"
    },
    {
     "data": {
      "image/png": "[encoded data removed]",
      "text/plain": [
       "<Figure size 360x288 with 1 Axes>"
      ]
     },
     "metadata": {
      "needs_background": "light"
     },
     "output_type": "display_data"
    },
    {
     "data": {
      "image/png": "[encoded data removed]",
      "text/plain": [
       "<Figure size 360x288 with 1 Axes>"
      ]
     },
     "metadata": {
      "needs_background": "light"
     },
     "output_type": "display_data"
    }
   ],
   "source": [
    "pg.qqplot(df1A)\n",
    "pg.qqplot(df1A_s)"
   ]
  },
  {
   "cell_type": "code",
   "execution_count": 43,
   "id": "a1746eea",
   "metadata": {},
   "outputs": [
    {
     "data": {
      "text/plain": [
       "<AxesSubplot:title={'center':'Q-Q Plot'}, xlabel='Theoretical quantiles', ylabel='Ordered quantiles'>"
      ]
     },
     "execution_count": 43,
     "metadata": {},
     "output_type": "execute_result"
    },
    {
     "data": {
      "image/png": "[encoded data removed]",
      "text/plain": [
       "<Figure size 360x288 with 1 Axes>"
      ]
     },
     "metadata": {
      "needs_background": "light"
     },
     "output_type": "display_data"
    },
    {
     "data": {
      "image/png": "[encoded data removed]",
      "text/plain": [
       "<Figure size 360x288 with 1 Axes>"
      ]
     },
     "metadata": {
      "needs_background": "light"
     },
     "output_type": "display_data"
    }
   ],
   "source": [
    "pg.qqplot(df1B)\n",
    "pg.qqplot(df1B_s)"
   ]
  },
  {
   "cell_type": "code",
   "execution_count": 44,
   "id": "04f30c6b",
   "metadata": {},
   "outputs": [
    {
     "data": {
      "text/plain": [
       "<AxesSubplot:title={'center':'Q-Q Plot'}, xlabel='Theoretical quantiles', ylabel='Ordered quantiles'>"
      ]
     },
     "execution_count": 44,
     "metadata": {},
     "output_type": "execute_result"
    },
    {
     "data": {
      "image/png": "[encoded data removed]",
      "text/plain": [
       "<Figure size 360x288 with 1 Axes>"
      ]
     },
     "metadata": {
      "needs_background": "light"
     },
     "output_type": "display_data"
    },
    {
     "data": {
      "image/png": "[encoded data removed]",
      "text/plain": [
       "<Figure size 360x288 with 1 Axes>"
      ]
     },
     "metadata": {
      "needs_background": "light"
     },
     "output_type": "display_data"
    }
   ],
   "source": [
    "pg.qqplot(df1C)\n",
    "pg.qqplot(df1C_s)"
   ]
  },
  {
   "cell_type": "code",
   "execution_count": 33,
   "id": "8951c29e",
   "metadata": {},
   "outputs": [],
   "source": [
    "# Нулевая гиппотеза - распределение нормальное. При отклонениях от нормальности мы её отвергаем."
   ]
  },
  {
   "cell_type": "markdown",
   "id": "440c0692",
   "metadata": {},
   "source": [
    "Ответ:\n",
    "\n",
    "* Распределение events в группе С является нормальным\n",
    "* Распределение events в группе A является нормальным\n",
    "* Распределение events в группе B является нормальным"
   ]
  },
  {
   "cell_type": "markdown",
   "id": "6f2a09da",
   "metadata": {},
   "source": [
    "# Шаг 5.5\n",
    "\n",
    "Задание 4\n",
    "\n",
    "Самое время провести тест! \n",
    "\n",
    "Для сравнения средних я использую \n",
    "ВЫБРАТЬ\n",
    ". Значение статистики равно (окр. до целого) \n",
    "ВЫБРАТЬ\n",
    ", а р-уровень значимости составил \n",
    "ВЫБРАТЬ\n",
    ".\n"
   ]
  },
  {
   "cell_type": "code",
   "execution_count": 46,
   "id": "744ff9fb",
   "metadata": {},
   "outputs": [
    {
     "data": {
      "text/plain": [
       "F_onewayResult(statistic=2886.166657438961, pvalue=0.0)"
      ]
     },
     "execution_count": 46,
     "metadata": {},
     "output_type": "execute_result"
    }
   ],
   "source": [
    "ss.f_oneway(df1A, df1B, df1C)"
   ]
  },
  {
   "cell_type": "markdown",
   "id": "b117b925",
   "metadata": {},
   "source": [
    "Ответ: \n",
    "    Для сравнения средних я использую \n",
    "ОДНОФАКТОРНЫЙ ДИСПЕРСИОННЫЙ АНАЛИЗ \n",
    ". Значение статистики равно (окр. до целого) \n",
    "2886\n",
    ", а р-уровень значимости составил \n",
    "0\n",
    "."
   ]
  },
  {
   "cell_type": "markdown",
   "id": "17f8528f",
   "metadata": {},
   "source": [
    "# Шаг 5.6\n",
    "\n",
    "Задание 5\n",
    "\n",
    "Теперь используйте критерий Тьюки и определите, между какими группами есть статистически значимые различия. \n",
    "\n",
    "Дополнительно: попробуйте другие варианты поправок на множественные сравнения через pingouin. Дают ли они те же выводы, что и Тьюки?\n",
    "\n",
    "Варианты:\n",
    "\n",
    "* A и B\n",
    "* Нет значимых\n",
    "* B и C\n",
    "* A и C"
   ]
  },
  {
   "cell_type": "code",
   "execution_count": 53,
   "id": "3b4e8ed6",
   "metadata": {},
   "outputs": [
    {
     "data": {
      "text/html": [
       "<table class=\"simpletable\">\n",
       "<caption>Multiple Comparison of Means - Tukey HSD, FWER=0.05</caption>\n",
       "<tr>\n",
       "  <th>group1</th> <th>group2</th> <th>meandiff</th> <th>p-adj</th>   <th>lower</th>   <th>upper</th>  <th>reject</th>\n",
       "</tr>\n",
       "<tr>\n",
       "     <td>A</td>      <td>B</td>     <td>8.034</td>  <td>-0.0</td>   <td>7.7038</td>  <td>8.3642</td>   <td>True</td> \n",
       "</tr>\n",
       "<tr>\n",
       "     <td>A</td>      <td>C</td>    <td>-2.1093</td> <td>-0.0</td>   <td>-2.4395</td> <td>-1.7791</td>  <td>True</td> \n",
       "</tr>\n",
       "<tr>\n",
       "     <td>B</td>      <td>C</td>   <td>-10.1433</td> <td>-0.0</td>  <td>-10.4735</td> <td>-9.8131</td>  <td>True</td> \n",
       "</tr>\n",
       "</table>"
      ],
      "text/plain": [
       "<class 'statsmodels.iolib.table.SimpleTable'>"
      ]
     },
     "execution_count": 53,
     "metadata": {},
     "output_type": "execute_result"
    }
   ],
   "source": [
    "pairwise_tukeyhsd(df1.events, df1.group).summary()\n",
    "\n",
    "# Смотрим на столбец reject. Если там стоит True - различия значимые.\n",
    "\n",
    "# Столбец meandiff отражает различие в средних между второй и первой группой, именно в таком порядке."
   ]
  },
  {
   "cell_type": "code",
   "execution_count": 48,
   "id": "84c32f3e",
   "metadata": {},
   "outputs": [
    {
     "data": {
      "text/html": [
       "<div>\n",
       "<style scoped>\n",
       "    .dataframe tbody tr th:only-of-type {\n",
       "        vertical-align: middle;\n",
       "    }\n",
       "\n",
       "    .dataframe tbody tr th {\n",
       "        vertical-align: top;\n",
       "    }\n",
       "\n",
       "    .dataframe thead th {\n",
       "        text-align: right;\n",
       "    }\n",
       "</style>\n",
       "<table border=\"1\" class=\"dataframe\">\n",
       "  <thead>\n",
       "    <tr style=\"text-align: right;\">\n",
       "      <th></th>\n",
       "      <th>A</th>\n",
       "      <th>B</th>\n",
       "      <th>mean(A)</th>\n",
       "      <th>mean(B)</th>\n",
       "      <th>diff</th>\n",
       "      <th>se</th>\n",
       "      <th>T</th>\n",
       "      <th>p-tukey</th>\n",
       "      <th>hedges</th>\n",
       "    </tr>\n",
       "  </thead>\n",
       "  <tbody>\n",
       "    <tr>\n",
       "      <th>0</th>\n",
       "      <td>A</td>\n",
       "      <td>B</td>\n",
       "      <td>29.5796</td>\n",
       "      <td>37.6136</td>\n",
       "      <td>-8.0340</td>\n",
       "      <td>0.140894</td>\n",
       "      <td>-57.021604</td>\n",
       "      <td>0.0</td>\n",
       "      <td>-0.806377</td>\n",
       "    </tr>\n",
       "    <tr>\n",
       "      <th>1</th>\n",
       "      <td>A</td>\n",
       "      <td>C</td>\n",
       "      <td>29.5796</td>\n",
       "      <td>27.4703</td>\n",
       "      <td>2.1093</td>\n",
       "      <td>0.140894</td>\n",
       "      <td>14.970833</td>\n",
       "      <td>0.0</td>\n",
       "      <td>0.211712</td>\n",
       "    </tr>\n",
       "    <tr>\n",
       "      <th>2</th>\n",
       "      <td>B</td>\n",
       "      <td>C</td>\n",
       "      <td>37.6136</td>\n",
       "      <td>27.4703</td>\n",
       "      <td>10.1433</td>\n",
       "      <td>0.140894</td>\n",
       "      <td>71.992436</td>\n",
       "      <td>0.0</td>\n",
       "      <td>1.018089</td>\n",
       "    </tr>\n",
       "  </tbody>\n",
       "</table>\n",
       "</div>"
      ],
      "text/plain": [
       "   A  B  mean(A)  mean(B)     diff        se          T  p-tukey    hedges\n",
       "0  A  B  29.5796  37.6136  -8.0340  0.140894 -57.021604      0.0 -0.806377\n",
       "1  A  C  29.5796  27.4703   2.1093  0.140894  14.970833      0.0  0.211712\n",
       "2  B  C  37.6136  27.4703  10.1433  0.140894  71.992436      0.0  1.018089"
      ]
     },
     "execution_count": 48,
     "metadata": {},
     "output_type": "execute_result"
    }
   ],
   "source": [
    "#тьюки\n",
    "\n",
    "pg.pairwise_tukey(data=df1, dv=\"events\", between=\"group\")"
   ]
  },
  {
   "cell_type": "code",
   "execution_count": 50,
   "id": "4f3314e9",
   "metadata": {},
   "outputs": [
    {
     "data": {
      "text/html": [
       "<div>\n",
       "<style scoped>\n",
       "    .dataframe tbody tr th:only-of-type {\n",
       "        vertical-align: middle;\n",
       "    }\n",
       "\n",
       "    .dataframe tbody tr th {\n",
       "        vertical-align: top;\n",
       "    }\n",
       "\n",
       "    .dataframe thead th {\n",
       "        text-align: right;\n",
       "    }\n",
       "</style>\n",
       "<table border=\"1\" class=\"dataframe\">\n",
       "  <thead>\n",
       "    <tr style=\"text-align: right;\">\n",
       "      <th></th>\n",
       "      <th>A</th>\n",
       "      <th>B</th>\n",
       "      <th>mean(A)</th>\n",
       "      <th>mean(B)</th>\n",
       "      <th>diff</th>\n",
       "      <th>se</th>\n",
       "      <th>T</th>\n",
       "      <th>df</th>\n",
       "      <th>pval</th>\n",
       "      <th>hedges</th>\n",
       "    </tr>\n",
       "  </thead>\n",
       "  <tbody>\n",
       "    <tr>\n",
       "      <th>0</th>\n",
       "      <td>A</td>\n",
       "      <td>B</td>\n",
       "      <td>29.5796</td>\n",
       "      <td>37.6136</td>\n",
       "      <td>-8.0340</td>\n",
       "      <td>0.140920</td>\n",
       "      <td>-57.011134</td>\n",
       "      <td>19987.258491</td>\n",
       "      <td>6.412648e-13</td>\n",
       "      <td>-0.806229</td>\n",
       "    </tr>\n",
       "    <tr>\n",
       "      <th>1</th>\n",
       "      <td>A</td>\n",
       "      <td>C</td>\n",
       "      <td>29.5796</td>\n",
       "      <td>27.4703</td>\n",
       "      <td>2.1093</td>\n",
       "      <td>0.141696</td>\n",
       "      <td>14.886135</td>\n",
       "      <td>19995.116233</td>\n",
       "      <td>6.349254e-12</td>\n",
       "      <td>0.210514</td>\n",
       "    </tr>\n",
       "    <tr>\n",
       "      <th>2</th>\n",
       "      <td>B</td>\n",
       "      <td>C</td>\n",
       "      <td>37.6136</td>\n",
       "      <td>27.4703</td>\n",
       "      <td>10.1433</td>\n",
       "      <td>0.140062</td>\n",
       "      <td>72.420220</td>\n",
       "      <td>19995.502469</td>\n",
       "      <td>0.000000e+00</td>\n",
       "      <td>1.024138</td>\n",
       "    </tr>\n",
       "  </tbody>\n",
       "</table>\n",
       "</div>"
      ],
      "text/plain": [
       "   A  B  mean(A)  mean(B)     diff        se          T            df  \\\n",
       "0  A  B  29.5796  37.6136  -8.0340  0.140920 -57.011134  19987.258491   \n",
       "1  A  C  29.5796  27.4703   2.1093  0.141696  14.886135  19995.116233   \n",
       "2  B  C  37.6136  27.4703  10.1433  0.140062  72.420220  19995.502469   \n",
       "\n",
       "           pval    hedges  \n",
       "0  6.412648e-13 -0.806229  \n",
       "1  6.349254e-12  0.210514  \n",
       "2  0.000000e+00  1.024138  "
      ]
     },
     "execution_count": 50,
     "metadata": {},
     "output_type": "execute_result"
    }
   ],
   "source": [
    "#геймс-хоувелл\n",
    "\n",
    "pg.pairwise_gameshowell(data=df1, dv=\"events\", between=\"group\")"
   ]
  },
  {
   "cell_type": "code",
   "execution_count": 51,
   "id": "069b753b",
   "metadata": {},
   "outputs": [
    {
     "name": "stderr",
     "output_type": "stream",
     "text": [
      "C:\\Users\\Ihar237\\anaconda3\\lib\\site-packages\\pingouin\\bayesian.py:146: RuntimeWarning: divide by zero encountered in double_scalars\n",
      "  bf10 = 1 / ((1 + t**2 / df)**(-(df + 1) / 2) / integr)\n"
     ]
    },
    {
     "data": {
      "text/html": [
       "<div>\n",
       "<style scoped>\n",
       "    .dataframe tbody tr th:only-of-type {\n",
       "        vertical-align: middle;\n",
       "    }\n",
       "\n",
       "    .dataframe tbody tr th {\n",
       "        vertical-align: top;\n",
       "    }\n",
       "\n",
       "    .dataframe thead th {\n",
       "        text-align: right;\n",
       "    }\n",
       "</style>\n",
       "<table border=\"1\" class=\"dataframe\">\n",
       "  <thead>\n",
       "    <tr style=\"text-align: right;\">\n",
       "      <th></th>\n",
       "      <th>Contrast</th>\n",
       "      <th>A</th>\n",
       "      <th>B</th>\n",
       "      <th>Paired</th>\n",
       "      <th>Parametric</th>\n",
       "      <th>T</th>\n",
       "      <th>dof</th>\n",
       "      <th>alternative</th>\n",
       "      <th>p-unc</th>\n",
       "      <th>BF10</th>\n",
       "      <th>hedges</th>\n",
       "    </tr>\n",
       "  </thead>\n",
       "  <tbody>\n",
       "    <tr>\n",
       "      <th>0</th>\n",
       "      <td>group</td>\n",
       "      <td>A</td>\n",
       "      <td>B</td>\n",
       "      <td>False</td>\n",
       "      <td>True</td>\n",
       "      <td>-57.011134</td>\n",
       "      <td>19998.0</td>\n",
       "      <td>two-sided</td>\n",
       "      <td>0.000000e+00</td>\n",
       "      <td>inf</td>\n",
       "      <td>-0.806229</td>\n",
       "    </tr>\n",
       "    <tr>\n",
       "      <th>1</th>\n",
       "      <td>group</td>\n",
       "      <td>A</td>\n",
       "      <td>C</td>\n",
       "      <td>False</td>\n",
       "      <td>True</td>\n",
       "      <td>14.886135</td>\n",
       "      <td>19998.0</td>\n",
       "      <td>two-sided</td>\n",
       "      <td>7.500262e-50</td>\n",
       "      <td>1.054e+46</td>\n",
       "      <td>0.210514</td>\n",
       "    </tr>\n",
       "    <tr>\n",
       "      <th>2</th>\n",
       "      <td>group</td>\n",
       "      <td>B</td>\n",
       "      <td>C</td>\n",
       "      <td>False</td>\n",
       "      <td>True</td>\n",
       "      <td>72.420220</td>\n",
       "      <td>19998.0</td>\n",
       "      <td>two-sided</td>\n",
       "      <td>0.000000e+00</td>\n",
       "      <td>inf</td>\n",
       "      <td>1.024138</td>\n",
       "    </tr>\n",
       "  </tbody>\n",
       "</table>\n",
       "</div>"
      ],
      "text/plain": [
       "  Contrast  A  B  Paired  Parametric          T      dof alternative  \\\n",
       "0    group  A  B   False        True -57.011134  19998.0   two-sided   \n",
       "1    group  A  C   False        True  14.886135  19998.0   two-sided   \n",
       "2    group  B  C   False        True  72.420220  19998.0   two-sided   \n",
       "\n",
       "          p-unc       BF10    hedges  \n",
       "0  0.000000e+00        inf -0.806229  \n",
       "1  7.500262e-50  1.054e+46  0.210514  \n",
       "2  0.000000e+00        inf  1.024138  "
      ]
     },
     "execution_count": 51,
     "metadata": {},
     "output_type": "execute_result"
    }
   ],
   "source": [
    "#попарные сравнения без поправки\n",
    "pg.pairwise_ttests(data=df1, dv=\"events\", between=\"group\")"
   ]
  },
  {
   "cell_type": "code",
   "execution_count": 52,
   "id": "c1490a84",
   "metadata": {},
   "outputs": [
    {
     "name": "stderr",
     "output_type": "stream",
     "text": [
      "C:\\Users\\Ihar237\\anaconda3\\lib\\site-packages\\pingouin\\bayesian.py:146: RuntimeWarning: divide by zero encountered in double_scalars\n",
      "  bf10 = 1 / ((1 + t**2 / df)**(-(df + 1) / 2) / integr)\n"
     ]
    },
    {
     "data": {
      "text/html": [
       "<div>\n",
       "<style scoped>\n",
       "    .dataframe tbody tr th:only-of-type {\n",
       "        vertical-align: middle;\n",
       "    }\n",
       "\n",
       "    .dataframe tbody tr th {\n",
       "        vertical-align: top;\n",
       "    }\n",
       "\n",
       "    .dataframe thead th {\n",
       "        text-align: right;\n",
       "    }\n",
       "</style>\n",
       "<table border=\"1\" class=\"dataframe\">\n",
       "  <thead>\n",
       "    <tr style=\"text-align: right;\">\n",
       "      <th></th>\n",
       "      <th>Contrast</th>\n",
       "      <th>A</th>\n",
       "      <th>B</th>\n",
       "      <th>Paired</th>\n",
       "      <th>Parametric</th>\n",
       "      <th>T</th>\n",
       "      <th>dof</th>\n",
       "      <th>alternative</th>\n",
       "      <th>p-unc</th>\n",
       "      <th>p-corr</th>\n",
       "      <th>p-adjust</th>\n",
       "      <th>BF10</th>\n",
       "      <th>hedges</th>\n",
       "    </tr>\n",
       "  </thead>\n",
       "  <tbody>\n",
       "    <tr>\n",
       "      <th>0</th>\n",
       "      <td>group</td>\n",
       "      <td>A</td>\n",
       "      <td>B</td>\n",
       "      <td>False</td>\n",
       "      <td>True</td>\n",
       "      <td>-57.011134</td>\n",
       "      <td>19998.0</td>\n",
       "      <td>two-sided</td>\n",
       "      <td>0.000000e+00</td>\n",
       "      <td>0.000000e+00</td>\n",
       "      <td>holm</td>\n",
       "      <td>inf</td>\n",
       "      <td>-0.806229</td>\n",
       "    </tr>\n",
       "    <tr>\n",
       "      <th>1</th>\n",
       "      <td>group</td>\n",
       "      <td>A</td>\n",
       "      <td>C</td>\n",
       "      <td>False</td>\n",
       "      <td>True</td>\n",
       "      <td>14.886135</td>\n",
       "      <td>19998.0</td>\n",
       "      <td>two-sided</td>\n",
       "      <td>7.500262e-50</td>\n",
       "      <td>7.500262e-50</td>\n",
       "      <td>holm</td>\n",
       "      <td>1.054e+46</td>\n",
       "      <td>0.210514</td>\n",
       "    </tr>\n",
       "    <tr>\n",
       "      <th>2</th>\n",
       "      <td>group</td>\n",
       "      <td>B</td>\n",
       "      <td>C</td>\n",
       "      <td>False</td>\n",
       "      <td>True</td>\n",
       "      <td>72.420220</td>\n",
       "      <td>19998.0</td>\n",
       "      <td>two-sided</td>\n",
       "      <td>0.000000e+00</td>\n",
       "      <td>0.000000e+00</td>\n",
       "      <td>holm</td>\n",
       "      <td>inf</td>\n",
       "      <td>1.024138</td>\n",
       "    </tr>\n",
       "  </tbody>\n",
       "</table>\n",
       "</div>"
      ],
      "text/plain": [
       "  Contrast  A  B  Paired  Parametric          T      dof alternative  \\\n",
       "0    group  A  B   False        True -57.011134  19998.0   two-sided   \n",
       "1    group  A  C   False        True  14.886135  19998.0   two-sided   \n",
       "2    group  B  C   False        True  72.420220  19998.0   two-sided   \n",
       "\n",
       "          p-unc        p-corr p-adjust       BF10    hedges  \n",
       "0  0.000000e+00  0.000000e+00     holm        inf -0.806229  \n",
       "1  7.500262e-50  7.500262e-50     holm  1.054e+46  0.210514  \n",
       "2  0.000000e+00  0.000000e+00     holm        inf  1.024138  "
      ]
     },
     "execution_count": 52,
     "metadata": {},
     "output_type": "execute_result"
    }
   ],
   "source": [
    "#с поправкой Бонферрони\n",
    "pg.pairwise_ttests(data=df1, dv=\"events\", between=\"group\", padjust=\"holm\")"
   ]
  },
  {
   "cell_type": "markdown",
   "id": "63530ea8",
   "metadata": {},
   "source": [
    "# Шаг 5.7\n",
    "\n",
    "Задание 6\n",
    "\n",
    "Так какие картинки в итоге будем использовать?\n",
    "\n",
    "* B – Квадратные\n",
    "* C – Прямоугольные, 12:4\n",
    "* A – Прямоугольные, 16:9\n",
    "    \n",
    "Ответ \n",
    "* B – Квадратные"
   ]
  },
  {
   "cell_type": "code",
   "execution_count": null,
   "id": "6e96c6db",
   "metadata": {},
   "outputs": [],
   "source": []
  },
  {
   "cell_type": "markdown",
   "id": "8c5b1ba8",
   "metadata": {},
   "source": [
    "# Шаг 5.8\n",
    "\n",
    "Задание 7\n",
    "\n",
    "Во втором эксперименте требуется проверить, как пользователи отреагируют на изменение формата кнопки оформления заказа, с разбивкой по сегменту клиента.\n",
    "\n",
    "Какой метод скорее всего пригодится в данном случае?\n",
    "\n",
    "* t-test\n",
    "* хи-квадрат\n",
    "* многофакторный дисперсионный анализ\n",
    "* однофакторный дисперсионный анализ\n",
    "\n",
    "Ответ: многофакторный дисперсионный анализ"
   ]
  },
  {
   "cell_type": "markdown",
   "id": "ad66f00c",
   "metadata": {},
   "source": [
    "# Шаг 5.9\n",
    "\n",
    "Задание 8\n",
    "\n",
    "Посмотрим на данные. Для начала визуализируйте распределение events для контрольной и тестовой групп. \n",
    "\n",
    "Соотнесите графики распределения и экспериментальные группы:"
   ]
  },
  {
   "cell_type": "code",
   "execution_count": 55,
   "id": "d96ef639",
   "metadata": {},
   "outputs": [],
   "source": [
    "df2 = pd.read_csv('5_task_2.csv')"
   ]
  },
  {
   "cell_type": "code",
   "execution_count": 56,
   "id": "5c4d8141",
   "metadata": {},
   "outputs": [
    {
     "data": {
      "text/html": [
       "<div>\n",
       "<style scoped>\n",
       "    .dataframe tbody tr th:only-of-type {\n",
       "        vertical-align: middle;\n",
       "    }\n",
       "\n",
       "    .dataframe tbody tr th {\n",
       "        vertical-align: top;\n",
       "    }\n",
       "\n",
       "    .dataframe thead th {\n",
       "        text-align: right;\n",
       "    }\n",
       "</style>\n",
       "<table border=\"1\" class=\"dataframe\">\n",
       "  <thead>\n",
       "    <tr style=\"text-align: right;\">\n",
       "      <th></th>\n",
       "      <th>id</th>\n",
       "      <th>group</th>\n",
       "      <th>segment</th>\n",
       "      <th>events</th>\n",
       "    </tr>\n",
       "  </thead>\n",
       "  <tbody>\n",
       "    <tr>\n",
       "      <th>0</th>\n",
       "      <td>83440</td>\n",
       "      <td>test</td>\n",
       "      <td>high</td>\n",
       "      <td>78.0</td>\n",
       "    </tr>\n",
       "    <tr>\n",
       "      <th>1</th>\n",
       "      <td>96723</td>\n",
       "      <td>test</td>\n",
       "      <td>high</td>\n",
       "      <td>71.0</td>\n",
       "    </tr>\n",
       "    <tr>\n",
       "      <th>2</th>\n",
       "      <td>68719</td>\n",
       "      <td>test</td>\n",
       "      <td>high</td>\n",
       "      <td>80.0</td>\n",
       "    </tr>\n",
       "    <tr>\n",
       "      <th>3</th>\n",
       "      <td>50399</td>\n",
       "      <td>test</td>\n",
       "      <td>high</td>\n",
       "      <td>80.0</td>\n",
       "    </tr>\n",
       "    <tr>\n",
       "      <th>4</th>\n",
       "      <td>95613</td>\n",
       "      <td>test</td>\n",
       "      <td>high</td>\n",
       "      <td>78.0</td>\n",
       "    </tr>\n",
       "  </tbody>\n",
       "</table>\n",
       "</div>"
      ],
      "text/plain": [
       "      id group segment  events\n",
       "0  83440  test    high    78.0\n",
       "1  96723  test    high    71.0\n",
       "2  68719  test    high    80.0\n",
       "3  50399  test    high    80.0\n",
       "4  95613  test    high    78.0"
      ]
     },
     "execution_count": 56,
     "metadata": {},
     "output_type": "execute_result"
    }
   ],
   "source": [
    "df2.head()"
   ]
  },
  {
   "cell_type": "code",
   "execution_count": 59,
   "id": "228125a5",
   "metadata": {},
   "outputs": [
    {
     "name": "stderr",
     "output_type": "stream",
     "text": [
      "C:\\Users\\Ihar237\\anaconda3\\lib\\site-packages\\seaborn\\distributions.py:2619: FutureWarning: `distplot` is a deprecated function and will be removed in a future version. Please adapt your code to use either `displot` (a figure-level function with similar flexibility) or `histplot` (an axes-level function for histograms).\n",
      "  warnings.warn(msg, FutureWarning)\n"
     ]
    },
    {
     "data": {
      "text/plain": [
       "<AxesSubplot:xlabel='events', ylabel='Density'>"
      ]
     },
     "execution_count": 59,
     "metadata": {},
     "output_type": "execute_result"
    },
    {
     "data": {
      "image/png": "[encoded data removed]",
      "text/plain": [
       "<Figure size 1296x864 with 1 Axes>"
      ]
     },
     "metadata": {
      "needs_background": "light"
     },
     "output_type": "display_data"
    }
   ],
   "source": [
    "plt.figure(figsize=(18, 12))\n",
    "sns.distplot(df2.query('group == \"test\"').events)"
   ]
  },
  {
   "cell_type": "code",
   "execution_count": 60,
   "id": "619a59fb",
   "metadata": {},
   "outputs": [
    {
     "name": "stderr",
     "output_type": "stream",
     "text": [
      "C:\\Users\\Ihar237\\anaconda3\\lib\\site-packages\\seaborn\\distributions.py:2619: FutureWarning: `distplot` is a deprecated function and will be removed in a future version. Please adapt your code to use either `displot` (a figure-level function with similar flexibility) or `histplot` (an axes-level function for histograms).\n",
      "  warnings.warn(msg, FutureWarning)\n"
     ]
    },
    {
     "data": {
      "text/plain": [
       "<AxesSubplot:xlabel='events', ylabel='Density'>"
      ]
     },
     "execution_count": 60,
     "metadata": {},
     "output_type": "execute_result"
    },
    {
     "data": {
      "image/png": "[encoded data removed]",
      "text/plain": [
       "<Figure size 1296x864 with 1 Axes>"
      ]
     },
     "metadata": {
      "needs_background": "light"
     },
     "output_type": "display_data"
    }
   ],
   "source": [
    "plt.figure(figsize=(18, 12))\n",
    "sns.distplot(df2.query('group == \"control\"').events)"
   ]
  },
  {
   "cell_type": "markdown",
   "id": "434e40d3",
   "metadata": {},
   "source": [
    "# Шаг 5.10\n",
    "\n",
    "Задание 9\n",
    "\n",
    "Посчитайте среднее, медиану и стандартное отклонение events в разбивке по группе и по сегменту пользователя. \n",
    "\n",
    "В качестве ответа укажите стандартное отклонение для пользователей из сегмента high и контрольной группы, с точностью до 2 знаков после точки."
   ]
  },
  {
   "cell_type": "code",
   "execution_count": 63,
   "id": "1b3ba1c7",
   "metadata": {},
   "outputs": [
    {
     "data": {
      "text/html": [
       "<div>\n",
       "<style scoped>\n",
       "    .dataframe tbody tr th:only-of-type {\n",
       "        vertical-align: middle;\n",
       "    }\n",
       "\n",
       "    .dataframe tbody tr th {\n",
       "        vertical-align: top;\n",
       "    }\n",
       "\n",
       "    .dataframe thead th {\n",
       "        text-align: right;\n",
       "    }\n",
       "</style>\n",
       "<table border=\"1\" class=\"dataframe\">\n",
       "  <thead>\n",
       "    <tr style=\"text-align: right;\">\n",
       "      <th></th>\n",
       "      <th></th>\n",
       "      <th>count</th>\n",
       "      <th>mean</th>\n",
       "      <th>std</th>\n",
       "      <th>min</th>\n",
       "      <th>25%</th>\n",
       "      <th>50%</th>\n",
       "      <th>75%</th>\n",
       "      <th>max</th>\n",
       "    </tr>\n",
       "    <tr>\n",
       "      <th>group</th>\n",
       "      <th>segment</th>\n",
       "      <th></th>\n",
       "      <th></th>\n",
       "      <th></th>\n",
       "      <th></th>\n",
       "      <th></th>\n",
       "      <th></th>\n",
       "      <th></th>\n",
       "      <th></th>\n",
       "    </tr>\n",
       "  </thead>\n",
       "  <tbody>\n",
       "    <tr>\n",
       "      <th rowspan=\"2\" valign=\"top\">control</th>\n",
       "      <th>high</th>\n",
       "      <td>10000.0</td>\n",
       "      <td>59.970800</td>\n",
       "      <td>7.805347</td>\n",
       "      <td>31.0</td>\n",
       "      <td>55.0</td>\n",
       "      <td>60.0</td>\n",
       "      <td>65.0</td>\n",
       "      <td>89.0</td>\n",
       "    </tr>\n",
       "    <tr>\n",
       "      <th>low</th>\n",
       "      <td>40000.0</td>\n",
       "      <td>20.031575</td>\n",
       "      <td>4.473576</td>\n",
       "      <td>4.0</td>\n",
       "      <td>17.0</td>\n",
       "      <td>20.0</td>\n",
       "      <td>23.0</td>\n",
       "      <td>41.0</td>\n",
       "    </tr>\n",
       "    <tr>\n",
       "      <th rowspan=\"2\" valign=\"top\">test</th>\n",
       "      <th>high</th>\n",
       "      <td>10000.0</td>\n",
       "      <td>69.938500</td>\n",
       "      <td>8.403974</td>\n",
       "      <td>40.0</td>\n",
       "      <td>64.0</td>\n",
       "      <td>70.0</td>\n",
       "      <td>76.0</td>\n",
       "      <td>102.0</td>\n",
       "    </tr>\n",
       "    <tr>\n",
       "      <th>low</th>\n",
       "      <td>40000.0</td>\n",
       "      <td>33.025925</td>\n",
       "      <td>5.720845</td>\n",
       "      <td>13.0</td>\n",
       "      <td>29.0</td>\n",
       "      <td>33.0</td>\n",
       "      <td>37.0</td>\n",
       "      <td>59.0</td>\n",
       "    </tr>\n",
       "  </tbody>\n",
       "</table>\n",
       "</div>"
      ],
      "text/plain": [
       "                   count       mean       std   min   25%   50%   75%    max\n",
       "group   segment                                                             \n",
       "control high     10000.0  59.970800  7.805347  31.0  55.0  60.0  65.0   89.0\n",
       "        low      40000.0  20.031575  4.473576   4.0  17.0  20.0  23.0   41.0\n",
       "test    high     10000.0  69.938500  8.403974  40.0  64.0  70.0  76.0  102.0\n",
       "        low      40000.0  33.025925  5.720845  13.0  29.0  33.0  37.0   59.0"
      ]
     },
     "execution_count": 63,
     "metadata": {},
     "output_type": "execute_result"
    }
   ],
   "source": [
    "df2.groupby(['group', 'segment']).events.describe() "
   ]
  },
  {
   "cell_type": "markdown",
   "id": "2d23d3b4",
   "metadata": {},
   "source": [
    "Ответ: 7.81"
   ]
  },
  {
   "cell_type": "markdown",
   "id": "1fa9b0e2",
   "metadata": {},
   "source": [
    "# Шаг 5.11\n",
    "\n",
    "Задание 10\n",
    "\n",
    "Почти у цели – осталось выбрать формулу для модели. Напомним, что мы хотим проверить эффект нескольких переменных – group и segment – на events, с взаимодействием факторов.\n",
    "\n",
    "Если вы прибегнете к statsmodels, то какую формулу используете?\n",
    "\n",
    "Варианты:\n",
    "\n",
    "* events ~ segment + group\n",
    "* events ~ segment, group\n",
    "* events ~ segment + group + segment:group\n",
    "* events = segment + group + segment:group\n",
    "* events = segment + group"
   ]
  },
  {
   "cell_type": "code",
   "execution_count": 66,
   "id": "1be80259",
   "metadata": {},
   "outputs": [
    {
     "data": {
      "text/html": [
       "<div>\n",
       "<style scoped>\n",
       "    .dataframe tbody tr th:only-of-type {\n",
       "        vertical-align: middle;\n",
       "    }\n",
       "\n",
       "    .dataframe tbody tr th {\n",
       "        vertical-align: top;\n",
       "    }\n",
       "\n",
       "    .dataframe thead th {\n",
       "        text-align: right;\n",
       "    }\n",
       "</style>\n",
       "<table border=\"1\" class=\"dataframe\">\n",
       "  <thead>\n",
       "    <tr style=\"text-align: right;\">\n",
       "      <th></th>\n",
       "      <th>df</th>\n",
       "      <th>sum_sq</th>\n",
       "      <th>mean_sq</th>\n",
       "      <th>F</th>\n",
       "      <th>PR(&gt;F)</th>\n",
       "    </tr>\n",
       "  </thead>\n",
       "  <tbody>\n",
       "    <tr>\n",
       "      <th>segment</th>\n",
       "      <td>1.0</td>\n",
       "      <td>2.362480e+07</td>\n",
       "      <td>2.362480e+07</td>\n",
       "      <td>689756.377485</td>\n",
       "      <td>0.000000e+00</td>\n",
       "    </tr>\n",
       "    <tr>\n",
       "      <th>group</th>\n",
       "      <td>1.0</td>\n",
       "      <td>3.837195e+06</td>\n",
       "      <td>3.837195e+06</td>\n",
       "      <td>112031.864119</td>\n",
       "      <td>0.000000e+00</td>\n",
       "    </tr>\n",
       "    <tr>\n",
       "      <th>segment:group</th>\n",
       "      <td>1.0</td>\n",
       "      <td>3.664244e+04</td>\n",
       "      <td>3.664244e+04</td>\n",
       "      <td>1069.823273</td>\n",
       "      <td>2.060261e-233</td>\n",
       "    </tr>\n",
       "    <tr>\n",
       "      <th>Residual</th>\n",
       "      <td>99996.0</td>\n",
       "      <td>3.424956e+06</td>\n",
       "      <td>3.425093e+01</td>\n",
       "      <td>NaN</td>\n",
       "      <td>NaN</td>\n",
       "    </tr>\n",
       "  </tbody>\n",
       "</table>\n",
       "</div>"
      ],
      "text/plain": [
       "                    df        sum_sq       mean_sq              F  \\\n",
       "segment            1.0  2.362480e+07  2.362480e+07  689756.377485   \n",
       "group              1.0  3.837195e+06  3.837195e+06  112031.864119   \n",
       "segment:group      1.0  3.664244e+04  3.664244e+04    1069.823273   \n",
       "Residual       99996.0  3.424956e+06  3.425093e+01            NaN   \n",
       "\n",
       "                      PR(>F)  \n",
       "segment         0.000000e+00  \n",
       "group           0.000000e+00  \n",
       "segment:group  2.060261e-233  \n",
       "Residual                 NaN  "
      ]
     },
     "execution_count": 66,
     "metadata": {},
     "output_type": "execute_result"
    }
   ],
   "source": [
    "model = smf.ols(formula = \"events ~ segment + group + segment:group\", data = df2).fit()\n",
    "anova_lm(model)"
   ]
  },
  {
   "cell_type": "markdown",
   "id": "f6cf0ce4",
   "metadata": {},
   "source": [
    "# Шаг 5.12\n",
    "\n",
    "Задание 11\n",
    "\n",
    "\n",
    "\n",
    "Проведите тест (через anova_lm либо pg.anova), а затем используйте критерий Тьюки, чтобы понять между какими группами есть статистически значимые различия.\n",
    "\n",
    "В данном случае для последующих сравнений между группами можно проделать следующую операцию: соединить колонки group и segment в combination, чтобы потом передать в аргумент groups в MultiComparison либо pairwise_tukey:\n",
    "\n",
    "+-------+---------+-------------+\n",
    "| group | segment | combination |\n",
    "+-------+---------+-------------+\n",
    "| test  | high    | test / high |\n",
    "| test  | high    | test / high |\n",
    "+-------+---------+-------------+\n",
    "Между какими группами были обнаружены статистически значимые различия? \n",
    "\n",
    "Выберите верные утверждения:\n",
    "\n",
    "* Для обоих сегментов показатели статистически значимо _уменьшились_ по сравнению с контрольной группой\n",
    "* Разница между значением у тестовой группы сегмента low и контрольной группой этого же сегмента равна примерно 36\n",
    "* Разница между control/high и test/high составила около 10\n",
    "* Различий совсем не оказалось :(\n",
    "* Разница между значением у тестовой группы сегмента low и контрольной группой этого же сегмента равна примерно 13\n",
    "* Для обоих сегментов показатели статистически значимо _увеличились_ по сравнению с контрольной группой"
   ]
  },
  {
   "cell_type": "code",
   "execution_count": 67,
   "id": "3321ca14",
   "metadata": {},
   "outputs": [
    {
     "data": {
      "text/html": [
       "<div>\n",
       "<style scoped>\n",
       "    .dataframe tbody tr th:only-of-type {\n",
       "        vertical-align: middle;\n",
       "    }\n",
       "\n",
       "    .dataframe tbody tr th {\n",
       "        vertical-align: top;\n",
       "    }\n",
       "\n",
       "    .dataframe thead th {\n",
       "        text-align: right;\n",
       "    }\n",
       "</style>\n",
       "<table border=\"1\" class=\"dataframe\">\n",
       "  <thead>\n",
       "    <tr style=\"text-align: right;\">\n",
       "      <th></th>\n",
       "      <th>sum_sq</th>\n",
       "      <th>df</th>\n",
       "      <th>F</th>\n",
       "      <th>PR(&gt;F)</th>\n",
       "    </tr>\n",
       "  </thead>\n",
       "  <tbody>\n",
       "    <tr>\n",
       "      <th>segment</th>\n",
       "      <td>2.362480e+07</td>\n",
       "      <td>1.0</td>\n",
       "      <td>689756.377485</td>\n",
       "      <td>0.000000e+00</td>\n",
       "    </tr>\n",
       "    <tr>\n",
       "      <th>group</th>\n",
       "      <td>3.837195e+06</td>\n",
       "      <td>1.0</td>\n",
       "      <td>112031.864119</td>\n",
       "      <td>0.000000e+00</td>\n",
       "    </tr>\n",
       "    <tr>\n",
       "      <th>segment:group</th>\n",
       "      <td>3.664244e+04</td>\n",
       "      <td>1.0</td>\n",
       "      <td>1069.823273</td>\n",
       "      <td>2.060261e-233</td>\n",
       "    </tr>\n",
       "    <tr>\n",
       "      <th>Residual</th>\n",
       "      <td>3.424956e+06</td>\n",
       "      <td>99996.0</td>\n",
       "      <td>NaN</td>\n",
       "      <td>NaN</td>\n",
       "    </tr>\n",
       "  </tbody>\n",
       "</table>\n",
       "</div>"
      ],
      "text/plain": [
       "                     sum_sq       df              F         PR(>F)\n",
       "segment        2.362480e+07      1.0  689756.377485   0.000000e+00\n",
       "group          3.837195e+06      1.0  112031.864119   0.000000e+00\n",
       "segment:group  3.664244e+04      1.0    1069.823273  2.060261e-233\n",
       "Residual       3.424956e+06  99996.0            NaN            NaN"
      ]
     },
     "execution_count": 67,
     "metadata": {},
     "output_type": "execute_result"
    }
   ],
   "source": [
    "model = smf.ols(formula = \"events ~ segment + group + segment:group\", data = df2).fit()\n",
    "anova_lm(model, typ = 2)"
   ]
  },
  {
   "cell_type": "code",
   "execution_count": 69,
   "id": "a5e8bf2c",
   "metadata": {},
   "outputs": [],
   "source": [
    "df2['combination'] = df2['group'] + '\\\\' + df2['segment']"
   ]
  },
  {
   "cell_type": "code",
   "execution_count": 70,
   "id": "8eede26f",
   "metadata": {},
   "outputs": [
    {
     "data": {
      "text/html": [
       "<div>\n",
       "<style scoped>\n",
       "    .dataframe tbody tr th:only-of-type {\n",
       "        vertical-align: middle;\n",
       "    }\n",
       "\n",
       "    .dataframe tbody tr th {\n",
       "        vertical-align: top;\n",
       "    }\n",
       "\n",
       "    .dataframe thead th {\n",
       "        text-align: right;\n",
       "    }\n",
       "</style>\n",
       "<table border=\"1\" class=\"dataframe\">\n",
       "  <thead>\n",
       "    <tr style=\"text-align: right;\">\n",
       "      <th></th>\n",
       "      <th>id</th>\n",
       "      <th>group</th>\n",
       "      <th>segment</th>\n",
       "      <th>events</th>\n",
       "      <th>combination</th>\n",
       "    </tr>\n",
       "  </thead>\n",
       "  <tbody>\n",
       "    <tr>\n",
       "      <th>0</th>\n",
       "      <td>83440</td>\n",
       "      <td>test</td>\n",
       "      <td>high</td>\n",
       "      <td>78.0</td>\n",
       "      <td>test\\high</td>\n",
       "    </tr>\n",
       "    <tr>\n",
       "      <th>1</th>\n",
       "      <td>96723</td>\n",
       "      <td>test</td>\n",
       "      <td>high</td>\n",
       "      <td>71.0</td>\n",
       "      <td>test\\high</td>\n",
       "    </tr>\n",
       "    <tr>\n",
       "      <th>2</th>\n",
       "      <td>68719</td>\n",
       "      <td>test</td>\n",
       "      <td>high</td>\n",
       "      <td>80.0</td>\n",
       "      <td>test\\high</td>\n",
       "    </tr>\n",
       "    <tr>\n",
       "      <th>3</th>\n",
       "      <td>50399</td>\n",
       "      <td>test</td>\n",
       "      <td>high</td>\n",
       "      <td>80.0</td>\n",
       "      <td>test\\high</td>\n",
       "    </tr>\n",
       "    <tr>\n",
       "      <th>4</th>\n",
       "      <td>95613</td>\n",
       "      <td>test</td>\n",
       "      <td>high</td>\n",
       "      <td>78.0</td>\n",
       "      <td>test\\high</td>\n",
       "    </tr>\n",
       "  </tbody>\n",
       "</table>\n",
       "</div>"
      ],
      "text/plain": [
       "      id group segment  events combination\n",
       "0  83440  test    high    78.0   test\\high\n",
       "1  96723  test    high    71.0   test\\high\n",
       "2  68719  test    high    80.0   test\\high\n",
       "3  50399  test    high    80.0   test\\high\n",
       "4  95613  test    high    78.0   test\\high"
      ]
     },
     "execution_count": 70,
     "metadata": {},
     "output_type": "execute_result"
    }
   ],
   "source": [
    "df2.head()"
   ]
  },
  {
   "cell_type": "code",
   "execution_count": 74,
   "id": "a4db3be1",
   "metadata": {},
   "outputs": [
    {
     "data": {
      "text/html": [
       "<table class=\"simpletable\">\n",
       "<caption>Multiple Comparison of Means - Tukey HSD, FWER=0.05</caption>\n",
       "<tr>\n",
       "     <th>group1</th>      <th>group2</th>    <th>meandiff</th> <th>p-adj</th>   <th>lower</th>    <th>upper</th>  <th>reject</th>\n",
       "</tr>\n",
       "<tr>\n",
       "  <td>control\\high</td> <td>control\\low</td> <td>-39.9392</td> <td>-0.0</td>  <td>-40.1073</td> <td>-39.7711</td>  <td>True</td> \n",
       "</tr>\n",
       "<tr>\n",
       "  <td>control\\high</td>  <td>test\\high</td>   <td>9.9677</td>  <td>-0.0</td>   <td>9.7551</td>   <td>10.1803</td>  <td>True</td> \n",
       "</tr>\n",
       "<tr>\n",
       "  <td>control\\high</td>  <td>test\\low</td>   <td>-26.9449</td> <td>-0.0</td>   <td>-27.113</td> <td>-26.7768</td>  <td>True</td> \n",
       "</tr>\n",
       "<tr>\n",
       "   <td>control\\low</td>  <td>test\\high</td>   <td>49.9069</td> <td>-0.0</td>   <td>49.7388</td>  <td>50.075</td>   <td>True</td> \n",
       "</tr>\n",
       "<tr>\n",
       "   <td>control\\low</td>  <td>test\\low</td>    <td>12.9944</td> <td>-0.0</td>   <td>12.888</td>   <td>13.1007</td>  <td>True</td> \n",
       "</tr>\n",
       "<tr>\n",
       "    <td>test\\high</td>   <td>test\\low</td>   <td>-36.9126</td> <td>-0.0</td>  <td>-37.0807</td> <td>-36.7445</td>  <td>True</td> \n",
       "</tr>\n",
       "</table>"
      ],
      "text/plain": [
       "<class 'statsmodels.iolib.table.SimpleTable'>"
      ]
     },
     "execution_count": 74,
     "metadata": {},
     "output_type": "execute_result"
    }
   ],
   "source": [
    "pairwise_tukeyhsd(df2.events, df2.combination).summary()\n",
    "    \n",
    "# - **Как по таблице понять характер различий в средних?**\n",
    "    \n",
    "#     Столбец **meandiff** отражает различие в средних между **второй и первой группой, именно в таком порядке.**"
   ]
  },
  {
   "cell_type": "code",
   "execution_count": 73,
   "id": "68d91258",
   "metadata": {},
   "outputs": [
    {
     "data": {
      "text/html": [
       "<table class=\"simpletable\">\n",
       "<caption>Multiple Comparison of Means - Tukey HSD, FWER=0.05</caption>\n",
       "<tr>\n",
       "     <th>group1</th>      <th>group2</th>    <th>meandiff</th> <th>p-adj</th>   <th>lower</th>    <th>upper</th>  <th>reject</th>\n",
       "</tr>\n",
       "<tr>\n",
       "  <td>control\\high</td> <td>control\\low</td> <td>-39.9392</td> <td>-0.0</td>  <td>-40.1073</td> <td>-39.7711</td>  <td>True</td> \n",
       "</tr>\n",
       "<tr>\n",
       "  <td>control\\high</td>  <td>test\\high</td>   <td>9.9677</td>  <td>-0.0</td>   <td>9.7551</td>   <td>10.1803</td>  <td>True</td> \n",
       "</tr>\n",
       "<tr>\n",
       "  <td>control\\high</td>  <td>test\\low</td>   <td>-26.9449</td> <td>-0.0</td>   <td>-27.113</td> <td>-26.7768</td>  <td>True</td> \n",
       "</tr>\n",
       "<tr>\n",
       "   <td>control\\low</td>  <td>test\\high</td>   <td>49.9069</td> <td>-0.0</td>   <td>49.7388</td>  <td>50.075</td>   <td>True</td> \n",
       "</tr>\n",
       "<tr>\n",
       "   <td>control\\low</td>  <td>test\\low</td>    <td>12.9944</td> <td>-0.0</td>   <td>12.888</td>   <td>13.1007</td>  <td>True</td> \n",
       "</tr>\n",
       "<tr>\n",
       "    <td>test\\high</td>   <td>test\\low</td>   <td>-36.9126</td> <td>-0.0</td>  <td>-37.0807</td> <td>-36.7445</td>  <td>True</td> \n",
       "</tr>\n",
       "</table>"
      ],
      "text/plain": [
       "<class 'statsmodels.iolib.table.SimpleTable'>"
      ]
     },
     "execution_count": 73,
     "metadata": {},
     "output_type": "execute_result"
    }
   ],
   "source": [
    "MultiComparison(df2.events, df2.combination).tukeyhsd().summary()"
   ]
  },
  {
   "cell_type": "markdown",
   "id": "ab01241e",
   "metadata": {},
   "source": [
    "Ответы\n",
    "\n",
    "* Разница между значением у тестовой группы сегмента low и контрольной группой этого же сегмента равна примерно 13\n",
    "* Разница между control/high и test/high составила около 10\n",
    "* Для обоих сегментов показатели статистически значимо _увеличились_ по сравнению с контрольной группой"
   ]
  },
  {
   "cell_type": "markdown",
   "id": "db9870bb",
   "metadata": {},
   "source": [
    "# Шаг 5.13\n",
    "\n",
    "Задание 12\n",
    "\n",
    "Визуализируйте результаты теста и заполните пропуски:\n",
    "    \n",
    "Фактор group оказался \n",
    "ВЫБРАТЬ\n",
    ", фактор segment – \n",
    "ВЫБРАТЬ\n",
    ", их взаимодействие – \n",
    "ВЫБРАТЬ\n",
    ". Судя по графику, для всех групп среднее значение events \n",
    "ВЫБРАТЬ\n",
    ", поэтому решение: \n",
    "ВЫБРАТЬ\n",
    "."
   ]
  },
  {
   "cell_type": "code",
   "execution_count": 78,
   "id": "727c5f24",
   "metadata": {},
   "outputs": [
    {
     "data": {
      "text/plain": [
       "<AxesSubplot:xlabel='group', ylabel='events'>"
      ]
     },
     "execution_count": 78,
     "metadata": {},
     "output_type": "execute_result"
    },
    {
     "data": {
      "image/png": "[encoded data removed]",
      "text/plain": [
       "<Figure size 432x288 with 1 Axes>"
      ]
     },
     "metadata": {
      "needs_background": "light"
     },
     "output_type": "display_data"
    }
   ],
   "source": [
    "sns.pointplot(x=\"group\", y=\"events\", data=df2, capsize=0.2, hue = \"segment\")"
   ]
  },
  {
   "cell_type": "code",
   "execution_count": 79,
   "id": "fbd420fc",
   "metadata": {},
   "outputs": [
    {
     "data": {
      "text/html": [
       "<div>\n",
       "<style scoped>\n",
       "    .dataframe tbody tr th:only-of-type {\n",
       "        vertical-align: middle;\n",
       "    }\n",
       "\n",
       "    .dataframe tbody tr th {\n",
       "        vertical-align: top;\n",
       "    }\n",
       "\n",
       "    .dataframe thead th {\n",
       "        text-align: right;\n",
       "    }\n",
       "</style>\n",
       "<table border=\"1\" class=\"dataframe\">\n",
       "  <thead>\n",
       "    <tr style=\"text-align: right;\">\n",
       "      <th></th>\n",
       "      <th>df</th>\n",
       "      <th>sum_sq</th>\n",
       "      <th>mean_sq</th>\n",
       "      <th>F</th>\n",
       "      <th>PR(&gt;F)</th>\n",
       "    </tr>\n",
       "  </thead>\n",
       "  <tbody>\n",
       "    <tr>\n",
       "      <th>segment</th>\n",
       "      <td>1.0</td>\n",
       "      <td>2.362480e+07</td>\n",
       "      <td>2.362480e+07</td>\n",
       "      <td>689756.377485</td>\n",
       "      <td>0.000000e+00</td>\n",
       "    </tr>\n",
       "    <tr>\n",
       "      <th>C(group)</th>\n",
       "      <td>1.0</td>\n",
       "      <td>3.837195e+06</td>\n",
       "      <td>3.837195e+06</td>\n",
       "      <td>112031.864119</td>\n",
       "      <td>0.000000e+00</td>\n",
       "    </tr>\n",
       "    <tr>\n",
       "      <th>C(segment)</th>\n",
       "      <td>1.0</td>\n",
       "      <td>8.379195e-02</td>\n",
       "      <td>8.379195e-02</td>\n",
       "      <td>0.002446</td>\n",
       "      <td>9.605518e-01</td>\n",
       "    </tr>\n",
       "    <tr>\n",
       "      <th>C(group):C(segment)</th>\n",
       "      <td>1.0</td>\n",
       "      <td>3.664316e+04</td>\n",
       "      <td>3.664316e+04</td>\n",
       "      <td>1069.844276</td>\n",
       "      <td>2.038945e-233</td>\n",
       "    </tr>\n",
       "    <tr>\n",
       "      <th>Residual</th>\n",
       "      <td>99996.0</td>\n",
       "      <td>3.424956e+06</td>\n",
       "      <td>3.425093e+01</td>\n",
       "      <td>NaN</td>\n",
       "      <td>NaN</td>\n",
       "    </tr>\n",
       "  </tbody>\n",
       "</table>\n",
       "</div>"
      ],
      "text/plain": [
       "                          df        sum_sq       mean_sq              F  \\\n",
       "segment                  1.0  2.362480e+07  2.362480e+07  689756.377485   \n",
       "C(group)                 1.0  3.837195e+06  3.837195e+06  112031.864119   \n",
       "C(segment)               1.0  8.379195e-02  8.379195e-02       0.002446   \n",
       "C(group):C(segment)      1.0  3.664316e+04  3.664316e+04    1069.844276   \n",
       "Residual             99996.0  3.424956e+06  3.425093e+01            NaN   \n",
       "\n",
       "                            PR(>F)  \n",
       "segment               0.000000e+00  \n",
       "C(group)              0.000000e+00  \n",
       "C(segment)            9.605518e-01  \n",
       "C(group):C(segment)  2.038945e-233  \n",
       "Residual                       NaN  "
      ]
     },
     "execution_count": 79,
     "metadata": {},
     "output_type": "execute_result"
    }
   ],
   "source": [
    "model = smf.ols(formula = \"events ~ segment + C(group) * C(segment)\", data = df2).fit()\n",
    "anova_lm(model)"
   ]
  },
  {
   "cell_type": "code",
   "execution_count": 83,
   "id": "58335702",
   "metadata": {},
   "outputs": [
    {
     "data": {
      "text/html": [
       "<div>\n",
       "<style scoped>\n",
       "    .dataframe tbody tr th:only-of-type {\n",
       "        vertical-align: middle;\n",
       "    }\n",
       "\n",
       "    .dataframe tbody tr th {\n",
       "        vertical-align: top;\n",
       "    }\n",
       "\n",
       "    .dataframe thead th {\n",
       "        text-align: right;\n",
       "    }\n",
       "</style>\n",
       "<table border=\"1\" class=\"dataframe\">\n",
       "  <thead>\n",
       "    <tr style=\"text-align: right;\">\n",
       "      <th></th>\n",
       "      <th>sum_sq</th>\n",
       "      <th>df</th>\n",
       "      <th>F</th>\n",
       "      <th>PR(&gt;F)</th>\n",
       "    </tr>\n",
       "  </thead>\n",
       "  <tbody>\n",
       "    <tr>\n",
       "      <th>C(group)</th>\n",
       "      <td>3.837195e+06</td>\n",
       "      <td>1.0</td>\n",
       "      <td>112031.864119</td>\n",
       "      <td>0.000000e+00</td>\n",
       "    </tr>\n",
       "    <tr>\n",
       "      <th>C(segment)</th>\n",
       "      <td>2.362480e+07</td>\n",
       "      <td>1.0</td>\n",
       "      <td>689756.377485</td>\n",
       "      <td>0.000000e+00</td>\n",
       "    </tr>\n",
       "    <tr>\n",
       "      <th>C(group):C(segment)</th>\n",
       "      <td>3.664244e+04</td>\n",
       "      <td>1.0</td>\n",
       "      <td>1069.823273</td>\n",
       "      <td>2.060261e-233</td>\n",
       "    </tr>\n",
       "    <tr>\n",
       "      <th>Residual</th>\n",
       "      <td>3.424956e+06</td>\n",
       "      <td>99996.0</td>\n",
       "      <td>NaN</td>\n",
       "      <td>NaN</td>\n",
       "    </tr>\n",
       "  </tbody>\n",
       "</table>\n",
       "</div>"
      ],
      "text/plain": [
       "                           sum_sq       df              F         PR(>F)\n",
       "C(group)             3.837195e+06      1.0  112031.864119   0.000000e+00\n",
       "C(segment)           2.362480e+07      1.0  689756.377485   0.000000e+00\n",
       "C(group):C(segment)  3.664244e+04      1.0    1069.823273  2.060261e-233\n",
       "Residual             3.424956e+06  99996.0            NaN            NaN"
      ]
     },
     "execution_count": 83,
     "metadata": {},
     "output_type": "execute_result"
    }
   ],
   "source": [
    "model = smf.ols(formula = \"events ~ C(group) * C(segment)\", data = df2).fit()\n",
    "anova_lm(model, typ = 2)"
   ]
  },
  {
   "cell_type": "markdown",
   "id": "e90a5f0e",
   "metadata": {},
   "source": [
    "Фактор group оказался \n",
    "ЗНАЧИМЫМ\n",
    ", фактор segment – \n",
    "ЗНАЧИМЫМ\n",
    ", их взаимодействие – \n",
    "ЗНАЧИМО\n",
    ". Судя по графику, для всех групп среднее значение events \n",
    "УВЕЛИЧИЛОСЬ\n",
    ", поэтому решение: \n",
    "ВЫКАТЫВАЕМ НОВУЮ ВЕРСИЮ\n",
    "."
   ]
  },
  {
   "cell_type": "code",
   "execution_count": null,
   "id": "394ae054",
   "metadata": {},
   "outputs": [],
   "source": []
  }
 ],
 "metadata": {
  "kernelspec": {
   "display_name": "Python 3 (ipykernel)",
   "language": "python",
   "name": "python3"
  },
  "language_info": {
   "codemirror_mode": {
    "name": "ipython",
    "version": 3
   },
   "file_extension": ".py",
   "mimetype": "text/x-python",
   "name": "python",
   "nbconvert_exporter": "python",
   "pygments_lexer": "ipython3",
   "version": "3.9.7"
  }
 },
 "nbformat": 4,
 "nbformat_minor": 5
}
