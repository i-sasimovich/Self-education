{
 "cells": [
  {
   "cell_type": "code",
   "execution_count": 1,
   "id": "b8598229",
   "metadata": {},
   "outputs": [],
   "source": [
    "import pandas as pd\n",
    "import numpy as np\n",
    "import seaborn as sns\n",
    "import matplotlib.pyplot as plt\n",
    "import scipy.stats as stats"
   ]
  },
  {
   "cell_type": "markdown",
   "id": "018e87ac",
   "metadata": {},
   "source": [
    "### 2 задание\n",
    "Легенда. \n",
    "У Тинькофф Квест есть бонусные купоны. Такой купон дает право участия в квесте со скидкой. Купоны бывают трех типов: Alpha, Beta, Gamma. Они немного отличаются по условиям, в том числе по сроку действия, а также выдаются в разных точках. Каждый купон имеет свой Id; дата выдачи каждого купона фиксируется. Человек, получивший купон, может им воспользоваться или не воспользоваться.\n",
    "\n",
    "\n",
    "\n",
    "Задание. \n",
    "Проанализируйте уровень использования каждого типа купонов и сравните их между собой. В ответе укажите процент использования каждого типа и подтвердите эти цифры таблицей/графиком, по которым вы сделали вывод.\n",
    "\n",
    "\n",
    "\n",
    "Допустим, сегодня 11 апреля 2021.\n",
    "\n",
    "В схеме msu_statistics.dz_82 - данные по купонам, выданным с 1 ноября 2020г по вчерашний день (10.04.21).\n",
    "\n",
    "\n",
    "\n",
    "Структура данных:\n",
    " card_nm - название типа купонов \n",
    "\n",
    " card_id - Id конкретного купона \n",
    "\n",
    " receive_dt - дата выдачи купона \n",
    "\n",
    " use_dt - дата использования купона (если есть) "
   ]
  },
  {
   "cell_type": "code",
   "execution_count": 2,
   "id": "a395fae1",
   "metadata": {},
   "outputs": [],
   "source": [
    "df = pd.read_excel('dz_z2.xlsx')"
   ]
  },
  {
   "cell_type": "code",
   "execution_count": 3,
   "id": "8ca61faf",
   "metadata": {},
   "outputs": [
    {
     "data": {
      "text/html": [
       "<div>\n",
       "<style scoped>\n",
       "    .dataframe tbody tr th:only-of-type {\n",
       "        vertical-align: middle;\n",
       "    }\n",
       "\n",
       "    .dataframe tbody tr th {\n",
       "        vertical-align: top;\n",
       "    }\n",
       "\n",
       "    .dataframe thead th {\n",
       "        text-align: right;\n",
       "    }\n",
       "</style>\n",
       "<table border=\"1\" class=\"dataframe\">\n",
       "  <thead>\n",
       "    <tr style=\"text-align: right;\">\n",
       "      <th></th>\n",
       "      <th>card_nm</th>\n",
       "      <th>card_id</th>\n",
       "      <th>receive_dt</th>\n",
       "      <th>use_dt</th>\n",
       "    </tr>\n",
       "  </thead>\n",
       "  <tbody>\n",
       "    <tr>\n",
       "      <th>0</th>\n",
       "      <td>Beta</td>\n",
       "      <td>7637320</td>\n",
       "      <td>2020-11-02</td>\n",
       "      <td>NaT</td>\n",
       "    </tr>\n",
       "    <tr>\n",
       "      <th>1</th>\n",
       "      <td>Alpha</td>\n",
       "      <td>7635974</td>\n",
       "      <td>2020-11-02</td>\n",
       "      <td>NaT</td>\n",
       "    </tr>\n",
       "    <tr>\n",
       "      <th>2</th>\n",
       "      <td>Alpha</td>\n",
       "      <td>7635511</td>\n",
       "      <td>2020-11-02</td>\n",
       "      <td>NaT</td>\n",
       "    </tr>\n",
       "    <tr>\n",
       "      <th>3</th>\n",
       "      <td>Gamma</td>\n",
       "      <td>7635258</td>\n",
       "      <td>2020-11-02</td>\n",
       "      <td>2020-12-13</td>\n",
       "    </tr>\n",
       "    <tr>\n",
       "      <th>4</th>\n",
       "      <td>Beta</td>\n",
       "      <td>7634217</td>\n",
       "      <td>2020-11-02</td>\n",
       "      <td>NaT</td>\n",
       "    </tr>\n",
       "    <tr>\n",
       "      <th>...</th>\n",
       "      <td>...</td>\n",
       "      <td>...</td>\n",
       "      <td>...</td>\n",
       "      <td>...</td>\n",
       "    </tr>\n",
       "    <tr>\n",
       "      <th>6759</th>\n",
       "      <td>Alpha</td>\n",
       "      <td>637512</td>\n",
       "      <td>2021-04-08</td>\n",
       "      <td>NaT</td>\n",
       "    </tr>\n",
       "    <tr>\n",
       "      <th>6760</th>\n",
       "      <td>Beta</td>\n",
       "      <td>637397</td>\n",
       "      <td>2021-04-08</td>\n",
       "      <td>NaT</td>\n",
       "    </tr>\n",
       "    <tr>\n",
       "      <th>6761</th>\n",
       "      <td>Alpha</td>\n",
       "      <td>628982</td>\n",
       "      <td>2021-04-08</td>\n",
       "      <td>2021-04-10</td>\n",
       "    </tr>\n",
       "    <tr>\n",
       "      <th>6762</th>\n",
       "      <td>Beta</td>\n",
       "      <td>625773</td>\n",
       "      <td>2021-04-08</td>\n",
       "      <td>NaT</td>\n",
       "    </tr>\n",
       "    <tr>\n",
       "      <th>6763</th>\n",
       "      <td>Alpha</td>\n",
       "      <td>622700</td>\n",
       "      <td>2021-04-08</td>\n",
       "      <td>NaT</td>\n",
       "    </tr>\n",
       "  </tbody>\n",
       "</table>\n",
       "<p>6764 rows × 4 columns</p>\n",
       "</div>"
      ],
      "text/plain": [
       "     card_nm  card_id receive_dt     use_dt\n",
       "0       Beta  7637320 2020-11-02        NaT\n",
       "1      Alpha  7635974 2020-11-02        NaT\n",
       "2      Alpha  7635511 2020-11-02        NaT\n",
       "3      Gamma  7635258 2020-11-02 2020-12-13\n",
       "4       Beta  7634217 2020-11-02        NaT\n",
       "...      ...      ...        ...        ...\n",
       "6759   Alpha   637512 2021-04-08        NaT\n",
       "6760    Beta   637397 2021-04-08        NaT\n",
       "6761   Alpha   628982 2021-04-08 2021-04-10\n",
       "6762    Beta   625773 2021-04-08        NaT\n",
       "6763   Alpha   622700 2021-04-08        NaT\n",
       "\n",
       "[6764 rows x 4 columns]"
      ]
     },
     "execution_count": 3,
     "metadata": {},
     "output_type": "execute_result"
    }
   ],
   "source": [
    "df"
   ]
  },
  {
   "cell_type": "code",
   "execution_count": 4,
   "id": "744d4798",
   "metadata": {},
   "outputs": [
    {
     "data": {
      "text/plain": [
       "card_nm               object\n",
       "card_id                int64\n",
       "receive_dt    datetime64[ns]\n",
       "use_dt        datetime64[ns]\n",
       "dtype: object"
      ]
     },
     "execution_count": 4,
     "metadata": {},
     "output_type": "execute_result"
    }
   ],
   "source": [
    "df.dtypes"
   ]
  },
  {
   "cell_type": "code",
   "execution_count": 5,
   "id": "b33fcd32",
   "metadata": {},
   "outputs": [
    {
     "data": {
      "text/plain": [
       "1594"
      ]
     },
     "execution_count": 5,
     "metadata": {},
     "output_type": "execute_result"
    }
   ],
   "source": [
    "df.use_dt.notna().sum()"
   ]
  },
  {
   "cell_type": "code",
   "execution_count": 6,
   "id": "d72e3f41",
   "metadata": {},
   "outputs": [],
   "source": [
    "df['day_diff'] = (df.use_dt - df.receive_dt).dt.days"
   ]
  },
  {
   "cell_type": "code",
   "execution_count": 7,
   "id": "2fe9d132",
   "metadata": {},
   "outputs": [
    {
     "name": "stderr",
     "output_type": "stream",
     "text": [
      "C:\\Users\\volat\\AppData\\Local\\Temp\\ipykernel_8324\\1506168581.py:6: UserWarning: \n",
      "\n",
      "`distplot` is a deprecated function and will be removed in seaborn v0.14.0.\n",
      "\n",
      "Please adapt your code to use either `displot` (a figure-level function with\n",
      "similar flexibility) or `histplot` (an axes-level function for histograms).\n",
      "\n",
      "For a guide to updating your code to use the new functions, please see\n",
      "https://gist.github.com/mwaskom/de44147ed2974457ad6372750bbe5751\n",
      "\n",
      "  sns.distplot(df.query('card_nm == \"Alpha\"').day_diff, color = 'olivedrab', hist = True, kde = False, ax = ax)\n",
      "C:\\Users\\volat\\AppData\\Local\\Temp\\ipykernel_8324\\1506168581.py:10: UserWarning: \n",
      "\n",
      "`distplot` is a deprecated function and will be removed in seaborn v0.14.0.\n",
      "\n",
      "Please adapt your code to use either `displot` (a figure-level function with\n",
      "similar flexibility) or `histplot` (an axes-level function for histograms).\n",
      "\n",
      "For a guide to updating your code to use the new functions, please see\n",
      "https://gist.github.com/mwaskom/de44147ed2974457ad6372750bbe5751\n",
      "\n",
      "  sns.distplot(df.query('card_nm == \"Beta\"').day_diff, color = 'gold', hist = True, kde = False, ax = ax)\n"
     ]
    },
    {
     "data": {
      "text/plain": [
       "Text(0.5, 1.0, 'Beta')"
      ]
     },
     "execution_count": 7,
     "metadata": {},
     "output_type": "execute_result"
    },
    {
     "data": {
      "image/png": "[encoded data removed]",
      "text/plain": [
       "<Figure size 1200x500 with 2 Axes>"
      ]
     },
     "metadata": {},
     "output_type": "display_data"
    }
   ],
   "source": [
    "# распределение периода в днях между датой использования и датой выдачи купона по типу\n",
    "\n",
    "f = plt.figure(figsize=(12,5))\n",
    "\n",
    "ax=f.add_subplot(121)\n",
    "sns.distplot(df.query('card_nm == \"Alpha\"').day_diff, color = 'olivedrab', hist = True, kde = False, ax = ax)\n",
    "ax.set_title('Alpha')\n",
    "\n",
    "ax=f.add_subplot(122)\n",
    "sns.distplot(df.query('card_nm == \"Beta\"').day_diff, color = 'gold', hist = True, kde = False, ax = ax)\n",
    "ax.set_title('Beta')"
   ]
  },
  {
   "cell_type": "code",
   "execution_count": 8,
   "id": "791e0455",
   "metadata": {},
   "outputs": [
    {
     "name": "stderr",
     "output_type": "stream",
     "text": [
      "C:\\Users\\volat\\AppData\\Local\\Temp\\ipykernel_8324\\3721853483.py:4: UserWarning: \n",
      "\n",
      "`distplot` is a deprecated function and will be removed in seaborn v0.14.0.\n",
      "\n",
      "Please adapt your code to use either `displot` (a figure-level function with\n",
      "similar flexibility) or `histplot` (an axes-level function for histograms).\n",
      "\n",
      "For a guide to updating your code to use the new functions, please see\n",
      "https://gist.github.com/mwaskom/de44147ed2974457ad6372750bbe5751\n",
      "\n",
      "  sns.distplot(df.query('card_nm == \"Gamma\"').day_diff, color = 'blue', hist = True, kde = False, ax = ax)\n"
     ]
    },
    {
     "data": {
      "text/plain": [
       "Text(0.5, 1.0, 'Gamma')"
      ]
     },
     "execution_count": 8,
     "metadata": {},
     "output_type": "execute_result"
    },
    {
     "data": {
      "image/png": "[encoded data removed]",
      "text/plain": [
       "<Figure size 1200x500 with 1 Axes>"
      ]
     },
     "metadata": {},
     "output_type": "display_data"
    }
   ],
   "source": [
    "f = plt.figure(figsize=(12,5))\n",
    "\n",
    "ax=f.add_subplot(121)\n",
    "sns.distplot(df.query('card_nm == \"Gamma\"').day_diff, color = 'blue', hist = True, kde = False, ax = ax)\n",
    "ax.set_title('Gamma')"
   ]
  },
  {
   "cell_type": "markdown",
   "id": "baf6a708",
   "metadata": {},
   "source": [
    "Для сравнения подходят медианы 3-х групп, распределения скошены вправо (положительно ассиметричны)"
   ]
  },
  {
   "cell_type": "code",
   "execution_count": 9,
   "id": "abc3b1d1",
   "metadata": {},
   "outputs": [
    {
     "data": {
      "text/html": [
       "<div>\n",
       "<style scoped>\n",
       "    .dataframe tbody tr th:only-of-type {\n",
       "        vertical-align: middle;\n",
       "    }\n",
       "\n",
       "    .dataframe tbody tr th {\n",
       "        vertical-align: top;\n",
       "    }\n",
       "\n",
       "    .dataframe thead th {\n",
       "        text-align: right;\n",
       "    }\n",
       "</style>\n",
       "<table border=\"1\" class=\"dataframe\">\n",
       "  <thead>\n",
       "    <tr style=\"text-align: right;\">\n",
       "      <th></th>\n",
       "      <th>card_nm</th>\n",
       "      <th>amount</th>\n",
       "      <th>use_dt</th>\n",
       "      <th>day_diff</th>\n",
       "      <th>cr</th>\n",
       "    </tr>\n",
       "  </thead>\n",
       "  <tbody>\n",
       "    <tr>\n",
       "      <th>0</th>\n",
       "      <td>Alpha</td>\n",
       "      <td>3569</td>\n",
       "      <td>812</td>\n",
       "      <td>9.0</td>\n",
       "      <td>22.75</td>\n",
       "    </tr>\n",
       "    <tr>\n",
       "      <th>1</th>\n",
       "      <td>Beta</td>\n",
       "      <td>1272</td>\n",
       "      <td>89</td>\n",
       "      <td>8.0</td>\n",
       "      <td>7.00</td>\n",
       "    </tr>\n",
       "    <tr>\n",
       "      <th>2</th>\n",
       "      <td>Gamma</td>\n",
       "      <td>1922</td>\n",
       "      <td>693</td>\n",
       "      <td>35.0</td>\n",
       "      <td>36.06</td>\n",
       "    </tr>\n",
       "  </tbody>\n",
       "</table>\n",
       "</div>"
      ],
      "text/plain": [
       "  card_nm  amount  use_dt  day_diff     cr\n",
       "0   Alpha    3569     812       9.0  22.75\n",
       "1    Beta    1272      89       8.0   7.00\n",
       "2   Gamma    1922     693      35.0  36.06"
      ]
     },
     "execution_count": 9,
     "metadata": {},
     "output_type": "execute_result"
    }
   ],
   "source": [
    "conversion = df.groupby('card_nm', as_index=False) \\\n",
    "                .agg({'card_id': 'nunique', 'use_dt': 'count', 'day_diff': 'median'}) \\\n",
    "                .rename(columns={'card_id': 'amount'}) \\\n",
    "                .round(0)\n",
    "\n",
    "conversion['cr'] = round(conversion.use_dt / conversion.amount, 4) * 100\n",
    "\n",
    "conversion"
   ]
  },
  {
   "cell_type": "code",
   "execution_count": 10,
   "id": "8674f383",
   "metadata": {},
   "outputs": [
    {
     "name": "stdout",
     "output_type": "stream",
     "text": [
      "cr_gamma_to_alpha 159.0 %\n"
     ]
    }
   ],
   "source": [
    "cr_gamma_to_alpha = conversion.iloc[2, 4] / conversion.iloc[0, 4] * 100\n",
    "print('cr_gamma_to_alpha',round(cr_gamma_to_alpha, 0),'%')"
   ]
  },
  {
   "cell_type": "code",
   "execution_count": 11,
   "id": "f6dcdd3f",
   "metadata": {},
   "outputs": [
    {
     "name": "stdout",
     "output_type": "stream",
     "text": [
      "cr_gamma_to_beta 515.0 %\n"
     ]
    }
   ],
   "source": [
    "cr_gamma_to_beta = conversion.iloc[2, 4] / conversion.iloc[1, 4] * 100\n",
    "print('cr_gamma_to_beta',round(cr_gamma_to_beta, 0),'%')"
   ]
  },
  {
   "cell_type": "code",
   "execution_count": 12,
   "id": "e066c4dc",
   "metadata": {},
   "outputs": [
    {
     "name": "stdout",
     "output_type": "stream",
     "text": [
      "day_diff_gamma_to_alpha 389.0 %\n"
     ]
    }
   ],
   "source": [
    "day_diff_gamma_to_alpha = conversion.iloc[2, 3] / conversion.iloc[0, 3] * 100\n",
    "print('day_diff_gamma_to_alpha',round(day_diff_gamma_to_alpha, 0),'%')"
   ]
  },
  {
   "cell_type": "code",
   "execution_count": 13,
   "id": "987c1cc8",
   "metadata": {},
   "outputs": [
    {
     "name": "stdout",
     "output_type": "stream",
     "text": [
      "day_diff_gamma_to_beta 438.0 %\n"
     ]
    }
   ],
   "source": [
    "day_diff_gamma_to_beta = conversion.iloc[2, 3] / conversion.iloc[1, 3] * 100\n",
    "print('day_diff_gamma_to_beta',round(day_diff_gamma_to_beta, 0),'%')"
   ]
  },
  {
   "cell_type": "markdown",
   "id": "e42125e1",
   "metadata": {},
   "source": [
    "Выводы:\n",
    "\n",
    "- У купонов типа Gamma самая высокая конверсия в использование - 36.06%, что на 159% больше, чем у Alpha (22.75%) и на 515% больше, чем у Gamma (7%)\n",
    "- У купонов типа Gamma самый длительный средний период между датой использования и датой выдачи - 35 дней, что на 389% больше, чем у Alpha (9 дней) и на 438% больше, чем у Gamma (8 дней)"
   ]
  }
 ],
 "metadata": {
  "kernelspec": {
   "display_name": "Python 3 (ipykernel)",
   "language": "python",
   "name": "python3"
  },
  "language_info": {
   "codemirror_mode": {
    "name": "ipython",
    "version": 3
   },
   "file_extension": ".py",
   "mimetype": "text/x-python",
   "name": "python",
   "nbconvert_exporter": "python",
   "pygments_lexer": "ipython3",
   "version": "3.10.9"
  }
 },
 "nbformat": 4,
 "nbformat_minor": 5
}
