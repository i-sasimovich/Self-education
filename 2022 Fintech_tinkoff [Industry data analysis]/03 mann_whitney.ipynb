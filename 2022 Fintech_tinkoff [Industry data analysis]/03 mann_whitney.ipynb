{
 "cells": [
  {
   "cell_type": "code",
   "execution_count": 1,
   "id": "b32c0634",
   "metadata": {},
   "outputs": [],
   "source": [
    "import pandas as pd\n",
    "import numpy as np\n",
    "import seaborn as sns\n",
    "import matplotlib.pyplot as plt\n",
    "import scipy.stats as stats"
   ]
  },
  {
   "cell_type": "markdown",
   "id": "5f5385e9",
   "metadata": {},
   "source": [
    "### 2 задание\n",
    "В файле test_2 лежит результат теста, который был нацелен на увеличение суммы чека клиента. \n",
    "\n",
    "\n",
    "Изучите результаты теста и сделайте вывод, увеличилась сумма чека или нет. В качестве решения - ноутбук, в котором построено распределение параметра в группах и проверены нужные критерии."
   ]
  },
  {
   "cell_type": "code",
   "execution_count": 2,
   "id": "388ba584",
   "metadata": {},
   "outputs": [],
   "source": [
    "data = pd.read_csv('test_2.csv')"
   ]
  },
  {
   "cell_type": "code",
   "execution_count": 3,
   "id": "0514177a",
   "metadata": {},
   "outputs": [
    {
     "data": {
      "text/html": [
       "<div>\n",
       "<style scoped>\n",
       "    .dataframe tbody tr th:only-of-type {\n",
       "        vertical-align: middle;\n",
       "    }\n",
       "\n",
       "    .dataframe tbody tr th {\n",
       "        vertical-align: top;\n",
       "    }\n",
       "\n",
       "    .dataframe thead th {\n",
       "        text-align: right;\n",
       "    }\n",
       "</style>\n",
       "<table border=\"1\" class=\"dataframe\">\n",
       "  <thead>\n",
       "    <tr style=\"text-align: right;\">\n",
       "      <th></th>\n",
       "      <th>group</th>\n",
       "      <th>client_id</th>\n",
       "      <th>avg_sum</th>\n",
       "    </tr>\n",
       "  </thead>\n",
       "  <tbody>\n",
       "    <tr>\n",
       "      <th>0</th>\n",
       "      <td>test</td>\n",
       "      <td>1</td>\n",
       "      <td>156.686451</td>\n",
       "    </tr>\n",
       "    <tr>\n",
       "      <th>1</th>\n",
       "      <td>test</td>\n",
       "      <td>2</td>\n",
       "      <td>342.625859</td>\n",
       "    </tr>\n",
       "    <tr>\n",
       "      <th>2</th>\n",
       "      <td>test</td>\n",
       "      <td>3</td>\n",
       "      <td>79.712120</td>\n",
       "    </tr>\n",
       "    <tr>\n",
       "      <th>3</th>\n",
       "      <td>test</td>\n",
       "      <td>4</td>\n",
       "      <td>493.110807</td>\n",
       "    </tr>\n",
       "    <tr>\n",
       "      <th>4</th>\n",
       "      <td>test</td>\n",
       "      <td>5</td>\n",
       "      <td>124.135016</td>\n",
       "    </tr>\n",
       "  </tbody>\n",
       "</table>\n",
       "</div>"
      ],
      "text/plain": [
       "  group  client_id     avg_sum\n",
       "0  test          1  156.686451\n",
       "1  test          2  342.625859\n",
       "2  test          3   79.712120\n",
       "3  test          4  493.110807\n",
       "4  test          5  124.135016"
      ]
     },
     "execution_count": 3,
     "metadata": {},
     "output_type": "execute_result"
    }
   ],
   "source": [
    "data.head()"
   ]
  },
  {
   "cell_type": "code",
   "execution_count": 4,
   "id": "6e4691ce",
   "metadata": {},
   "outputs": [
    {
     "data": {
      "text/plain": [
       "(600, 3)"
      ]
     },
     "execution_count": 4,
     "metadata": {},
     "output_type": "execute_result"
    }
   ],
   "source": [
    "data.shape"
   ]
  },
  {
   "cell_type": "code",
   "execution_count": 5,
   "id": "5c9e2719",
   "metadata": {},
   "outputs": [
    {
     "data": {
      "text/plain": [
       "group         object\n",
       "client_id      int64\n",
       "avg_sum      float64\n",
       "dtype: object"
      ]
     },
     "execution_count": 5,
     "metadata": {},
     "output_type": "execute_result"
    }
   ],
   "source": [
    "data.dtypes"
   ]
  },
  {
   "cell_type": "code",
   "execution_count": 6,
   "id": "9f2ce1d9",
   "metadata": {},
   "outputs": [
    {
     "data": {
      "text/plain": [
       "count      600\n",
       "unique       2\n",
       "top       test\n",
       "freq       306\n",
       "Name: group, dtype: object"
      ]
     },
     "execution_count": 6,
     "metadata": {},
     "output_type": "execute_result"
    }
   ],
   "source": [
    "data.group.describe()"
   ]
  },
  {
   "cell_type": "code",
   "execution_count": 7,
   "id": "dce0907d",
   "metadata": {},
   "outputs": [],
   "source": [
    "control = data[data.group == \"control\"].avg_sum\n",
    "test = data[data.group == \"test\"].avg_sum"
   ]
  },
  {
   "cell_type": "code",
   "execution_count": 8,
   "id": "e79f7e26",
   "metadata": {},
   "outputs": [
    {
     "name": "stderr",
     "output_type": "stream",
     "text": [
      "C:\\Users\\volat\\AppData\\Local\\Temp\\ipykernel_7780\\104683051.py:4: UserWarning: \n",
      "\n",
      "`distplot` is a deprecated function and will be removed in seaborn v0.14.0.\n",
      "\n",
      "Please adapt your code to use either `displot` (a figure-level function with\n",
      "similar flexibility) or `histplot` (an axes-level function for histograms).\n",
      "\n",
      "For a guide to updating your code to use the new functions, please see\n",
      "https://gist.github.com/mwaskom/de44147ed2974457ad6372750bbe5751\n",
      "\n",
      "  sns.distplot(control, color = 'olivedrab', hist = True, kde = False, ax = ax)\n",
      "C:\\Users\\volat\\AppData\\Local\\Temp\\ipykernel_7780\\104683051.py:8: UserWarning: \n",
      "\n",
      "`distplot` is a deprecated function and will be removed in seaborn v0.14.0.\n",
      "\n",
      "Please adapt your code to use either `displot` (a figure-level function with\n",
      "similar flexibility) or `histplot` (an axes-level function for histograms).\n",
      "\n",
      "For a guide to updating your code to use the new functions, please see\n",
      "https://gist.github.com/mwaskom/de44147ed2974457ad6372750bbe5751\n",
      "\n",
      "  sns.distplot(test, color = 'gold', hist = True, kde = False, ax=ax)\n"
     ]
    },
    {
     "data": {
      "text/plain": [
       "Text(0.5, 1.0, 'test')"
      ]
     },
     "execution_count": 8,
     "metadata": {},
     "output_type": "execute_result"
    },
    {
     "data": {
      "image/png": "[encoded data removed]",
      "text/plain": [
       "<Figure size 1200x500 with 2 Axes>"
      ]
     },
     "metadata": {},
     "output_type": "display_data"
    }
   ],
   "source": [
    "f = plt.figure(figsize=(12,5))\n",
    "\n",
    "ax=f.add_subplot(121)\n",
    "sns.distplot(control, color = 'olivedrab', hist = True, kde = False, ax = ax)\n",
    "ax.set_title('control')\n",
    "\n",
    "ax=f.add_subplot(122)\n",
    "sns.distplot(test, color = 'gold', hist = True, kde = False, ax=ax)\n",
    "ax.set_title('test')"
   ]
  },
  {
   "cell_type": "code",
   "execution_count": 9,
   "id": "7cd1d5e4",
   "metadata": {},
   "outputs": [],
   "source": [
    "#### Проверим данные на нормальность"
   ]
  },
  {
   "cell_type": "code",
   "execution_count": 10,
   "id": "26ddce98",
   "metadata": {},
   "outputs": [
    {
     "data": {
      "image/png": "[encoded data removed]",
      "text/plain": [
       "<Figure size 640x480 with 1 Axes>"
      ]
     },
     "metadata": {},
     "output_type": "display_data"
    },
    {
     "data": {
      "image/png": "[encoded data removed]",
      "text/plain": [
       "<Figure size 640x480 with 1 Axes>"
      ]
     },
     "metadata": {},
     "output_type": "display_data"
    }
   ],
   "source": [
    "stats.probplot(control, dist=\"norm\", plot=plt)\n",
    "plt.show()\n",
    "\n",
    "stats.probplot(test, dist=\"norm\", plot=plt)\n",
    "plt.show()"
   ]
  },
  {
   "cell_type": "markdown",
   "id": "46fbff52",
   "metadata": {},
   "source": [
    "#### Критерий Шапиро-Уилка"
   ]
  },
  {
   "cell_type": "code",
   "execution_count": 11,
   "id": "0fab34c8",
   "metadata": {},
   "outputs": [],
   "source": [
    "groups = [control, test]"
   ]
  },
  {
   "cell_type": "code",
   "execution_count": 12,
   "id": "c7d9b91c",
   "metadata": {},
   "outputs": [
    {
     "name": "stdout",
     "output_type": "stream",
     "text": [
      "Not normal W= 0.8395 p-value 0.0\n",
      "Not normal W= 0.8082 p-value 0.0\n"
     ]
    }
   ],
   "source": [
    "# Критерий Шапиро-Уилка\n",
    "# используется для проверки гипотезы H_0:\n",
    "# «случайная величина X распределена нормально» \n",
    "# является одним наиболее эффективных критериев проверки нормальности.\n",
    "for group in groups:\n",
    "    W_value,p_value = stats.shapiro(group)\n",
    "    if p_value > 0.05:\n",
    "        print('Normal','W=',round(W_value,4),'p-value',round(p_value,4))\n",
    "    else:\n",
    "        print('Not normal','W=',round(W_value,4),'p-value',round(p_value,4))"
   ]
  },
  {
   "cell_type": "markdown",
   "id": "5c0bb46c",
   "metadata": {},
   "source": [
    "### Тест\n",
    "\n",
    " Мы ожидаем, что сумма чека в тестовой группе будет выше. Важно понять, увеличилась сумма чека или нет. Поэтому мы формулируем двустороннюю альтернативную гипотезу!  -->\n",
    " "
   ]
  },
  {
   "cell_type": "markdown",
   "id": "48c537c4",
   "metadata": {},
   "source": [
    "* H0 - сумма чека в группах не имет значимых различий;\n",
    "* H1 - сумма чека в группах больше в тестовой выборке"
   ]
  },
  {
   "cell_type": "markdown",
   "id": "a2470383",
   "metadata": {},
   "source": [
    "Определим уровень значимости.\n",
    "* Берем a = 0.05"
   ]
  },
  {
   "cell_type": "markdown",
   "id": "e8917749",
   "metadata": {},
   "source": [
    "###   Непараметрический критерий Манна - Уитни"
   ]
  },
  {
   "cell_type": "markdown",
   "id": "97817de9",
   "metadata": {},
   "source": [
    "Суммы чека распределены не нормально. Один из популярных методов сравнения в двух независимых группах - ***критерий Манна-Уитни***."
   ]
  },
  {
   "cell_type": "markdown",
   "id": "59f8a616",
   "metadata": {},
   "source": [
    "**Непараметрические** критерии не требуют соответствия какому-либо из распределений. Непараметрические критерии заменяют реальные значения признака рангами (номерами элементов в упорядоченной по возрастанию выборке). Мы все вычисляем на основе полученных рангов, таким образом, мы и правда не привязываемся к параметрам распределения, как в случае с критерием Стьюдента"
   ]
  },
  {
   "cell_type": "markdown",
   "id": "281c1549",
   "metadata": {},
   "source": [
    "**Критерий Манна-Уитни** представляет непараметрическую альтернативу t-критерия для независимых выборок. Преимущество его состоит в том, что мы отказываемся от предположения нормальности распределения и одинаковых дисперсий. Необходимо, чтобы данные были измерены как минимум в порядковой шкале. Относится к ранговым критериям."
   ]
  },
  {
   "cell_type": "markdown",
   "id": "f550bb26",
   "metadata": {},
   "source": [
    "Интерпретация теста по существу похожа на интерпретацию результатов t-критерия для независимых выборок, за исключением того, что U критерий вычисляется, как сумма индикаторов попарного сравнения элементов первой выборки с элементами второй выборки. U критерий - наиболее мощная (чувствительная) непараметрическая альтернатива t-критерия для независимых выборок; фактически, в некоторых случаях он имеет даже большую мощность, чем t-критерий."
   ]
  },
  {
   "cell_type": "markdown",
   "id": "fc8bca9e",
   "metadata": {},
   "source": [
    "**Важная поправка** при больших значениях выборки распределение U-критерия быстро сходится к нормальному распределению, поэтому для интерпретации рассчитывается z-значение, если количество элементов в выборках больше 60"
   ]
  },
  {
   "cell_type": "markdown",
   "id": "52908df0",
   "metadata": {},
   "source": [
    "***Формула для расчета U-критерия (статистики теста):***"
   ]
  },
  {
   "cell_type": "markdown",
   "id": "0f264c24",
   "metadata": {},
   "source": [
    "![u](https://i.pinimg.com/564x/7f/40/70/7f407010828abd65c1602e0472a8a096.jpg)"
   ]
  },
  {
   "cell_type": "markdown",
   "id": "0c4158bb",
   "metadata": {},
   "source": [
    "**Из двух выборок получим одну,отсортируем и затем расставим ранги**. Максимальное значение в группе имеет первый ранг и так далее."
   ]
  },
  {
   "cell_type": "code",
   "execution_count": 13,
   "id": "aea59e16",
   "metadata": {},
   "outputs": [],
   "source": [
    "# проставлем ранги (номера элементов в упорядоченной по возрастанию выборке)\n",
    "data['rank'] = data['avg_sum'].rank(ascending = False, numeric_only = True)"
   ]
  },
  {
   "cell_type": "code",
   "execution_count": 14,
   "id": "aad88f84",
   "metadata": {},
   "outputs": [
    {
     "data": {
      "text/html": [
       "<div>\n",
       "<style scoped>\n",
       "    .dataframe tbody tr th:only-of-type {\n",
       "        vertical-align: middle;\n",
       "    }\n",
       "\n",
       "    .dataframe tbody tr th {\n",
       "        vertical-align: top;\n",
       "    }\n",
       "\n",
       "    .dataframe thead th {\n",
       "        text-align: right;\n",
       "    }\n",
       "</style>\n",
       "<table border=\"1\" class=\"dataframe\">\n",
       "  <thead>\n",
       "    <tr style=\"text-align: right;\">\n",
       "      <th></th>\n",
       "      <th>group</th>\n",
       "      <th>client_id</th>\n",
       "      <th>avg_sum</th>\n",
       "      <th>rank</th>\n",
       "    </tr>\n",
       "  </thead>\n",
       "  <tbody>\n",
       "    <tr>\n",
       "      <th>0</th>\n",
       "      <td>test</td>\n",
       "      <td>1</td>\n",
       "      <td>156.686451</td>\n",
       "      <td>233.0</td>\n",
       "    </tr>\n",
       "    <tr>\n",
       "      <th>1</th>\n",
       "      <td>test</td>\n",
       "      <td>2</td>\n",
       "      <td>342.625859</td>\n",
       "      <td>79.0</td>\n",
       "    </tr>\n",
       "    <tr>\n",
       "      <th>2</th>\n",
       "      <td>test</td>\n",
       "      <td>3</td>\n",
       "      <td>79.712120</td>\n",
       "      <td>383.0</td>\n",
       "    </tr>\n",
       "    <tr>\n",
       "      <th>3</th>\n",
       "      <td>test</td>\n",
       "      <td>4</td>\n",
       "      <td>493.110807</td>\n",
       "      <td>30.0</td>\n",
       "    </tr>\n",
       "    <tr>\n",
       "      <th>4</th>\n",
       "      <td>test</td>\n",
       "      <td>5</td>\n",
       "      <td>124.135016</td>\n",
       "      <td>290.0</td>\n",
       "    </tr>\n",
       "  </tbody>\n",
       "</table>\n",
       "</div>"
      ],
      "text/plain": [
       "  group  client_id     avg_sum   rank\n",
       "0  test          1  156.686451  233.0\n",
       "1  test          2  342.625859   79.0\n",
       "2  test          3   79.712120  383.0\n",
       "3  test          4  493.110807   30.0\n",
       "4  test          5  124.135016  290.0"
      ]
     },
     "execution_count": 14,
     "metadata": {},
     "output_type": "execute_result"
    }
   ],
   "source": [
    "data.head()"
   ]
  },
  {
   "cell_type": "code",
   "execution_count": 15,
   "id": "d5e98df0",
   "metadata": {},
   "outputs": [
    {
     "data": {
      "text/plain": [
       "group\n",
       "control    94308.0\n",
       "test       85992.0\n",
       "Name: rank, dtype: float64"
      ]
     },
     "execution_count": 15,
     "metadata": {},
     "output_type": "execute_result"
    }
   ],
   "source": [
    "# Дальше необходимо вычислить сумму рангов\n",
    "data.groupby('group')['rank'].sum()"
   ]
  },
  {
   "cell_type": "code",
   "execution_count": 16,
   "id": "17bb33a4",
   "metadata": {},
   "outputs": [],
   "source": [
    "# разделяем обратно на 2 выборки\n",
    "a = data[data['group'] == 'control']['avg_sum']\n",
    "b = data[data['group'] == 'test']['avg_sum']\n",
    "rank_a = data[data['group'] == 'control']['rank'].sum()\n",
    "rank_b = data[data['group'] == 'test']['rank'].sum()"
   ]
  },
  {
   "cell_type": "markdown",
   "id": "5326e871",
   "metadata": {},
   "source": [
    "![u](https://i.pinimg.com/564x/7f/40/70/7f407010828abd65c1602e0472a8a096.jpg)"
   ]
  },
  {
   "cell_type": "code",
   "execution_count": 17,
   "id": "fbb41154",
   "metadata": {},
   "outputs": [],
   "source": [
    "# Вычисляем критерий по формуле\n",
    "def U(a,b,rank_a,rank_b):\n",
    "    number_of_values_a = a.count() #N1\n",
    "    number_of_values_b = b.count() #N2\n",
    "    all_values = number_of_values_a * number_of_values_b #N1*N2\n",
    "    max_rank = max(rank_a,rank_b) #T_x, x=1,2\n",
    "    max_count = float() #N_x , x=1,2\n",
    "    if rank_a > rank_b:\n",
    "        max_count = number_of_values_a\n",
    "    else:\n",
    "        max_count = number_of_values_b\n",
    "    return (all_values + (max_count * (max_count + 1))/2) - max_rank"
   ]
  },
  {
   "cell_type": "code",
   "execution_count": 18,
   "id": "aa10228e",
   "metadata": {},
   "outputs": [
    {
     "name": "stdout",
     "output_type": "stream",
     "text": [
      "U-критерий = 39021.0\n"
     ]
    }
   ],
   "source": [
    "print('U-критерий =',U(a,b,rank_a,rank_b))"
   ]
  },
  {
   "cell_type": "markdown",
   "id": "5bcf326f",
   "metadata": {},
   "source": [
    "Теперь это надо как-то интерпретировать и вывести p-value. Выше упоминали, что при размере выборки > 60 распределение U-критерия отлично сходится к нормальному, поэтому мы рассчитываем z-значение для нашего U-критерия и по нему получаем наш заветный p-value и результат т.к. Z-тест (z-критерий Фишера) — проверяет гипотезы, основанные на нормальном распределении"
   ]
  },
  {
   "cell_type": "markdown",
   "id": "3621dd57",
   "metadata": {},
   "source": [
    "***Z - значение*** - это мера относительного разброса наблюдаемого или измеренного значения, которая показывает, сколько стандартных отклонений составляет его разброс относительного среднего значения. Это безразмерный статистический показатель используемый для сравнения значений разной размерности или шкалой измерений.\n",
    "\n",
    "![z](https://i.pinimg.com/originals/9f/b5/36/9fb536c3c368b01f17b4231c4b842951.png)"
   ]
  },
  {
   "cell_type": "code",
   "execution_count": 19,
   "id": "cb826e10",
   "metadata": {},
   "outputs": [],
   "source": [
    "def z_score(a,b):\n",
    "    m_u = (a.count()*b.count())/2 \n",
    "    sigma_u = np.sqrt((a.count()*b.count())*(a.count()+b.count()+1)/12)\n",
    "    return (U(a,b,rank_a,rank_b) - m_u)/sigma_u"
   ]
  },
  {
   "cell_type": "code",
   "execution_count": 20,
   "id": "c292255c",
   "metadata": {},
   "outputs": [
    {
     "data": {
      "text/plain": [
       "0.005"
      ]
     },
     "execution_count": 20,
     "metadata": {},
     "output_type": "execute_result"
    }
   ],
   "source": [
    "round(stats.norm.cdf(z_score(a,b)) * 2.0,4)"
   ]
  },
  {
   "cell_type": "code",
   "execution_count": 21,
   "id": "e7fc0909",
   "metadata": {},
   "outputs": [],
   "source": [
    "def MannWhitney(a,b,rank_a,rank_b):\n",
    "    U = min((rank_a - (a.count() * (a.count() + 1))/2),(rank_b - (b.count() * (b.count() + 1))/2))\n",
    "    m_u = (a.count()*b.count())/2\n",
    "    sigma_u = np.sqrt((a.count()*b.count())*(a.count()+ b.count()+1)/12)\n",
    "    z_score = (U - m_u)/sigma_u\n",
    "    p_val = stats.norm.cdf(z_score) \n",
    "    if p_val > 0.05:\n",
    "        print('Нет статистически значимой разницы и оснований отвергнуть гипотезу H0','\\nU-критерий:',U,\n",
    "              '\\nz_score',z_score,'\\np-value',round(p_val,4))\n",
    "    else:\n",
    "        print('Есть статистически значимая разница, гипотеза H0 отвергается','\\nU-критерий:',U,\n",
    "              '\\nz_score',z_score,'\\np-value',round(p_val,4))\n",
    "        return"
   ]
  },
  {
   "cell_type": "code",
   "execution_count": 22,
   "id": "097b4de1",
   "metadata": {},
   "outputs": [
    {
     "name": "stdout",
     "output_type": "stream",
     "text": [
      "Есть статистически значимая разница, гипотеза H0 отвергается \n",
      "U-критерий: 39021.0 \n",
      "z_score -2.808265278778519 \n",
      "p-value 0.0025\n"
     ]
    }
   ],
   "source": [
    "MannWhitney(a,b,rank_a,rank_b)"
   ]
  },
  {
   "cell_type": "markdown",
   "id": "cae9c10e",
   "metadata": {},
   "source": [
    "Также воспользуемся библиотекой scipy для расчета U-критерия и p-value"
   ]
  },
  {
   "cell_type": "code",
   "execution_count": 23,
   "id": "5b502454",
   "metadata": {},
   "outputs": [
    {
     "name": "stdout",
     "output_type": "stream",
     "text": [
      "Разница статистически значима \n",
      "p-value 0.005 \n",
      "U-критерий 39021.0\n"
     ]
    }
   ],
   "source": [
    "stat, p_val = stats.mannwhitneyu(a,b,alternative = 'two-sided')\n",
    "if p_val > 0.05:\n",
    "    print('Статистически значимой разницы нет','\\np-value', round(p_val,4),'\\nU-критерий', stat)\n",
    "else:\n",
    "    print('Разница статистически значима','\\np-value', round(p_val,4),'\\nU-критерий', stat)"
   ]
  }
 ],
 "metadata": {
  "kernelspec": {
   "display_name": "Python 3 (ipykernel)",
   "language": "python",
   "name": "python3"
  },
  "language_info": {
   "codemirror_mode": {
    "name": "ipython",
    "version": 3
   },
   "file_extension": ".py",
   "mimetype": "text/x-python",
   "name": "python",
   "nbconvert_exporter": "python",
   "pygments_lexer": "ipython3",
   "version": "3.10.9"
  }
 },
 "nbformat": 4,
 "nbformat_minor": 5
}
