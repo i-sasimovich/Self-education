{
 "cells": [
  {
   "cell_type": "markdown",
   "metadata": {
    "id": "FjORfQk2hh_f"
   },
   "source": [
    "**Задачи по SQL c курса Tinkoff. Анализ данных в индустрии. Вольные слушатели 2022**"
   ]
  },
  {
   "cell_type": "markdown",
   "metadata": {
    "id": "v0GeElaTjucN"
   },
   "source": [
    "**Тинькофф Квест (легенда)**\n",
    "\n",
    "Давайте предположим, что мы запускаем проект \"Тинькофф Квест\". \n",
    "* Открываем квесты во всей стране по франшизной системе, то есть, каждой локацией по\n",
    "факту владеем не мы, а наши партнеры. Каждая локация принадлежит только одному\n",
    "партнеру.\n",
    "* Локация – это по сути помещение, при этом на одной локации может проводиться \n",
    "несколько квестов, если наш партнер сможет их все уместить, естественно с соблюдением\n",
    "всех норм и правил безопасности.\n",
    "* В рамках нашего проекта, партнеры в праве продавать легенды (сценарии) своих квестов\n",
    "другим участникам проекта. Мы даже наняли несколько креативных агентств, которые\n",
    "нам написали несколько базовых легенд для квестов.\n",
    "* Игрой будем называть слот в расписании. Так вот, в рамках каждой отдельной игры, \n",
    "команде участников будет предложено пройти квест за 50 минут, кто-то справляется \n",
    "быстрее, а кто-то наоборот не успевает пройти. Бывает и такое, что игра может не \n",
    "состояться, если на нее никто не записался.\n",
    "* В ходе прохождения игры, участникам будет помогать оператор.\n",
    "\n",
    "\n",
    "P.S. Данная история целиком и полностью вымышленная, все совпадения с реальными \n",
    "личностями случайны :-)"
   ]
  },
  {
   "cell_type": "markdown",
   "metadata": {
    "id": "Wb0yKWU7gmSL"
   },
   "source": [
    "[Модель хранилища данных](https://drive.google.com/file/d/1USLaTugBAPl99DCfq7N54rO-Odqnm2Ik/view?usp=sharing)"
   ]
  },
  {
   "cell_type": "code",
   "execution_count": null,
   "metadata": {
    "colab": {
     "base_uri": "https://localhost:8080/"
    },
    "id": "Dx5iPHJmoHx1",
    "outputId": "9274ebd5-231a-4047-dcb8-fab9da8e5fb0"
   },
   "outputs": [
    {
     "name": "stderr",
     "output_type": "stream",
     "text": [
      "\"gdown\" ­Ґ пў«пҐвбп ў­гваҐ­­Ґ© Ё«Ё ў­Ґи­Ґ©\n",
      "Є®¬ ­¤®©, ЁбЇ®«­пҐ¬®© Їа®Ја ¬¬®© Ё«Ё Ї ЄҐв­л¬ д ©«®¬.\n"
     ]
    }
   ],
   "source": [
    "# Обновление версии sqlite3 до поддерживающей оконные функции (если необходимо)\n",
    "\n",
    "! gdown 1CDqqyKV9BvrvnuR1l8HVz0aYuM4yOTUr\n",
    "! mv _sqlite3.cpython-38-x86_64-linux-gnu.so /usr/lib/python3.8/lib-dynload/\n",
    "import os\n",
    "os.kill(os.getpid(), 9)"
   ]
  },
  {
   "cell_type": "code",
   "execution_count": 1,
   "metadata": {
    "id": "no2e3L6IpP3h"
   },
   "outputs": [],
   "source": [
    "import sqlite3\n",
    "import pandas as pd"
   ]
  },
  {
   "cell_type": "code",
   "execution_count": 2,
   "metadata": {
    "colab": {
     "base_uri": "https://localhost:8080/",
     "height": 35
    },
    "id": "3VmdT1puvS5U",
    "outputId": "b5ddcc7a-c969-4e98-b5a6-890cd3129994"
   },
   "outputs": [
    {
     "data": {
      "text/plain": [
       "'3.40.1'"
      ]
     },
     "execution_count": 2,
     "metadata": {},
     "output_type": "execute_result"
    }
   ],
   "source": [
    "sqlite3.sqlite_version"
   ]
  },
  {
   "cell_type": "markdown",
   "metadata": {
    "id": "1WFmk4BCJHEt"
   },
   "source": [
    "**1)** Со сколькими креативными агентствами мы работаем? Креативное агентство – это партнер без единой локации, но имеющий патент на хотя бы одну легенду."
   ]
  },
  {
   "cell_type": "code",
   "execution_count": 3,
   "metadata": {
    "id": "EYQd7e2Oypyb"
   },
   "outputs": [],
   "source": [
    "con = sqlite3.connect('tinkoff_sql.db')"
   ]
  },
  {
   "cell_type": "code",
   "execution_count": 4,
   "metadata": {
    "id": "JVuLRdOifAwg"
   },
   "outputs": [],
   "source": [
    "url = 'https://drive.google.com/file/d/1_pxIArWrURmECXb_y8xtZHO_JXUu4Z1R/view?usp=share_link'\n",
    "path = 'https://drive.google.com/uc?export=download&id='+url.split('/')[-2]"
   ]
  },
  {
   "cell_type": "code",
   "execution_count": 5,
   "metadata": {
    "colab": {
     "base_uri": "https://localhost:8080/",
     "height": 143
    },
    "id": "9wwlJZSCfC1Q",
    "outputId": "88608fd2-d566-409f-f581-3a30158c056b"
   },
   "outputs": [
    {
     "data": {
      "text/html": [
       "<div>\n",
       "<style scoped>\n",
       "    .dataframe tbody tr th:only-of-type {\n",
       "        vertical-align: middle;\n",
       "    }\n",
       "\n",
       "    .dataframe tbody tr th {\n",
       "        vertical-align: top;\n",
       "    }\n",
       "\n",
       "    .dataframe thead th {\n",
       "        text-align: right;\n",
       "    }\n",
       "</style>\n",
       "<table border=\"1\" class=\"dataframe\">\n",
       "  <thead>\n",
       "    <tr style=\"text-align: right;\">\n",
       "      <th></th>\n",
       "      <th>location_rk</th>\n",
       "      <th>partner_rk</th>\n",
       "      <th>city_nm</th>\n",
       "      <th>metro_nm</th>\n",
       "    </tr>\n",
       "  </thead>\n",
       "  <tbody>\n",
       "    <tr>\n",
       "      <th>0</th>\n",
       "      <td>3854</td>\n",
       "      <td>369</td>\n",
       "      <td>Москва</td>\n",
       "      <td>Деловой центр</td>\n",
       "    </tr>\n",
       "    <tr>\n",
       "      <th>1</th>\n",
       "      <td>3855</td>\n",
       "      <td>371</td>\n",
       "      <td>Санкт-петербург</td>\n",
       "      <td>Пушкинская</td>\n",
       "    </tr>\n",
       "    <tr>\n",
       "      <th>2</th>\n",
       "      <td>3856</td>\n",
       "      <td>377</td>\n",
       "      <td>Екатеринбург</td>\n",
       "      <td>Площадь 1905 года</td>\n",
       "    </tr>\n",
       "  </tbody>\n",
       "</table>\n",
       "</div>"
      ],
      "text/plain": [
       "   location_rk  partner_rk          city_nm           metro_nm\n",
       "0         3854         369           Москва      Деловой центр\n",
       "1         3855         371  Санкт-петербург         Пушкинская\n",
       "2         3856         377     Екатеринбург  Площадь 1905 года"
      ]
     },
     "execution_count": 5,
     "metadata": {},
     "output_type": "execute_result"
    }
   ],
   "source": [
    "location_df = pd.read_csv(path)\n",
    "location_df.head(3)"
   ]
  },
  {
   "cell_type": "code",
   "execution_count": 6,
   "metadata": {
    "id": "9wm94PFTUvcD"
   },
   "outputs": [
    {
     "data": {
      "text/plain": [
       "14"
      ]
     },
     "execution_count": 6,
     "metadata": {},
     "output_type": "execute_result"
    }
   ],
   "source": [
    "location_df.to_sql('location',con,index=False,if_exists='replace')"
   ]
  },
  {
   "cell_type": "code",
   "execution_count": 7,
   "metadata": {
    "id": "fSj-KIxkYmQL"
   },
   "outputs": [],
   "source": [
    "url = 'https://drive.google.com/file/d/1YhOLDJa-jrLmDHJUyFMwRVTbHWaY9awy/view?usp=share_link'\n",
    "path = 'https://drive.google.com/uc?export=download&id='+url.split('/')[-2]"
   ]
  },
  {
   "cell_type": "code",
   "execution_count": 8,
   "metadata": {
    "colab": {
     "base_uri": "https://localhost:8080/",
     "height": 143
    },
    "id": "hj09-xdYYYiO",
    "outputId": "830bafbd-8097-4259-a5a1-0ae03958de75"
   },
   "outputs": [
    {
     "data": {
      "text/html": [
       "<div>\n",
       "<style scoped>\n",
       "    .dataframe tbody tr th:only-of-type {\n",
       "        vertical-align: middle;\n",
       "    }\n",
       "\n",
       "    .dataframe tbody tr th {\n",
       "        vertical-align: top;\n",
       "    }\n",
       "\n",
       "    .dataframe thead th {\n",
       "        text-align: right;\n",
       "    }\n",
       "</style>\n",
       "<table border=\"1\" class=\"dataframe\">\n",
       "  <thead>\n",
       "    <tr style=\"text-align: right;\">\n",
       "      <th></th>\n",
       "      <th>partner_rk</th>\n",
       "      <th>partner_nm</th>\n",
       "    </tr>\n",
       "  </thead>\n",
       "  <tbody>\n",
       "    <tr>\n",
       "      <th>0</th>\n",
       "      <td>368</td>\n",
       "      <td>Porsche</td>\n",
       "    </tr>\n",
       "    <tr>\n",
       "      <th>1</th>\n",
       "      <td>369</td>\n",
       "      <td>Aston Martin</td>\n",
       "    </tr>\n",
       "    <tr>\n",
       "      <th>2</th>\n",
       "      <td>370</td>\n",
       "      <td>Tesla</td>\n",
       "    </tr>\n",
       "  </tbody>\n",
       "</table>\n",
       "</div>"
      ],
      "text/plain": [
       "   partner_rk    partner_nm\n",
       "0         368       Porsche\n",
       "1         369  Aston Martin\n",
       "2         370         Tesla"
      ]
     },
     "execution_count": 8,
     "metadata": {},
     "output_type": "execute_result"
    }
   ],
   "source": [
    "partner_df = pd.read_csv(path)\n",
    "partner_df.head(3)"
   ]
  },
  {
   "cell_type": "code",
   "execution_count": 9,
   "metadata": {
    "id": "4djXGL-mUNgl"
   },
   "outputs": [
    {
     "data": {
      "text/plain": [
       "11"
      ]
     },
     "execution_count": 9,
     "metadata": {},
     "output_type": "execute_result"
    }
   ],
   "source": [
    "partner_df.to_sql('partner',con,index=False,if_exists='replace')"
   ]
  },
  {
   "cell_type": "code",
   "execution_count": 10,
   "metadata": {
    "id": "iXC5MvyHUNry"
   },
   "outputs": [],
   "source": [
    "url = 'https://drive.google.com/file/d/1s7pyxenpTj5rflnfd6rKM-e0pJTkwGqQ/view?usp=share_link'\n",
    "path = 'https://drive.google.com/uc?export=download&id='+url.split('/')[-2]"
   ]
  },
  {
   "cell_type": "code",
   "execution_count": 11,
   "metadata": {
    "colab": {
     "base_uri": "https://localhost:8080/",
     "height": 143
    },
    "id": "A_81y3S-UN1L",
    "outputId": "6f56c890-35d0-47be-f5ff-566506aa7bba"
   },
   "outputs": [
    {
     "data": {
      "text/html": [
       "<div>\n",
       "<style scoped>\n",
       "    .dataframe tbody tr th:only-of-type {\n",
       "        vertical-align: middle;\n",
       "    }\n",
       "\n",
       "    .dataframe tbody tr th {\n",
       "        vertical-align: top;\n",
       "    }\n",
       "\n",
       "    .dataframe thead th {\n",
       "        text-align: right;\n",
       "    }\n",
       "</style>\n",
       "<table border=\"1\" class=\"dataframe\">\n",
       "  <thead>\n",
       "    <tr style=\"text-align: right;\">\n",
       "      <th></th>\n",
       "      <th>legend_rk</th>\n",
       "      <th>partner_rk</th>\n",
       "      <th>legend_nm</th>\n",
       "      <th>complexity</th>\n",
       "    </tr>\n",
       "  </thead>\n",
       "  <tbody>\n",
       "    <tr>\n",
       "      <th>0</th>\n",
       "      <td>28348</td>\n",
       "      <td>372</td>\n",
       "      <td>Готэм</td>\n",
       "      <td>1</td>\n",
       "    </tr>\n",
       "    <tr>\n",
       "      <th>1</th>\n",
       "      <td>28349</td>\n",
       "      <td>377</td>\n",
       "      <td>Иллюзия обмана</td>\n",
       "      <td>2</td>\n",
       "    </tr>\n",
       "    <tr>\n",
       "      <th>2</th>\n",
       "      <td>28350</td>\n",
       "      <td>372</td>\n",
       "      <td>Интерстеллар</td>\n",
       "      <td>1</td>\n",
       "    </tr>\n",
       "  </tbody>\n",
       "</table>\n",
       "</div>"
      ],
      "text/plain": [
       "   legend_rk  partner_rk       legend_nm  complexity\n",
       "0      28348         372          Готэм            1\n",
       "1      28349         377  Иллюзия обмана           2\n",
       "2      28350         372    Интерстеллар           1"
      ]
     },
     "execution_count": 11,
     "metadata": {},
     "output_type": "execute_result"
    }
   ],
   "source": [
    "legend_df = pd.read_csv(path)\n",
    "legend_df.head(3)"
   ]
  },
  {
   "cell_type": "code",
   "execution_count": 12,
   "metadata": {
    "id": "Elfr1NQzUN5F"
   },
   "outputs": [
    {
     "data": {
      "text/plain": [
       "20"
      ]
     },
     "execution_count": 12,
     "metadata": {},
     "output_type": "execute_result"
    }
   ],
   "source": [
    "legend_df.to_sql('legend',con,index=False,if_exists='replace')"
   ]
  },
  {
   "cell_type": "code",
   "execution_count": 13,
   "metadata": {
    "id": "8c6aAAbqV_p_"
   },
   "outputs": [],
   "source": [
    "def select(sql):\n",
    "  return pd.read_sql(sql,con)"
   ]
  },
  {
   "cell_type": "code",
   "execution_count": 14,
   "metadata": {
    "id": "SWnQRWXmWET_"
   },
   "outputs": [],
   "source": [
    "sql = '''SELECT \n",
    "  p.partner_rk, \n",
    "  p.partner_nm, \n",
    "  l.location_rk, \n",
    "  COUNT(leg.legend_rk) AS legends \n",
    "FROM \n",
    "  partner p \n",
    "  LEFT JOIN location l ON p.partner_rk = l.partner_rk \n",
    "  LEFT JOIN legend leg ON p.partner_rk = leg.partner_rk \n",
    "WHERE location_rk IS NULL AND legend_rk > 0\n",
    "GROUP BY p.partner_rk,  p.partner_nm\n",
    "HAVING legends > 0\n",
    "\n",
    "      '''"
   ]
  },
  {
   "cell_type": "code",
   "execution_count": 15,
   "metadata": {
    "colab": {
     "base_uri": "https://localhost:8080/",
     "height": 143
    },
    "id": "VyuuD-N3XmAO",
    "outputId": "c2fb3cc3-7efd-40d0-9110-eddc8b643936"
   },
   "outputs": [
    {
     "data": {
      "text/html": [
       "<div>\n",
       "<style scoped>\n",
       "    .dataframe tbody tr th:only-of-type {\n",
       "        vertical-align: middle;\n",
       "    }\n",
       "\n",
       "    .dataframe tbody tr th {\n",
       "        vertical-align: top;\n",
       "    }\n",
       "\n",
       "    .dataframe thead th {\n",
       "        text-align: right;\n",
       "    }\n",
       "</style>\n",
       "<table border=\"1\" class=\"dataframe\">\n",
       "  <thead>\n",
       "    <tr style=\"text-align: right;\">\n",
       "      <th></th>\n",
       "      <th>partner_rk</th>\n",
       "      <th>partner_nm</th>\n",
       "      <th>location_rk</th>\n",
       "      <th>legends</th>\n",
       "    </tr>\n",
       "  </thead>\n",
       "  <tbody>\n",
       "    <tr>\n",
       "      <th>0</th>\n",
       "      <td>368</td>\n",
       "      <td>Porsche</td>\n",
       "      <td>None</td>\n",
       "      <td>2</td>\n",
       "    </tr>\n",
       "    <tr>\n",
       "      <th>1</th>\n",
       "      <td>370</td>\n",
       "      <td>Tesla</td>\n",
       "      <td>None</td>\n",
       "      <td>2</td>\n",
       "    </tr>\n",
       "    <tr>\n",
       "      <th>2</th>\n",
       "      <td>373</td>\n",
       "      <td>Ferrari</td>\n",
       "      <td>None</td>\n",
       "      <td>2</td>\n",
       "    </tr>\n",
       "  </tbody>\n",
       "</table>\n",
       "</div>"
      ],
      "text/plain": [
       "   partner_rk partner_nm location_rk  legends\n",
       "0         368    Porsche        None        2\n",
       "1         370      Tesla        None        2\n",
       "2         373    Ferrari        None        2"
      ]
     },
     "execution_count": 15,
     "metadata": {},
     "output_type": "execute_result"
    }
   ],
   "source": [
    "select(sql)"
   ]
  },
  {
   "cell_type": "markdown",
   "metadata": {
    "id": "pup7bF0wZvyB"
   },
   "source": [
    "**Ответ: 3.** Мы работаем c 3-мя креативными агентствами: Porsche, Tesla, Ferrari."
   ]
  },
  {
   "cell_type": "markdown",
   "metadata": {
    "id": "4Brk-rotY-eK"
   },
   "source": [
    "**2)** У какого квеста (выпишите его quest_nm) разница доли состоявшихся квестов в январе и в \n",
    "феврале наибольшая по модулю? Долей считать количество состоявшихся квестов\n",
    "деленное на количество заявленных. В случае наличия нескольких квестов, подходящих \n",
    "под условие, требуется вывести тот, у которого значение quest_rk больше."
   ]
  },
  {
   "cell_type": "code",
   "execution_count": 16,
   "metadata": {
    "id": "3pLPpf7XmW2Q"
   },
   "outputs": [],
   "source": [
    "url = 'https://drive.google.com/file/d/1qcBhbq9SR2diPmgBinSv7w3THHhpHbW_/view?usp=share_link'\n",
    "path = 'https://drive.google.com/uc?export=download&id='+url.split('/')[-2]"
   ]
  },
  {
   "cell_type": "code",
   "execution_count": 17,
   "metadata": {
    "colab": {
     "base_uri": "https://localhost:8080/",
     "height": 143
    },
    "id": "CLORGviEmY--",
    "outputId": "e412211e-69be-41c5-93e3-b8b968400523"
   },
   "outputs": [
    {
     "data": {
      "text/html": [
       "<div>\n",
       "<style scoped>\n",
       "    .dataframe tbody tr th:only-of-type {\n",
       "        vertical-align: middle;\n",
       "    }\n",
       "\n",
       "    .dataframe tbody tr th {\n",
       "        vertical-align: top;\n",
       "    }\n",
       "\n",
       "    .dataframe thead th {\n",
       "        text-align: right;\n",
       "    }\n",
       "</style>\n",
       "<table border=\"1\" class=\"dataframe\">\n",
       "  <thead>\n",
       "    <tr style=\"text-align: right;\">\n",
       "      <th></th>\n",
       "      <th>quest_rk</th>\n",
       "      <th>legend_rk</th>\n",
       "      <th>location_rk</th>\n",
       "      <th>quest_nm</th>\n",
       "    </tr>\n",
       "  </thead>\n",
       "  <tbody>\n",
       "    <tr>\n",
       "      <th>0</th>\n",
       "      <td>5739</td>\n",
       "      <td>28356</td>\n",
       "      <td>3854</td>\n",
       "      <td>Человек паук - Москва</td>\n",
       "    </tr>\n",
       "    <tr>\n",
       "      <th>1</th>\n",
       "      <td>5740</td>\n",
       "      <td>28366</td>\n",
       "      <td>3861</td>\n",
       "      <td>Матрица - Екатеринбург</td>\n",
       "    </tr>\n",
       "    <tr>\n",
       "      <th>2</th>\n",
       "      <td>5741</td>\n",
       "      <td>28356</td>\n",
       "      <td>3856</td>\n",
       "      <td>Человек паук - Екатеринбург</td>\n",
       "    </tr>\n",
       "  </tbody>\n",
       "</table>\n",
       "</div>"
      ],
      "text/plain": [
       "   quest_rk  legend_rk  location_rk                     quest_nm\n",
       "0      5739      28356         3854        Человек паук - Москва\n",
       "1      5740      28366         3861       Матрица - Екатеринбург\n",
       "2      5741      28356         3856  Человек паук - Екатеринбург"
      ]
     },
     "execution_count": 17,
     "metadata": {},
     "output_type": "execute_result"
    }
   ],
   "source": [
    "quest_df = pd.read_csv(path)\n",
    "quest_df.head(3)"
   ]
  },
  {
   "cell_type": "code",
   "execution_count": 18,
   "metadata": {
    "id": "URpPmGEJm54y"
   },
   "outputs": [
    {
     "data": {
      "text/plain": [
       "35"
      ]
     },
     "execution_count": 18,
     "metadata": {},
     "output_type": "execute_result"
    }
   ],
   "source": [
    "quest_df.to_sql('quest',con,index=False,if_exists='replace')"
   ]
  },
  {
   "cell_type": "code",
   "execution_count": 19,
   "metadata": {
    "id": "kY_vmuG0tboO"
   },
   "outputs": [],
   "source": [
    "url = 'https://drive.google.com/file/d/1WhTJiE6-JGqXtdYxOKunTrJ655FF-bAk/view?usp=share_link'\n",
    "path = 'https://drive.google.com/uc?export=download&id='+url.split('/')[-2]"
   ]
  },
  {
   "cell_type": "code",
   "execution_count": 20,
   "metadata": {
    "colab": {
     "base_uri": "https://localhost:8080/",
     "height": 143
    },
    "id": "-VUMdSAPteiR",
    "outputId": "e06c2fcc-2a66-475f-a8fb-f744aa00d352"
   },
   "outputs": [
    {
     "data": {
      "text/html": [
       "<div>\n",
       "<style scoped>\n",
       "    .dataframe tbody tr th:only-of-type {\n",
       "        vertical-align: middle;\n",
       "    }\n",
       "\n",
       "    .dataframe tbody tr th {\n",
       "        vertical-align: top;\n",
       "    }\n",
       "\n",
       "    .dataframe thead th {\n",
       "        text-align: right;\n",
       "    }\n",
       "</style>\n",
       "<table border=\"1\" class=\"dataframe\">\n",
       "  <thead>\n",
       "    <tr style=\"text-align: right;\">\n",
       "      <th></th>\n",
       "      <th>game_rk</th>\n",
       "      <th>quest_rk</th>\n",
       "      <th>employee_rk</th>\n",
       "      <th>game_dttm</th>\n",
       "      <th>price</th>\n",
       "      <th>game_flg</th>\n",
       "      <th>finish_flg</th>\n",
       "      <th>time</th>\n",
       "    </tr>\n",
       "  </thead>\n",
       "  <tbody>\n",
       "    <tr>\n",
       "      <th>0</th>\n",
       "      <td>684569</td>\n",
       "      <td>5770</td>\n",
       "      <td>28475</td>\n",
       "      <td>2018-01-23 08:15:00</td>\n",
       "      <td>2400</td>\n",
       "      <td>1</td>\n",
       "      <td>1.0</td>\n",
       "      <td>50.0</td>\n",
       "    </tr>\n",
       "    <tr>\n",
       "      <th>1</th>\n",
       "      <td>699126</td>\n",
       "      <td>5743</td>\n",
       "      <td>28496</td>\n",
       "      <td>2018-02-10 12:45:00</td>\n",
       "      <td>3200</td>\n",
       "      <td>1</td>\n",
       "      <td>1.0</td>\n",
       "      <td>41.0</td>\n",
       "    </tr>\n",
       "    <tr>\n",
       "      <th>2</th>\n",
       "      <td>717582</td>\n",
       "      <td>5768</td>\n",
       "      <td>28511</td>\n",
       "      <td>2018-02-21 21:00:00</td>\n",
       "      <td>3000</td>\n",
       "      <td>1</td>\n",
       "      <td>1.0</td>\n",
       "      <td>48.0</td>\n",
       "    </tr>\n",
       "  </tbody>\n",
       "</table>\n",
       "</div>"
      ],
      "text/plain": [
       "   game_rk  quest_rk  employee_rk            game_dttm  price  game_flg  \\\n",
       "0   684569      5770        28475  2018-01-23 08:15:00   2400         1   \n",
       "1   699126      5743        28496  2018-02-10 12:45:00   3200         1   \n",
       "2   717582      5768        28511  2018-02-21 21:00:00   3000         1   \n",
       "\n",
       "   finish_flg  time  \n",
       "0         1.0  50.0  \n",
       "1         1.0  41.0  \n",
       "2         1.0  48.0  "
      ]
     },
     "execution_count": 20,
     "metadata": {},
     "output_type": "execute_result"
    }
   ],
   "source": [
    "game_df = pd.read_csv(path)\n",
    "game_df.head(3)"
   ]
  },
  {
   "cell_type": "code",
   "execution_count": 21,
   "metadata": {
    "id": "dynmykbntelz"
   },
   "outputs": [
    {
     "data": {
      "text/plain": [
       "42480"
      ]
     },
     "execution_count": 21,
     "metadata": {},
     "output_type": "execute_result"
    }
   ],
   "source": [
    "game_df.to_sql('game',con,index=False,if_exists='replace')"
   ]
  },
  {
   "cell_type": "code",
   "execution_count": 22,
   "metadata": {
    "id": "WcpE62z6nCLH"
   },
   "outputs": [],
   "source": [
    "sql = '''\t\n",
    "SELECT quest_rk,\n",
    "\t     quest_nm,\n",
    "\t     diff_mod\n",
    "FROM (\n",
    "\tSELECT\n",
    "\t\tall_table.game_dttm AS game_dt,\n",
    "\t\tall_table.quest_rk AS quest_rk,\n",
    "\t\tall_table.quest_nm AS quest_nm,\n",
    "\t\tABS(AVG(all_table.game_flg) - LAG(AVG(all_table.game_flg), 1) OVER w) AS diff_mod\n",
    "\tFROM (\n",
    "\t\t\t\tSELECT\n",
    "\t\t\t\t\tdate(r.game_dttm,'start of month')AS game_dttm,\n",
    "\t\t\t\t\tl.quest_rk,\n",
    "\t\t\t\t\tl.quest_nm,\n",
    "\t\t\t\t\tr.game_flg,\n",
    "\t\t\t\t\tr.finish_flg\n",
    "\t\t\tFROM \tquest AS l JOIN game AS r\n",
    "\t  \t\t\t\tON l.quest_rk = r.quest_rk\n",
    "\t\t\t\t) AS all_table \n",
    "\tGROUP BY quest_rk, quest_nm, game_dt\n",
    "\tWINDOW w AS (\n",
    "    \t\tPARTITION BY all_table.quest_rk\n",
    "    \t\tORDER BY all_table.game_dttm ASC\n",
    "    \t\tROWS BETWEEN UNBOUNDED PRECEDING AND CURRENT ROW)\n",
    "\tORDER BY quest_rk ASC, game_dt ASC\n",
    "\t\t ) AS XXX\n",
    "WHERE diff_mod IS NOT NULL\n",
    "ORDER BY diff_mod DESC\n",
    "LIMIT 3\n",
    "'''"
   ]
  },
  {
   "cell_type": "code",
   "execution_count": 23,
   "metadata": {
    "colab": {
     "base_uri": "https://localhost:8080/",
     "height": 143
    },
    "id": "Xb8Wa9ZDnwkj",
    "outputId": "7b83071c-b432-427c-8c0e-5ba40f78ee4a"
   },
   "outputs": [
    {
     "data": {
      "text/html": [
       "<div>\n",
       "<style scoped>\n",
       "    .dataframe tbody tr th:only-of-type {\n",
       "        vertical-align: middle;\n",
       "    }\n",
       "\n",
       "    .dataframe tbody tr th {\n",
       "        vertical-align: top;\n",
       "    }\n",
       "\n",
       "    .dataframe thead th {\n",
       "        text-align: right;\n",
       "    }\n",
       "</style>\n",
       "<table border=\"1\" class=\"dataframe\">\n",
       "  <thead>\n",
       "    <tr style=\"text-align: right;\">\n",
       "      <th></th>\n",
       "      <th>quest_rk</th>\n",
       "      <th>quest_nm</th>\n",
       "      <th>diff_mod</th>\n",
       "    </tr>\n",
       "  </thead>\n",
       "  <tbody>\n",
       "    <tr>\n",
       "      <th>0</th>\n",
       "      <td>5753</td>\n",
       "      <td>Начало - Москва</td>\n",
       "      <td>0.077573</td>\n",
       "    </tr>\n",
       "    <tr>\n",
       "      <th>1</th>\n",
       "      <td>5746</td>\n",
       "      <td>Зверополис - Москва</td>\n",
       "      <td>0.068452</td>\n",
       "    </tr>\n",
       "    <tr>\n",
       "      <th>2</th>\n",
       "      <td>5755</td>\n",
       "      <td>Крестный отец - Москва</td>\n",
       "      <td>0.066724</td>\n",
       "    </tr>\n",
       "  </tbody>\n",
       "</table>\n",
       "</div>"
      ],
      "text/plain": [
       "   quest_rk                quest_nm  diff_mod\n",
       "0      5753         Начало - Москва  0.077573\n",
       "1      5746     Зверополис - Москва  0.068452\n",
       "2      5755  Крестный отец - Москва  0.066724"
      ]
     },
     "execution_count": 23,
     "metadata": {},
     "output_type": "execute_result"
    }
   ],
   "source": [
    "select(sql)"
   ]
  },
  {
   "cell_type": "markdown",
   "metadata": {
    "id": "xF5nxVVP4l_j"
   },
   "source": [
    "**Ответ: Начало - Москва**"
   ]
  },
  {
   "cell_type": "markdown",
   "metadata": {
    "id": "zbxPH6Cq6cun"
   },
   "source": [
    "Вариант решения без оконных функций:"
   ]
  },
  {
   "cell_type": "code",
   "execution_count": 24,
   "metadata": {
    "id": "pQOk630_6WAQ"
   },
   "outputs": [],
   "source": [
    "sql = '''\t\n",
    "SELECT jan.quest_nm, abs(avg_jan - avg_feb) AS diff_mod\n",
    "From (\n",
    "  SELECT q.quest_nm, \n",
    "         avg(g.game_flg) AS avg_jan\n",
    "  FROM quest q\n",
    "       JOIN game g\n",
    "        ON q.quest_rk = g.quest_rk\n",
    "  WHERE date(g.game_dttm,'start of month') = '2018-01-01'\n",
    "  GROUP BY q.quest_nm\n",
    "  ORDER BY avg_jan DESC\n",
    "     ) AS jan\n",
    "JOIN (\n",
    "  SELECT q.quest_nm, \n",
    "         avg(g.game_flg) AS avg_feb\n",
    "  FROM quest q\n",
    "       JOIN game g\n",
    "        ON q.quest_rk = g.quest_rk\n",
    "  WHERE date(g.game_dttm,'start of month') = '2018-02-01'\n",
    "  GROUP BY q.quest_nm\n",
    "  ORDER BY avg_feb DESC\n",
    "    ) AS feb\n",
    "ON jan.quest_nm = feb.quest_nm\n",
    "GROUP BY jan.quest_nm\n",
    "ORDER BY diff_mod desc\n",
    "LIMIT 3\n",
    "'''"
   ]
  },
  {
   "cell_type": "code",
   "execution_count": 25,
   "metadata": {
    "colab": {
     "base_uri": "https://localhost:8080/",
     "height": 143
    },
    "id": "pp5JbszXJb2I",
    "outputId": "e5ed61a9-a5bb-424e-e285-73108f7a62b0"
   },
   "outputs": [
    {
     "data": {
      "text/html": [
       "<div>\n",
       "<style scoped>\n",
       "    .dataframe tbody tr th:only-of-type {\n",
       "        vertical-align: middle;\n",
       "    }\n",
       "\n",
       "    .dataframe tbody tr th {\n",
       "        vertical-align: top;\n",
       "    }\n",
       "\n",
       "    .dataframe thead th {\n",
       "        text-align: right;\n",
       "    }\n",
       "</style>\n",
       "<table border=\"1\" class=\"dataframe\">\n",
       "  <thead>\n",
       "    <tr style=\"text-align: right;\">\n",
       "      <th></th>\n",
       "      <th>quest_nm</th>\n",
       "      <th>diff_mod</th>\n",
       "    </tr>\n",
       "  </thead>\n",
       "  <tbody>\n",
       "    <tr>\n",
       "      <th>0</th>\n",
       "      <td>Начало - Москва</td>\n",
       "      <td>0.077573</td>\n",
       "    </tr>\n",
       "    <tr>\n",
       "      <th>1</th>\n",
       "      <td>Зверополис - Москва</td>\n",
       "      <td>0.068452</td>\n",
       "    </tr>\n",
       "    <tr>\n",
       "      <th>2</th>\n",
       "      <td>Крестный отец - Москва</td>\n",
       "      <td>0.066724</td>\n",
       "    </tr>\n",
       "  </tbody>\n",
       "</table>\n",
       "</div>"
      ],
      "text/plain": [
       "                 quest_nm  diff_mod\n",
       "0         Начало - Москва  0.077573\n",
       "1     Зверополис - Москва  0.068452\n",
       "2  Крестный отец - Москва  0.066724"
      ]
     },
     "execution_count": 25,
     "metadata": {},
     "output_type": "execute_result"
    }
   ],
   "source": [
    "select(sql)"
   ]
  },
  {
   "cell_type": "markdown",
   "metadata": {
    "id": "AcoWGVxBJ4P8"
   },
   "source": [
    "**Ответ: Начало - Москва**"
   ]
  },
  {
   "cell_type": "markdown",
   "metadata": {
    "id": "5kAi5swFKxGH"
   },
   "source": [
    "**3)** В каждом городе провели награждение 3х сотрудников, в чью смену среди пройденных игр оказалось самое низкое среднее время прохождения. Выпишите фамилию девушки серебряного призера. Если таких несколько, выведите первую в алфавитном порядке"
   ]
  },
  {
   "cell_type": "code",
   "execution_count": 26,
   "metadata": {
    "id": "KLQ4hVqKL5bw"
   },
   "outputs": [],
   "source": [
    "url = 'https://drive.google.com/file/d/1buaHYUQWDg3xbUDXtwfbm1Xteda8MeU-/view?usp=share_link'\n",
    "path = 'https://drive.google.com/uc?export=download&id='+url.split('/')[-2]"
   ]
  },
  {
   "cell_type": "code",
   "execution_count": 27,
   "metadata": {
    "colab": {
     "base_uri": "https://localhost:8080/",
     "height": 143
    },
    "id": "jlILmCjEL5wZ",
    "outputId": "2fe7b059-a174-46bf-e931-a31d0c5a1560"
   },
   "outputs": [
    {
     "data": {
      "text/html": [
       "<div>\n",
       "<style scoped>\n",
       "    .dataframe tbody tr th:only-of-type {\n",
       "        vertical-align: middle;\n",
       "    }\n",
       "\n",
       "    .dataframe tbody tr th {\n",
       "        vertical-align: top;\n",
       "    }\n",
       "\n",
       "    .dataframe thead th {\n",
       "        text-align: right;\n",
       "    }\n",
       "</style>\n",
       "<table border=\"1\" class=\"dataframe\">\n",
       "  <thead>\n",
       "    <tr style=\"text-align: right;\">\n",
       "      <th></th>\n",
       "      <th>employee_rk</th>\n",
       "      <th>first_name</th>\n",
       "      <th>last_name</th>\n",
       "      <th>gender_cd</th>\n",
       "    </tr>\n",
       "  </thead>\n",
       "  <tbody>\n",
       "    <tr>\n",
       "      <th>0</th>\n",
       "      <td>28454</td>\n",
       "      <td>Николас</td>\n",
       "      <td>Кейдж</td>\n",
       "      <td>m</td>\n",
       "    </tr>\n",
       "    <tr>\n",
       "      <th>1</th>\n",
       "      <td>28455</td>\n",
       "      <td>Бенедикт</td>\n",
       "      <td>Камбербэтч</td>\n",
       "      <td>m</td>\n",
       "    </tr>\n",
       "    <tr>\n",
       "      <th>2</th>\n",
       "      <td>28456</td>\n",
       "      <td>Лили</td>\n",
       "      <td>Рейнхарт</td>\n",
       "      <td>f</td>\n",
       "    </tr>\n",
       "  </tbody>\n",
       "</table>\n",
       "</div>"
      ],
      "text/plain": [
       "   employee_rk first_name   last_name gender_cd\n",
       "0        28454    Николас       Кейдж         m\n",
       "1        28455   Бенедикт  Камбербэтч         m\n",
       "2        28456       Лили    Рейнхарт         f"
      ]
     },
     "execution_count": 27,
     "metadata": {},
     "output_type": "execute_result"
    }
   ],
   "source": [
    "employee_df = pd.read_csv(path)\n",
    "employee_df.head(3)"
   ]
  },
  {
   "cell_type": "code",
   "execution_count": 28,
   "metadata": {
    "id": "G6Ew9o4SM321"
   },
   "outputs": [
    {
     "data": {
      "text/plain": [
       "69"
      ]
     },
     "execution_count": 28,
     "metadata": {},
     "output_type": "execute_result"
    }
   ],
   "source": [
    "employee_df.to_sql('employee',con,index=False,if_exists='replace')"
   ]
  },
  {
   "cell_type": "code",
   "execution_count": 31,
   "metadata": {
    "id": "Ydo99whBKtuj"
   },
   "outputs": [],
   "source": [
    "sql = '''\n",
    "WITH cte AS (\n",
    "\n",
    "SELECT \n",
    "\tall_table.city_nm AS city,\n",
    "\tall_table.employee_rk\tAS id_emp,\n",
    "\tall_table.last_name AS last_name,\n",
    "\tall_table.first_name AS first_name,\n",
    "\tall_table.gender_cd AS gender_cd,\n",
    "\tAVG(all_table.time) AS time_game_avg,\n",
    "  RANK() OVER (PARTITION BY all_table.city_nm ORDER BY AVG(all_table.time) ASC) AS rnk\n",
    "FROM (\n",
    "\t    SELECT *\n",
    "\t    FROM employee e\n",
    "\t         LEFT JOIN game g\n",
    "\t          ON e.employee_rk = g.employee_rk\n",
    "\t         LEFT JOIN quest q\n",
    "\t          ON g.quest_rk = q.quest_rk\n",
    "\t         LEFT JOIN location l\n",
    "\t          ON q.location_rk = l.location_rk\n",
    "\t   ) AS all_table\n",
    "GROUP BY city, id_emp\n",
    "ORDER BY last_name\n",
    ")\n",
    "\n",
    "SELECT * FROM cte\n",
    "WHERE rnk = 2 AND gender_cd = 'f'\n",
    "LIMIT 1\n",
    "'''"
   ]
  },
  {
   "cell_type": "code",
   "execution_count": 32,
   "metadata": {
    "colab": {
     "base_uri": "https://localhost:8080/",
     "height": 112
    },
    "id": "hiWo-mT1LRME",
    "outputId": "db1473fe-3967-4643-fcd4-193a04967408"
   },
   "outputs": [
    {
     "data": {
      "text/html": [
       "<div>\n",
       "<style scoped>\n",
       "    .dataframe tbody tr th:only-of-type {\n",
       "        vertical-align: middle;\n",
       "    }\n",
       "\n",
       "    .dataframe tbody tr th {\n",
       "        vertical-align: top;\n",
       "    }\n",
       "\n",
       "    .dataframe thead th {\n",
       "        text-align: right;\n",
       "    }\n",
       "</style>\n",
       "<table border=\"1\" class=\"dataframe\">\n",
       "  <thead>\n",
       "    <tr style=\"text-align: right;\">\n",
       "      <th></th>\n",
       "      <th>city</th>\n",
       "      <th>id_emp</th>\n",
       "      <th>last_name</th>\n",
       "      <th>first_name</th>\n",
       "      <th>gender_cd</th>\n",
       "      <th>time_game_avg</th>\n",
       "      <th>rnk</th>\n",
       "    </tr>\n",
       "  </thead>\n",
       "  <tbody>\n",
       "    <tr>\n",
       "      <th>0</th>\n",
       "      <td>Казань</td>\n",
       "      <td>28505</td>\n",
       "      <td>Буллок</td>\n",
       "      <td>Сандра</td>\n",
       "      <td>f</td>\n",
       "      <td>39.364286</td>\n",
       "      <td>2</td>\n",
       "    </tr>\n",
       "  </tbody>\n",
       "</table>\n",
       "</div>"
      ],
      "text/plain": [
       "     city  id_emp last_name first_name gender_cd  time_game_avg  rnk\n",
       "0  Казань   28505    Буллок     Сандра         f      39.364286    2"
      ]
     },
     "execution_count": 32,
     "metadata": {},
     "output_type": "execute_result"
    }
   ],
   "source": [
    "select(sql)"
   ]
  },
  {
   "cell_type": "markdown",
   "metadata": {
    "id": "BYnPh_E1XqgS"
   },
   "source": [
    "**Ответ: Булок Сандра**"
   ]
  }
 ],
 "metadata": {
  "colab": {
   "provenance": []
  },
  "kernelspec": {
   "display_name": "Python 3 (ipykernel)",
   "language": "python",
   "name": "python3"
  },
  "language_info": {
   "codemirror_mode": {
    "name": "ipython",
    "version": 3
   },
   "file_extension": ".py",
   "mimetype": "text/x-python",
   "name": "python",
   "nbconvert_exporter": "python",
   "pygments_lexer": "ipython3",
   "version": "3.10.9"
  }
 },
 "nbformat": 4,
 "nbformat_minor": 1
}
